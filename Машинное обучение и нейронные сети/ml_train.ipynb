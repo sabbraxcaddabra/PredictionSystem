{
 "cells": [
  {
   "cell_type": "code",
   "execution_count": 180,
   "id": "8f055953",
   "metadata": {},
   "outputs": [],
   "source": [
    "import pandas as pd\n",
    "import numpy as np\n",
    "\n",
    "from sklearn.preprocessing import LabelEncoder\n",
    "from sklearn.ensemble import RandomForestClassifier, GradientBoostingClassifier\n",
    "from sklearn.model_selection import train_test_split\n",
    "from sklearn.metrics import accuracy_score, precision_score, recall_score\n",
    "\n",
    "import matplotlib.pyplot as plt\n",
    "import seaborn as sns\n",
    "\n",
    "%matplotlib inline"
   ]
  },
  {
   "cell_type": "code",
   "execution_count": 181,
   "id": "2997499a",
   "metadata": {},
   "outputs": [],
   "source": [
    "df = pd.read_excel('Зачисленные 21.xlsx')\n",
    "df = df.iloc[:1950]"
   ]
  },
  {
   "cell_type": "code",
   "execution_count": 182,
   "id": "a9ebcc47",
   "metadata": {},
   "outputs": [
    {
     "data": {
      "text/html": [
       "<div>\n",
       "<style scoped>\n",
       "    .dataframe tbody tr th:only-of-type {\n",
       "        vertical-align: middle;\n",
       "    }\n",
       "\n",
       "    .dataframe tbody tr th {\n",
       "        vertical-align: top;\n",
       "    }\n",
       "\n",
       "    .dataframe thead th {\n",
       "        text-align: right;\n",
       "    }\n",
       "</style>\n",
       "<table border=\"1\" class=\"dataframe\">\n",
       "  <thead>\n",
       "    <tr style=\"text-align: right;\">\n",
       "      <th></th>\n",
       "      <th>id</th>\n",
       "      <th>Код</th>\n",
       "      <th>Наименование</th>\n",
       "      <th>Приказ</th>\n",
       "      <th>Основание/Условие</th>\n",
       "      <th>Форма</th>\n",
       "      <th>Уровень</th>\n",
       "      <th>БВИ/Право</th>\n",
       "      <th>Балл</th>\n",
       "      <th>Достижение</th>\n",
       "      <th>...</th>\n",
       "      <th>Иностранный</th>\n",
       "      <th>Тип Иностранный</th>\n",
       "      <th>Биология</th>\n",
       "      <th>Тип Биология</th>\n",
       "      <th>Экз магистратуры</th>\n",
       "      <th>Тип Экз магистратуры</th>\n",
       "      <th>Гражданство</th>\n",
       "      <th>Сумм Балл ЕГЭ</th>\n",
       "      <th>Кол-во ЕГЭ</th>\n",
       "      <th>Ср Балл ЕГЭ</th>\n",
       "    </tr>\n",
       "  </thead>\n",
       "  <tbody>\n",
       "    <tr>\n",
       "      <th>0</th>\n",
       "      <td>202101263.0</td>\n",
       "      <td>38.03.01</td>\n",
       "      <td>Экономика</td>\n",
       "      <td>191-с(к)</td>\n",
       "      <td>С оплатой обучения</td>\n",
       "      <td>Очное</td>\n",
       "      <td>Бакалавриат</td>\n",
       "      <td>нет</td>\n",
       "      <td>180.0</td>\n",
       "      <td>2.0</td>\n",
       "      <td>...</td>\n",
       "      <td>NaN</td>\n",
       "      <td>NaN</td>\n",
       "      <td>NaN</td>\n",
       "      <td>NaN</td>\n",
       "      <td>NaN</td>\n",
       "      <td>NaN</td>\n",
       "      <td>Российская Федерация</td>\n",
       "      <td>180</td>\n",
       "      <td>3</td>\n",
       "      <td>60.000000</td>\n",
       "    </tr>\n",
       "    <tr>\n",
       "      <th>1</th>\n",
       "      <td>202102484.0</td>\n",
       "      <td>38.03.01</td>\n",
       "      <td>Экономика</td>\n",
       "      <td>191-с(к)</td>\n",
       "      <td>С оплатой обучения</td>\n",
       "      <td>Очное</td>\n",
       "      <td>Бакалавриат</td>\n",
       "      <td>нет</td>\n",
       "      <td>171.0</td>\n",
       "      <td>NaN</td>\n",
       "      <td>...</td>\n",
       "      <td>NaN</td>\n",
       "      <td>NaN</td>\n",
       "      <td>NaN</td>\n",
       "      <td>NaN</td>\n",
       "      <td>NaN</td>\n",
       "      <td>NaN</td>\n",
       "      <td>Российская Федерация</td>\n",
       "      <td>171</td>\n",
       "      <td>3</td>\n",
       "      <td>57.000000</td>\n",
       "    </tr>\n",
       "    <tr>\n",
       "      <th>2</th>\n",
       "      <td>202101876.0</td>\n",
       "      <td>38.03.01</td>\n",
       "      <td>Экономика</td>\n",
       "      <td>191-с(к)</td>\n",
       "      <td>С оплатой обучения</td>\n",
       "      <td>Очное</td>\n",
       "      <td>Бакалавриат</td>\n",
       "      <td>нет</td>\n",
       "      <td>164.0</td>\n",
       "      <td>NaN</td>\n",
       "      <td>...</td>\n",
       "      <td>NaN</td>\n",
       "      <td>NaN</td>\n",
       "      <td>NaN</td>\n",
       "      <td>NaN</td>\n",
       "      <td>NaN</td>\n",
       "      <td>NaN</td>\n",
       "      <td>Российская Федерация</td>\n",
       "      <td>164</td>\n",
       "      <td>3</td>\n",
       "      <td>54.666667</td>\n",
       "    </tr>\n",
       "    <tr>\n",
       "      <th>3</th>\n",
       "      <td>202101640.0</td>\n",
       "      <td>37.05.02</td>\n",
       "      <td>Психология служебной деятельности</td>\n",
       "      <td>191-с(к)</td>\n",
       "      <td>С оплатой обучения</td>\n",
       "      <td>Очное</td>\n",
       "      <td>Специалитет</td>\n",
       "      <td>нет</td>\n",
       "      <td>177.0</td>\n",
       "      <td>2.0</td>\n",
       "      <td>...</td>\n",
       "      <td>NaN</td>\n",
       "      <td>NaN</td>\n",
       "      <td>50.0</td>\n",
       "      <td>ЕГЭ</td>\n",
       "      <td>NaN</td>\n",
       "      <td>NaN</td>\n",
       "      <td>Российская Федерация</td>\n",
       "      <td>177</td>\n",
       "      <td>3</td>\n",
       "      <td>59.000000</td>\n",
       "    </tr>\n",
       "    <tr>\n",
       "      <th>4</th>\n",
       "      <td>202101691.0</td>\n",
       "      <td>37.05.02</td>\n",
       "      <td>Психология служебной деятельности</td>\n",
       "      <td>191-с(к)</td>\n",
       "      <td>С оплатой обучения</td>\n",
       "      <td>Очное</td>\n",
       "      <td>Специалитет</td>\n",
       "      <td>нет</td>\n",
       "      <td>139.0</td>\n",
       "      <td>NaN</td>\n",
       "      <td>...</td>\n",
       "      <td>NaN</td>\n",
       "      <td>NaN</td>\n",
       "      <td>47.0</td>\n",
       "      <td>ЕГЭ</td>\n",
       "      <td>NaN</td>\n",
       "      <td>NaN</td>\n",
       "      <td>Российская Федерация</td>\n",
       "      <td>139</td>\n",
       "      <td>3</td>\n",
       "      <td>46.333333</td>\n",
       "    </tr>\n",
       "  </tbody>\n",
       "</table>\n",
       "<p>5 rows × 30 columns</p>\n",
       "</div>"
      ],
      "text/plain": [
       "            id       Код                       Наименование    Приказ  \\\n",
       "0  202101263.0  38.03.01                          Экономика  191-с(к)   \n",
       "1  202102484.0  38.03.01                          Экономика  191-с(к)   \n",
       "2  202101876.0  38.03.01                          Экономика  191-с(к)   \n",
       "3  202101640.0  37.05.02  Психология служебной деятельности  191-с(к)   \n",
       "4  202101691.0  37.05.02  Психология служебной деятельности  191-с(к)   \n",
       "\n",
       "    Основание/Условие  Форма      Уровень БВИ/Право   Балл  Достижение  ...  \\\n",
       "0  С оплатой обучения  Очное  Бакалавриат       нет  180.0         2.0  ...   \n",
       "1  С оплатой обучения  Очное  Бакалавриат       нет  171.0         NaN  ...   \n",
       "2  С оплатой обучения  Очное  Бакалавриат       нет  164.0         NaN  ...   \n",
       "3  С оплатой обучения  Очное  Специалитет       нет  177.0         2.0  ...   \n",
       "4  С оплатой обучения  Очное  Специалитет       нет  139.0         NaN  ...   \n",
       "\n",
       "   Иностранный Тип Иностранный  Биология Тип Биология  Экз магистратуры  \\\n",
       "0          NaN             NaN       NaN          NaN               NaN   \n",
       "1          NaN             NaN       NaN          NaN               NaN   \n",
       "2          NaN             NaN       NaN          NaN               NaN   \n",
       "3          NaN             NaN      50.0          ЕГЭ               NaN   \n",
       "4          NaN             NaN      47.0          ЕГЭ               NaN   \n",
       "\n",
       "  Тип Экз магистратуры           Гражданство Сумм Балл ЕГЭ  Кол-во ЕГЭ  \\\n",
       "0                  NaN  Российская Федерация           180           3   \n",
       "1                  NaN  Российская Федерация           171           3   \n",
       "2                  NaN  Российская Федерация           164           3   \n",
       "3                  NaN  Российская Федерация           177           3   \n",
       "4                  NaN  Российская Федерация           139           3   \n",
       "\n",
       "  Ср Балл ЕГЭ  \n",
       "0   60.000000  \n",
       "1   57.000000  \n",
       "2   54.666667  \n",
       "3   59.000000  \n",
       "4   46.333333  \n",
       "\n",
       "[5 rows x 30 columns]"
      ]
     },
     "execution_count": 182,
     "metadata": {},
     "output_type": "execute_result"
    }
   ],
   "source": [
    "df.head()"
   ]
  },
  {
   "cell_type": "code",
   "execution_count": 183,
   "id": "75b38500",
   "metadata": {},
   "outputs": [],
   "source": [
    "df = df.loc[(df['Основание/Условие']=='С оплатой обучения') | (df['Основание/Условие']=='Основные места')]"
   ]
  },
  {
   "cell_type": "code",
   "execution_count": 184,
   "id": "a63491fa",
   "metadata": {},
   "outputs": [],
   "source": [
    "df = df.loc[:, ['Форма', 'Код', 'Основание/Условие', 'Балл']]"
   ]
  },
  {
   "cell_type": "code",
   "execution_count": 185,
   "id": "2d344d57",
   "metadata": {},
   "outputs": [
    {
     "data": {
      "text/html": [
       "<div>\n",
       "<style scoped>\n",
       "    .dataframe tbody tr th:only-of-type {\n",
       "        vertical-align: middle;\n",
       "    }\n",
       "\n",
       "    .dataframe tbody tr th {\n",
       "        vertical-align: top;\n",
       "    }\n",
       "\n",
       "    .dataframe thead th {\n",
       "        text-align: right;\n",
       "    }\n",
       "</style>\n",
       "<table border=\"1\" class=\"dataframe\">\n",
       "  <thead>\n",
       "    <tr style=\"text-align: right;\">\n",
       "      <th></th>\n",
       "      <th>Форма</th>\n",
       "      <th>Код</th>\n",
       "      <th>Основание/Условие</th>\n",
       "      <th>Балл</th>\n",
       "    </tr>\n",
       "  </thead>\n",
       "  <tbody>\n",
       "    <tr>\n",
       "      <th>0</th>\n",
       "      <td>Очное</td>\n",
       "      <td>38.03.01</td>\n",
       "      <td>С оплатой обучения</td>\n",
       "      <td>180.0</td>\n",
       "    </tr>\n",
       "    <tr>\n",
       "      <th>1</th>\n",
       "      <td>Очное</td>\n",
       "      <td>38.03.01</td>\n",
       "      <td>С оплатой обучения</td>\n",
       "      <td>171.0</td>\n",
       "    </tr>\n",
       "    <tr>\n",
       "      <th>2</th>\n",
       "      <td>Очное</td>\n",
       "      <td>38.03.01</td>\n",
       "      <td>С оплатой обучения</td>\n",
       "      <td>164.0</td>\n",
       "    </tr>\n",
       "    <tr>\n",
       "      <th>3</th>\n",
       "      <td>Очное</td>\n",
       "      <td>37.05.02</td>\n",
       "      <td>С оплатой обучения</td>\n",
       "      <td>177.0</td>\n",
       "    </tr>\n",
       "    <tr>\n",
       "      <th>4</th>\n",
       "      <td>Очное</td>\n",
       "      <td>37.05.02</td>\n",
       "      <td>С оплатой обучения</td>\n",
       "      <td>139.0</td>\n",
       "    </tr>\n",
       "  </tbody>\n",
       "</table>\n",
       "</div>"
      ],
      "text/plain": [
       "   Форма       Код   Основание/Условие   Балл\n",
       "0  Очное  38.03.01  С оплатой обучения  180.0\n",
       "1  Очное  38.03.01  С оплатой обучения  171.0\n",
       "2  Очное  38.03.01  С оплатой обучения  164.0\n",
       "3  Очное  37.05.02  С оплатой обучения  177.0\n",
       "4  Очное  37.05.02  С оплатой обучения  139.0"
      ]
     },
     "execution_count": 185,
     "metadata": {},
     "output_type": "execute_result"
    }
   ],
   "source": [
    "df.head()"
   ]
  },
  {
   "cell_type": "code",
   "execution_count": 186,
   "id": "88a12f43",
   "metadata": {},
   "outputs": [],
   "source": [
    "y = pd.factorize(df['Основание/Условие'])[0]\n",
    "X = df.drop(labels=['Основание/Условие'], axis=1)"
   ]
  },
  {
   "cell_type": "code",
   "execution_count": 187,
   "id": "18e60fdd",
   "metadata": {},
   "outputs": [
    {
     "data": {
      "text/plain": [
       "array([0, 0, 0, ..., 0, 0, 0], dtype=int64)"
      ]
     },
     "execution_count": 187,
     "metadata": {},
     "output_type": "execute_result"
    }
   ],
   "source": [
    "y"
   ]
  },
  {
   "cell_type": "code",
   "execution_count": 188,
   "id": "aeedd348",
   "metadata": {},
   "outputs": [],
   "source": [
    "enc = LabelEncoder()\n",
    "X['Код'] = enc.fit_transform(X['Код'])\n",
    "X['Форма'] = enc.fit_transform(X['Форма'])"
   ]
  },
  {
   "cell_type": "code",
   "execution_count": 190,
   "id": "d3347614",
   "metadata": {},
   "outputs": [],
   "source": [
    "clf = GradientBoostingClassifier()"
   ]
  },
  {
   "cell_type": "code",
   "execution_count": 191,
   "id": "84801092",
   "metadata": {},
   "outputs": [],
   "source": [
    "X_train, X_test, y_train, y_test = train_test_split(X.to_numpy(), y, test_size=0.5, random_state=42)"
   ]
  },
  {
   "cell_type": "code",
   "execution_count": 192,
   "id": "b1b1678a",
   "metadata": {},
   "outputs": [
    {
     "data": {
      "text/plain": [
       "GradientBoostingClassifier()"
      ]
     },
     "execution_count": 192,
     "metadata": {},
     "output_type": "execute_result"
    }
   ],
   "source": [
    "clf.fit(X_train, y_train)"
   ]
  },
  {
   "cell_type": "code",
   "execution_count": 193,
   "id": "8c65121c",
   "metadata": {},
   "outputs": [],
   "source": [
    "y_pred = clf.predict(X_test)"
   ]
  },
  {
   "cell_type": "code",
   "execution_count": 194,
   "id": "9859f2d6",
   "metadata": {},
   "outputs": [
    {
     "data": {
      "text/plain": [
       "0.9657534246575342"
      ]
     },
     "execution_count": 194,
     "metadata": {},
     "output_type": "execute_result"
    }
   ],
   "source": [
    "accuracy_score(y_test, y_pred)"
   ]
  },
  {
   "cell_type": "code",
   "execution_count": 195,
   "id": "c7b0782a",
   "metadata": {},
   "outputs": [
    {
     "data": {
      "text/plain": [
       "0.9660678642714571"
      ]
     },
     "execution_count": 195,
     "metadata": {},
     "output_type": "execute_result"
    }
   ],
   "source": [
    "precision_score(y_test, y_pred)"
   ]
  },
  {
   "cell_type": "code",
   "execution_count": 196,
   "id": "5a39b81b",
   "metadata": {},
   "outputs": [
    {
     "data": {
      "text/plain": [
       "0.9738430583501007"
      ]
     },
     "execution_count": 196,
     "metadata": {},
     "output_type": "execute_result"
    }
   ],
   "source": [
    "recall_score(y_test, y_pred)"
   ]
  },
  {
   "cell_type": "code",
   "execution_count": null,
   "id": "c6944594",
   "metadata": {},
   "outputs": [],
   "source": [
    "recall_score(y_test)"
   ]
  }
 ],
 "metadata": {
  "kernelspec": {
   "display_name": "Python 3 (ipykernel)",
   "language": "python",
   "name": "python3"
  },
  "language_info": {
   "codemirror_mode": {
    "name": "ipython",
    "version": 3
   },
   "file_extension": ".py",
   "mimetype": "text/x-python",
   "name": "python",
   "nbconvert_exporter": "python",
   "pygments_lexer": "ipython3",
   "version": "3.9.7"
  }
 },
 "nbformat": 4,
 "nbformat_minor": 5
}
