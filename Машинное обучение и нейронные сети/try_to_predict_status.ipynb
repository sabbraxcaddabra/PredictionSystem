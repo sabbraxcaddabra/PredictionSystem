{
 "cells": [
  {
   "cell_type": "code",
   "execution_count": 2,
   "id": "fba3d1f4",
   "metadata": {},
   "outputs": [
    {
     "name": "stderr",
     "output_type": "stream",
     "text": [
      "C:\\Users\\alway\\anaconda3\\envs\\ml_ds_nn_evn\\lib\\site-packages\\xgboost\\compat.py:36: FutureWarning: pandas.Int64Index is deprecated and will be removed from pandas in a future version. Use pandas.Index with the appropriate dtype instead.\n",
      "  from pandas import MultiIndex, Int64Index\n"
     ]
    }
   ],
   "source": [
    "import numpy as np\n",
    "import pandas as pd\n",
    "import sklearn\n",
    "import xgboost as xgb\n",
    "import matplotlib.pyplot as plt\n",
    "import seaborn as sns\n",
    "import scipy.stats as st\n",
    "\n",
    "import os\n",
    "sns.set()\n",
    "%matplotlib inline"
   ]
  },
  {
   "cell_type": "code",
   "execution_count": 4,
   "id": "1554d7d4",
   "metadata": {},
   "outputs": [],
   "source": [
    "df = pd.read_csv('../Данные/out_w_date_an_orig.csv', parse_dates=True)\n",
    "df['add_time'] = pd.to_datetime(df['add_time'], format='%Y-%m-%d')"
   ]
  },
  {
   "cell_type": "code",
   "execution_count": 5,
   "id": "49866a96",
   "metadata": {},
   "outputs": [
    {
     "data": {
      "text/plain": [
       "abiturient_id    0\n",
       "status           0\n",
       "add_time         0\n",
       "id               0\n",
       "name             0\n",
       "true             0\n",
       "ex               0\n",
       "point            0\n",
       "eduform_id       0\n",
       "fintype_id       0\n",
       "dtype: int64"
      ]
     },
     "execution_count": 5,
     "metadata": {},
     "output_type": "execute_result"
    }
   ],
   "source": [
    "df.isna().sum()"
   ]
  },
  {
   "cell_type": "code",
   "execution_count": 6,
   "id": "54b495f8",
   "metadata": {},
   "outputs": [
    {
     "data": {
      "text/plain": [
       "abiturient_id             int64\n",
       "status                    int64\n",
       "add_time         datetime64[ns]\n",
       "id                        int64\n",
       "name                     object\n",
       "true                      int64\n",
       "ex                       object\n",
       "point                    object\n",
       "eduform_id                int64\n",
       "fintype_id                int64\n",
       "dtype: object"
      ]
     },
     "execution_count": 6,
     "metadata": {},
     "output_type": "execute_result"
    }
   ],
   "source": [
    "df.dtypes"
   ]
  },
  {
   "cell_type": "code",
   "execution_count": 7,
   "id": "7762ffeb",
   "metadata": {},
   "outputs": [],
   "source": [
    "df['point_mean'] = df['point'].apply(lambda x: sum(map(int, x.split(',')))/len(x.split(',')))\n",
    "df['point_sum'] = df['point'].apply(lambda x: sum(map(int, x.split(','))))\n",
    "df = df[df['point_mean'] > 0].reset_index(drop=True)"
   ]
  },
  {
   "cell_type": "code",
   "execution_count": 8,
   "id": "da1fee5f",
   "metadata": {},
   "outputs": [
    {
     "data": {
      "text/html": [
       "<div>\n",
       "<style scoped>\n",
       "    .dataframe tbody tr th:only-of-type {\n",
       "        vertical-align: middle;\n",
       "    }\n",
       "\n",
       "    .dataframe tbody tr th {\n",
       "        vertical-align: top;\n",
       "    }\n",
       "\n",
       "    .dataframe thead th {\n",
       "        text-align: right;\n",
       "    }\n",
       "</style>\n",
       "<table border=\"1\" class=\"dataframe\">\n",
       "  <thead>\n",
       "    <tr style=\"text-align: right;\">\n",
       "      <th></th>\n",
       "      <th>abiturient_id</th>\n",
       "      <th>status</th>\n",
       "      <th>add_time</th>\n",
       "      <th>id</th>\n",
       "      <th>name</th>\n",
       "      <th>true</th>\n",
       "      <th>ex</th>\n",
       "      <th>point</th>\n",
       "      <th>eduform_id</th>\n",
       "      <th>fintype_id</th>\n",
       "      <th>point_mean</th>\n",
       "      <th>point_sum</th>\n",
       "    </tr>\n",
       "  </thead>\n",
       "  <tbody>\n",
       "    <tr>\n",
       "      <th>0</th>\n",
       "      <td>202100008</td>\n",
       "      <td>1</td>\n",
       "      <td>2021-04-09</td>\n",
       "      <td>11</td>\n",
       "      <td>Машиностроение</td>\n",
       "      <td>1</td>\n",
       "      <td>Математика,Физика,Русский язык</td>\n",
       "      <td>74,55,72</td>\n",
       "      <td>2</td>\n",
       "      <td>2</td>\n",
       "      <td>67.000000</td>\n",
       "      <td>201</td>\n",
       "    </tr>\n",
       "    <tr>\n",
       "      <th>1</th>\n",
       "      <td>202100009</td>\n",
       "      <td>1</td>\n",
       "      <td>2021-04-22</td>\n",
       "      <td>3</td>\n",
       "      <td>Программная инженерия</td>\n",
       "      <td>1</td>\n",
       "      <td>Математика,Информатика и ИКТ,Русский язык</td>\n",
       "      <td>98,88,59</td>\n",
       "      <td>2</td>\n",
       "      <td>2</td>\n",
       "      <td>81.666667</td>\n",
       "      <td>245</td>\n",
       "    </tr>\n",
       "    <tr>\n",
       "      <th>2</th>\n",
       "      <td>202100622</td>\n",
       "      <td>1</td>\n",
       "      <td>2021-06-24</td>\n",
       "      <td>33</td>\n",
       "      <td>Проектирование авиационных и ракетных двигателей</td>\n",
       "      <td>0</td>\n",
       "      <td>Математика,Физика,Русский язык</td>\n",
       "      <td>72,51,76</td>\n",
       "      <td>1</td>\n",
       "      <td>1</td>\n",
       "      <td>66.333333</td>\n",
       "      <td>199</td>\n",
       "    </tr>\n",
       "    <tr>\n",
       "      <th>3</th>\n",
       "      <td>202100622</td>\n",
       "      <td>1</td>\n",
       "      <td>2021-06-24</td>\n",
       "      <td>18</td>\n",
       "      <td>Ракетные комплексы и космонавтика</td>\n",
       "      <td>0</td>\n",
       "      <td>Математика,Физика,Русский язык</td>\n",
       "      <td>72,51,76</td>\n",
       "      <td>1</td>\n",
       "      <td>1</td>\n",
       "      <td>66.333333</td>\n",
       "      <td>199</td>\n",
       "    </tr>\n",
       "    <tr>\n",
       "      <th>4</th>\n",
       "      <td>202100622</td>\n",
       "      <td>1</td>\n",
       "      <td>2021-06-24</td>\n",
       "      <td>32</td>\n",
       "      <td>Проектирование, производство и эксплуатация ра...</td>\n",
       "      <td>0</td>\n",
       "      <td>Математика,Физика,Русский язык</td>\n",
       "      <td>72,51,76</td>\n",
       "      <td>1</td>\n",
       "      <td>1</td>\n",
       "      <td>66.333333</td>\n",
       "      <td>199</td>\n",
       "    </tr>\n",
       "  </tbody>\n",
       "</table>\n",
       "</div>"
      ],
      "text/plain": [
       "   abiturient_id  status   add_time  id  \\\n",
       "0      202100008       1 2021-04-09  11   \n",
       "1      202100009       1 2021-04-22   3   \n",
       "2      202100622       1 2021-06-24  33   \n",
       "3      202100622       1 2021-06-24  18   \n",
       "4      202100622       1 2021-06-24  32   \n",
       "\n",
       "                                                name  true  \\\n",
       "0                                     Машиностроение     1   \n",
       "1                              Программная инженерия     1   \n",
       "2   Проектирование авиационных и ракетных двигателей     0   \n",
       "3                  Ракетные комплексы и космонавтика     0   \n",
       "4  Проектирование, производство и эксплуатация ра...     0   \n",
       "\n",
       "                                          ex     point  eduform_id  \\\n",
       "0             Математика,Физика,Русский язык  74,55,72           2   \n",
       "1  Математика,Информатика и ИКТ,Русский язык  98,88,59           2   \n",
       "2             Математика,Физика,Русский язык  72,51,76           1   \n",
       "3             Математика,Физика,Русский язык  72,51,76           1   \n",
       "4             Математика,Физика,Русский язык  72,51,76           1   \n",
       "\n",
       "   fintype_id  point_mean  point_sum  \n",
       "0           2   67.000000        201  \n",
       "1           2   81.666667        245  \n",
       "2           1   66.333333        199  \n",
       "3           1   66.333333        199  \n",
       "4           1   66.333333        199  "
      ]
     },
     "execution_count": 8,
     "metadata": {},
     "output_type": "execute_result"
    }
   ],
   "source": [
    "df.head()"
   ]
  },
  {
   "cell_type": "code",
   "execution_count": 9,
   "id": "9ab25104",
   "metadata": {},
   "outputs": [
    {
     "data": {
      "text/plain": [
       "1    0.974383\n",
       "2    0.015615\n",
       "3    0.010002\n",
       "Name: eduform_id, dtype: float64"
      ]
     },
     "execution_count": 9,
     "metadata": {},
     "output_type": "execute_result"
    }
   ],
   "source": [
    "pd.value_counts(df['eduform_id'], normalize=True)"
   ]
  },
  {
   "cell_type": "code",
   "execution_count": 10,
   "id": "fba63757",
   "metadata": {},
   "outputs": [
    {
     "data": {
      "text/plain": [
       "1    0.739743\n",
       "2    0.260257\n",
       "Name: fintype_id, dtype: float64"
      ]
     },
     "execution_count": 10,
     "metadata": {},
     "output_type": "execute_result"
    }
   ],
   "source": [
    "pd.value_counts(df['fintype_id'], normalize=True)"
   ]
  },
  {
   "cell_type": "code",
   "execution_count": 11,
   "id": "af4501b8",
   "metadata": {},
   "outputs": [],
   "source": [
    "df = df[(df['fintype_id'] == 1) & (df['eduform_id'] == 1)].reset_index(drop=True)"
   ]
  },
  {
   "cell_type": "code",
   "execution_count": 12,
   "id": "7f070a17",
   "metadata": {},
   "outputs": [
    {
     "data": {
      "text/plain": [
       "abiturient_id    0\n",
       "status           0\n",
       "add_time         0\n",
       "id               0\n",
       "name             0\n",
       "true             0\n",
       "ex               0\n",
       "point            0\n",
       "eduform_id       0\n",
       "fintype_id       0\n",
       "point_mean       0\n",
       "point_sum        0\n",
       "dtype: int64"
      ]
     },
     "execution_count": 12,
     "metadata": {},
     "output_type": "execute_result"
    }
   ],
   "source": [
    "df.isna().sum()"
   ]
  },
  {
   "cell_type": "code",
   "execution_count": 13,
   "id": "ba9e1990",
   "metadata": {},
   "outputs": [
    {
     "data": {
      "text/plain": [
       "<AxesSubplot:xlabel='true', ylabel='point_mean'>"
      ]
     },
     "execution_count": 13,
     "metadata": {},
     "output_type": "execute_result"
    },
    {
     "data": {
      "image/png": "[encoded data removed]",
      "text/plain": [
       "<Figure size 864x648 with 1 Axes>"
      ]
     },
     "metadata": {
      "needs_background": "light"
     },
     "output_type": "display_data"
    }
   ],
   "source": [
    "fig, ax = plt.subplots(figsize=(12, 9))\n",
    "sns.boxplot(data=df, x='true', y='point_mean', ax=ax)"
   ]
  },
  {
   "cell_type": "code",
   "execution_count": 14,
   "id": "faf904cb",
   "metadata": {},
   "outputs": [
    {
     "data": {
      "text/plain": [
       "1    0.626242\n",
       "0    0.373758\n",
       "Name: status, dtype: float64"
      ]
     },
     "execution_count": 14,
     "metadata": {},
     "output_type": "execute_result"
    }
   ],
   "source": [
    "pd.value_counts(df['status'], normalize=True)"
   ]
  },
  {
   "cell_type": "code",
   "execution_count": 15,
   "id": "d5a2d077",
   "metadata": {},
   "outputs": [
    {
     "data": {
      "text/plain": [
       "0    0.850855\n",
       "1    0.149145\n",
       "Name: true, dtype: float64"
      ]
     },
     "execution_count": 15,
     "metadata": {},
     "output_type": "execute_result"
    }
   ],
   "source": [
    "pd.value_counts(df['true'], normalize=True)"
   ]
  },
  {
   "cell_type": "code",
   "execution_count": 16,
   "id": "1b076a26",
   "metadata": {},
   "outputs": [],
   "source": [
    "gdf_mean = df.groupby(['name']).agg({'point_mean': ['mean'],\n",
    "                                    }).transpose()"
   ]
  },
  {
   "cell_type": "code",
   "execution_count": 17,
   "id": "b043f66b",
   "metadata": {},
   "outputs": [
    {
     "data": {
      "text/html": [
       "<div>\n",
       "<style scoped>\n",
       "    .dataframe tbody tr th:only-of-type {\n",
       "        vertical-align: middle;\n",
       "    }\n",
       "\n",
       "    .dataframe tbody tr th {\n",
       "        vertical-align: top;\n",
       "    }\n",
       "\n",
       "    .dataframe thead th {\n",
       "        text-align: right;\n",
       "    }\n",
       "</style>\n",
       "<table border=\"1\" class=\"dataframe\">\n",
       "  <thead>\n",
       "    <tr style=\"text-align: right;\">\n",
       "      <th></th>\n",
       "      <th>name</th>\n",
       "      <th>Баллистика и гидроаэродинамика</th>\n",
       "      <th>Боеприпасы и взрыватели</th>\n",
       "      <th>Двигатели летательных аппаратов</th>\n",
       "      <th>Интегрированные системы летательных аппаратов</th>\n",
       "      <th>Информатика и вычислительная техника</th>\n",
       "      <th>Информационные системы и технологии</th>\n",
       "      <th>Конструкторско-технологическое обеспечение машиностроительных производств</th>\n",
       "      <th>Лазерная техника и лазерные технологии</th>\n",
       "      <th>Машиностроение</th>\n",
       "      <th>Мехатроника и робототехника</th>\n",
       "      <th>...</th>\n",
       "      <th>Ракетные комплексы и космонавтика</th>\n",
       "      <th>Системы управления летательными аппаратами</th>\n",
       "      <th>Специальные организационно-технические системы</th>\n",
       "      <th>Стандартизация и метрология</th>\n",
       "      <th>Стрелково-пушечное, артиллерийское и ракетное оружие</th>\n",
       "      <th>Теплоэнергетика и теплотехника</th>\n",
       "      <th>Технологические машины и оборудование</th>\n",
       "      <th>Управление в технических системах</th>\n",
       "      <th>Фотоника и оптоинформатика</th>\n",
       "      <th>Энергетическое машиностроение</th>\n",
       "    </tr>\n",
       "  </thead>\n",
       "  <tbody>\n",
       "    <tr>\n",
       "      <th>point_mean</th>\n",
       "      <th>mean</th>\n",
       "      <td>64.649691</td>\n",
       "      <td>63.639698</td>\n",
       "      <td>68.84887</td>\n",
       "      <td>74.47651</td>\n",
       "      <td>75.485003</td>\n",
       "      <td>75.24878</td>\n",
       "      <td>64.228632</td>\n",
       "      <td>70.050562</td>\n",
       "      <td>66.64539</td>\n",
       "      <td>71.998544</td>\n",
       "      <td>...</td>\n",
       "      <td>69.665808</td>\n",
       "      <td>73.564394</td>\n",
       "      <td>67.136752</td>\n",
       "      <td>65.2625</td>\n",
       "      <td>64.923977</td>\n",
       "      <td>68.910714</td>\n",
       "      <td>62.908463</td>\n",
       "      <td>68.25974</td>\n",
       "      <td>75.678657</td>\n",
       "      <td>67.090909</td>\n",
       "    </tr>\n",
       "  </tbody>\n",
       "</table>\n",
       "<p>1 rows × 29 columns</p>\n",
       "</div>"
      ],
      "text/plain": [
       "name             Баллистика и гидроаэродинамика  Боеприпасы и взрыватели  \\\n",
       "point_mean mean                       64.649691                63.639698   \n",
       "\n",
       "name             Двигатели летательных аппаратов  \\\n",
       "point_mean mean                         68.84887   \n",
       "\n",
       "name             Интегрированные системы летательных аппаратов  \\\n",
       "point_mean mean                                       74.47651   \n",
       "\n",
       "name             Информатика и вычислительная техника  \\\n",
       "point_mean mean                             75.485003   \n",
       "\n",
       "name             Информационные системы и технологии  \\\n",
       "point_mean mean                             75.24878   \n",
       "\n",
       "name             Конструкторско-технологическое обеспечение машиностроительных производств  \\\n",
       "point_mean mean                                          64.228632                           \n",
       "\n",
       "name             Лазерная техника и лазерные технологии  Машиностроение  \\\n",
       "point_mean mean                               70.050562        66.64539   \n",
       "\n",
       "name             Мехатроника и робототехника  ...  \\\n",
       "point_mean mean                    71.998544  ...   \n",
       "\n",
       "name             Ракетные комплексы и космонавтика  \\\n",
       "point_mean mean                          69.665808   \n",
       "\n",
       "name             Системы управления летательными аппаратами  \\\n",
       "point_mean mean                                   73.564394   \n",
       "\n",
       "name             Специальные организационно-технические системы  \\\n",
       "point_mean mean                                       67.136752   \n",
       "\n",
       "name             Стандартизация и метрология  \\\n",
       "point_mean mean                      65.2625   \n",
       "\n",
       "name             Стрелково-пушечное, артиллерийское и ракетное оружие  \\\n",
       "point_mean mean                                          64.923977      \n",
       "\n",
       "name             Теплоэнергетика и теплотехника  \\\n",
       "point_mean mean                       68.910714   \n",
       "\n",
       "name             Технологические машины и оборудование  \\\n",
       "point_mean mean                              62.908463   \n",
       "\n",
       "name             Управление в технических системах  \\\n",
       "point_mean mean                           68.25974   \n",
       "\n",
       "name             Фотоника и оптоинформатика  Энергетическое машиностроение  \n",
       "point_mean mean                   75.678657                      67.090909  \n",
       "\n",
       "[1 rows x 29 columns]"
      ]
     },
     "execution_count": 17,
     "metadata": {},
     "output_type": "execute_result"
    }
   ],
   "source": [
    "gdf_mean"
   ]
  },
  {
   "cell_type": "code",
   "execution_count": 18,
   "id": "4dbc6aae",
   "metadata": {},
   "outputs": [],
   "source": [
    "df['spec_mean_point'] = [gdf_mean[df.iloc[i]['name']][0] for i in range(df.shape[0])]"
   ]
  },
  {
   "cell_type": "code",
   "execution_count": 19,
   "id": "89ef0a0e",
   "metadata": {},
   "outputs": [
    {
     "data": {
      "text/html": [
       "<div>\n",
       "<style scoped>\n",
       "    .dataframe tbody tr th:only-of-type {\n",
       "        vertical-align: middle;\n",
       "    }\n",
       "\n",
       "    .dataframe tbody tr th {\n",
       "        vertical-align: top;\n",
       "    }\n",
       "\n",
       "    .dataframe thead th {\n",
       "        text-align: right;\n",
       "    }\n",
       "</style>\n",
       "<table border=\"1\" class=\"dataframe\">\n",
       "  <thead>\n",
       "    <tr style=\"text-align: right;\">\n",
       "      <th></th>\n",
       "      <th>abiturient_id</th>\n",
       "      <th>status</th>\n",
       "      <th>add_time</th>\n",
       "      <th>id</th>\n",
       "      <th>name</th>\n",
       "      <th>true</th>\n",
       "      <th>ex</th>\n",
       "      <th>point</th>\n",
       "      <th>eduform_id</th>\n",
       "      <th>fintype_id</th>\n",
       "      <th>point_mean</th>\n",
       "      <th>point_sum</th>\n",
       "      <th>spec_mean_point</th>\n",
       "    </tr>\n",
       "  </thead>\n",
       "  <tbody>\n",
       "    <tr>\n",
       "      <th>0</th>\n",
       "      <td>202100622</td>\n",
       "      <td>1</td>\n",
       "      <td>2021-06-24</td>\n",
       "      <td>33</td>\n",
       "      <td>Проектирование авиационных и ракетных двигателей</td>\n",
       "      <td>0</td>\n",
       "      <td>Математика,Физика,Русский язык</td>\n",
       "      <td>72,51,76</td>\n",
       "      <td>1</td>\n",
       "      <td>1</td>\n",
       "      <td>66.333333</td>\n",
       "      <td>199</td>\n",
       "      <td>67.647911</td>\n",
       "    </tr>\n",
       "    <tr>\n",
       "      <th>1</th>\n",
       "      <td>202100622</td>\n",
       "      <td>1</td>\n",
       "      <td>2021-06-24</td>\n",
       "      <td>18</td>\n",
       "      <td>Ракетные комплексы и космонавтика</td>\n",
       "      <td>0</td>\n",
       "      <td>Математика,Физика,Русский язык</td>\n",
       "      <td>72,51,76</td>\n",
       "      <td>1</td>\n",
       "      <td>1</td>\n",
       "      <td>66.333333</td>\n",
       "      <td>199</td>\n",
       "      <td>69.665808</td>\n",
       "    </tr>\n",
       "    <tr>\n",
       "      <th>2</th>\n",
       "      <td>202100622</td>\n",
       "      <td>1</td>\n",
       "      <td>2021-06-24</td>\n",
       "      <td>32</td>\n",
       "      <td>Проектирование, производство и эксплуатация ра...</td>\n",
       "      <td>0</td>\n",
       "      <td>Математика,Физика,Русский язык</td>\n",
       "      <td>72,51,76</td>\n",
       "      <td>1</td>\n",
       "      <td>1</td>\n",
       "      <td>66.333333</td>\n",
       "      <td>199</td>\n",
       "      <td>69.914573</td>\n",
       "    </tr>\n",
       "    <tr>\n",
       "      <th>3</th>\n",
       "      <td>202100622</td>\n",
       "      <td>1</td>\n",
       "      <td>2021-06-24</td>\n",
       "      <td>8</td>\n",
       "      <td>Лазерная техника и лазерные технологии</td>\n",
       "      <td>0</td>\n",
       "      <td>Математика,Физика,Русский язык</td>\n",
       "      <td>72,51,76</td>\n",
       "      <td>1</td>\n",
       "      <td>1</td>\n",
       "      <td>66.333333</td>\n",
       "      <td>199</td>\n",
       "      <td>70.050562</td>\n",
       "    </tr>\n",
       "    <tr>\n",
       "      <th>4</th>\n",
       "      <td>202100622</td>\n",
       "      <td>1</td>\n",
       "      <td>2021-06-24</td>\n",
       "      <td>6</td>\n",
       "      <td>Оптотехника</td>\n",
       "      <td>0</td>\n",
       "      <td>Математика,Физика,Русский язык</td>\n",
       "      <td>72,51,76</td>\n",
       "      <td>1</td>\n",
       "      <td>1</td>\n",
       "      <td>66.333333</td>\n",
       "      <td>199</td>\n",
       "      <td>65.981352</td>\n",
       "    </tr>\n",
       "  </tbody>\n",
       "</table>\n",
       "</div>"
      ],
      "text/plain": [
       "   abiturient_id  status   add_time  id  \\\n",
       "0      202100622       1 2021-06-24  33   \n",
       "1      202100622       1 2021-06-24  18   \n",
       "2      202100622       1 2021-06-24  32   \n",
       "3      202100622       1 2021-06-24   8   \n",
       "4      202100622       1 2021-06-24   6   \n",
       "\n",
       "                                                name  true  \\\n",
       "0   Проектирование авиационных и ракетных двигателей     0   \n",
       "1                  Ракетные комплексы и космонавтика     0   \n",
       "2  Проектирование, производство и эксплуатация ра...     0   \n",
       "3             Лазерная техника и лазерные технологии     0   \n",
       "4                                        Оптотехника     0   \n",
       "\n",
       "                               ex     point  eduform_id  fintype_id  \\\n",
       "0  Математика,Физика,Русский язык  72,51,76           1           1   \n",
       "1  Математика,Физика,Русский язык  72,51,76           1           1   \n",
       "2  Математика,Физика,Русский язык  72,51,76           1           1   \n",
       "3  Математика,Физика,Русский язык  72,51,76           1           1   \n",
       "4  Математика,Физика,Русский язык  72,51,76           1           1   \n",
       "\n",
       "   point_mean  point_sum  spec_mean_point  \n",
       "0   66.333333        199        67.647911  \n",
       "1   66.333333        199        69.665808  \n",
       "2   66.333333        199        69.914573  \n",
       "3   66.333333        199        70.050562  \n",
       "4   66.333333        199        65.981352  "
      ]
     },
     "execution_count": 19,
     "metadata": {},
     "output_type": "execute_result"
    }
   ],
   "source": [
    "df.head()"
   ]
  },
  {
   "cell_type": "code",
   "execution_count": 20,
   "id": "5de95e9b",
   "metadata": {},
   "outputs": [],
   "source": [
    "df['bal_above_id'] = 0"
   ]
  },
  {
   "cell_type": "code",
   "execution_count": 21,
   "id": "4a1f214f",
   "metadata": {
    "scrolled": false
   },
   "outputs": [],
   "source": [
    "for i in range(df.shape[0]):\n",
    "    row = df.iloc[i]\n",
    "    df.loc[i, ['bal_above_id']] = df[(df['name'] == row['name']) & (df['point_sum'] >= row['point_sum'])].shape[0]"
   ]
  },
  {
   "cell_type": "code",
   "execution_count": 22,
   "id": "f7bb7c0b",
   "metadata": {},
   "outputs": [
    {
     "data": {
      "text/plain": [
       "abiturient_id      0\n",
       "status             0\n",
       "add_time           0\n",
       "id                 0\n",
       "name               0\n",
       "true               0\n",
       "ex                 0\n",
       "point              0\n",
       "eduform_id         0\n",
       "fintype_id         0\n",
       "point_mean         0\n",
       "point_sum          0\n",
       "spec_mean_point    0\n",
       "bal_above_id       0\n",
       "dtype: int64"
      ]
     },
     "execution_count": 22,
     "metadata": {},
     "output_type": "execute_result"
    }
   ],
   "source": [
    "df.isna().sum()"
   ]
  },
  {
   "cell_type": "code",
   "execution_count": 23,
   "id": "2bfbd38c",
   "metadata": {},
   "outputs": [
    {
     "data": {
      "text/plain": [
       "<AxesSubplot:xlabel='true', ylabel='bal_above_id'>"
      ]
     },
     "execution_count": 23,
     "metadata": {},
     "output_type": "execute_result"
    },
    {
     "data": {
      "image/png": "[encoded data removed]",
      "text/plain": [
       "<Figure size 864x648 with 1 Axes>"
      ]
     },
     "metadata": {
      "needs_background": "light"
     },
     "output_type": "display_data"
    }
   ],
   "source": [
    "fig, ax = plt.subplots(figsize=(12, 9))\n",
    "sns.boxplot(data=df, x='true', y='bal_above_id', ax=ax)"
   ]
  },
  {
   "cell_type": "code",
   "execution_count": 24,
   "id": "042de016",
   "metadata": {},
   "outputs": [],
   "source": [
    "obs = pd.crosstab(df['status'], df['true'])"
   ]
  },
  {
   "cell_type": "code",
   "execution_count": 25,
   "id": "1a43babf",
   "metadata": {},
   "outputs": [
    {
     "data": {
      "text/html": [
       "<div>\n",
       "<style scoped>\n",
       "    .dataframe tbody tr th:only-of-type {\n",
       "        vertical-align: middle;\n",
       "    }\n",
       "\n",
       "    .dataframe tbody tr th {\n",
       "        vertical-align: top;\n",
       "    }\n",
       "\n",
       "    .dataframe thead th {\n",
       "        text-align: right;\n",
       "    }\n",
       "</style>\n",
       "<table border=\"1\" class=\"dataframe\">\n",
       "  <thead>\n",
       "    <tr style=\"text-align: right;\">\n",
       "      <th>true</th>\n",
       "      <th>0</th>\n",
       "      <th>1</th>\n",
       "    </tr>\n",
       "    <tr>\n",
       "      <th>status</th>\n",
       "      <th></th>\n",
       "      <th></th>\n",
       "    </tr>\n",
       "  </thead>\n",
       "  <tbody>\n",
       "    <tr>\n",
       "      <th>0</th>\n",
       "      <td>2538</td>\n",
       "      <td>171</td>\n",
       "    </tr>\n",
       "    <tr>\n",
       "      <th>1</th>\n",
       "      <td>3629</td>\n",
       "      <td>910</td>\n",
       "    </tr>\n",
       "  </tbody>\n",
       "</table>\n",
       "</div>"
      ],
      "text/plain": [
       "true       0    1\n",
       "status           \n",
       "0       2538  171\n",
       "1       3629  910"
      ]
     },
     "execution_count": 25,
     "metadata": {},
     "output_type": "execute_result"
    }
   ],
   "source": [
    "obs"
   ]
  },
  {
   "cell_type": "code",
   "execution_count": 26,
   "id": "71997eee",
   "metadata": {},
   "outputs": [
    {
     "data": {
      "text/plain": [
       "(251.1619160960226,\n",
       " 1.449218256779353e-56,\n",
       " 1,\n",
       " array([[2304.96730132,  404.03269868],\n",
       "        [3862.03269868,  676.96730132]]))"
      ]
     },
     "execution_count": 26,
     "metadata": {},
     "output_type": "execute_result"
    }
   ],
   "source": [
    "st.chi2_contingency(obs, correction=True)"
   ]
  },
  {
   "cell_type": "code",
   "execution_count": 27,
   "id": "fdf343ea",
   "metadata": {},
   "outputs": [
    {
     "data": {
      "text/plain": [
       "(3.7217734333077113, 5.369992877904009e-63)"
      ]
     },
     "execution_count": 27,
     "metadata": {},
     "output_type": "execute_result"
    }
   ],
   "source": [
    "st.fisher_exact(obs)"
   ]
  },
  {
   "cell_type": "code",
   "execution_count": 28,
   "id": "0dc1aa2e",
   "metadata": {},
   "outputs": [],
   "source": [
    "a = obs.iloc[0, 0]\n",
    "b = obs.iloc[0, 1]\n",
    "c = obs.iloc[1, 0]\n",
    "d = obs.iloc[1, 1]\n",
    "pfi = (a*d - b*c)/np.sqrt((a+b)*(c+d)*(a+c)*(b+d))"
   ]
  },
  {
   "cell_type": "code",
   "execution_count": 29,
   "id": "588095f6",
   "metadata": {},
   "outputs": [
    {
     "data": {
      "text/plain": [
       "0.1865523113378554"
      ]
     },
     "execution_count": 29,
     "metadata": {},
     "output_type": "execute_result"
    }
   ],
   "source": [
    "pfi"
   ]
  },
  {
   "cell_type": "markdown",
   "id": "1330bc17",
   "metadata": {},
   "source": [
    "## Пытаемся предсказать подаст ли абитуриент на это заявление согласие"
   ]
  },
  {
   "cell_type": "code",
   "execution_count": 30,
   "id": "17b475e7",
   "metadata": {},
   "outputs": [],
   "source": [
    "y = df['status']\n",
    "X = df.drop(['abiturient_id', 'add_time', 'eduform_id', 'fintype_id', 'point', 'id', 'true', 'status'], axis=1)"
   ]
  },
  {
   "cell_type": "code",
   "execution_count": 31,
   "id": "2b7ce6c8",
   "metadata": {},
   "outputs": [
    {
     "data": {
      "text/html": [
       "<div>\n",
       "<style scoped>\n",
       "    .dataframe tbody tr th:only-of-type {\n",
       "        vertical-align: middle;\n",
       "    }\n",
       "\n",
       "    .dataframe tbody tr th {\n",
       "        vertical-align: top;\n",
       "    }\n",
       "\n",
       "    .dataframe thead th {\n",
       "        text-align: right;\n",
       "    }\n",
       "</style>\n",
       "<table border=\"1\" class=\"dataframe\">\n",
       "  <thead>\n",
       "    <tr style=\"text-align: right;\">\n",
       "      <th></th>\n",
       "      <th>name</th>\n",
       "      <th>ex</th>\n",
       "      <th>point_mean</th>\n",
       "      <th>point_sum</th>\n",
       "      <th>spec_mean_point</th>\n",
       "      <th>bal_above_id</th>\n",
       "    </tr>\n",
       "  </thead>\n",
       "  <tbody>\n",
       "    <tr>\n",
       "      <th>7243</th>\n",
       "      <td>Информационные системы и технологии</td>\n",
       "      <td>Математика,Информатика и ИКТ,Русский язык</td>\n",
       "      <td>64.666667</td>\n",
       "      <td>194</td>\n",
       "      <td>75.248780</td>\n",
       "      <td>513</td>\n",
       "    </tr>\n",
       "    <tr>\n",
       "      <th>7244</th>\n",
       "      <td>Проектирование авиационных и ракетных двигателей</td>\n",
       "      <td>Математика,Физика,Русский язык</td>\n",
       "      <td>50.333333</td>\n",
       "      <td>151</td>\n",
       "      <td>67.647911</td>\n",
       "      <td>385</td>\n",
       "    </tr>\n",
       "    <tr>\n",
       "      <th>7245</th>\n",
       "      <td>Проектирование авиационных и ракетных двигателей</td>\n",
       "      <td>Математика,Физика,Русский язык</td>\n",
       "      <td>54.000000</td>\n",
       "      <td>162</td>\n",
       "      <td>67.647911</td>\n",
       "      <td>379</td>\n",
       "    </tr>\n",
       "    <tr>\n",
       "      <th>7246</th>\n",
       "      <td>Энергетическое машиностроение</td>\n",
       "      <td>Математика,Физика,Русский язык</td>\n",
       "      <td>54.000000</td>\n",
       "      <td>162</td>\n",
       "      <td>67.090909</td>\n",
       "      <td>137</td>\n",
       "    </tr>\n",
       "    <tr>\n",
       "      <th>7247</th>\n",
       "      <td>Двигатели летательных аппаратов</td>\n",
       "      <td>Математика,Физика,Русский язык</td>\n",
       "      <td>54.000000</td>\n",
       "      <td>162</td>\n",
       "      <td>68.848870</td>\n",
       "      <td>229</td>\n",
       "    </tr>\n",
       "  </tbody>\n",
       "</table>\n",
       "</div>"
      ],
      "text/plain": [
       "                                                  name  \\\n",
       "7243               Информационные системы и технологии   \n",
       "7244  Проектирование авиационных и ракетных двигателей   \n",
       "7245  Проектирование авиационных и ракетных двигателей   \n",
       "7246                     Энергетическое машиностроение   \n",
       "7247                   Двигатели летательных аппаратов   \n",
       "\n",
       "                                             ex  point_mean  point_sum  \\\n",
       "7243  Математика,Информатика и ИКТ,Русский язык   64.666667        194   \n",
       "7244             Математика,Физика,Русский язык   50.333333        151   \n",
       "7245             Математика,Физика,Русский язык   54.000000        162   \n",
       "7246             Математика,Физика,Русский язык   54.000000        162   \n",
       "7247             Математика,Физика,Русский язык   54.000000        162   \n",
       "\n",
       "      spec_mean_point  bal_above_id  \n",
       "7243        75.248780           513  \n",
       "7244        67.647911           385  \n",
       "7245        67.647911           379  \n",
       "7246        67.090909           137  \n",
       "7247        68.848870           229  "
      ]
     },
     "execution_count": 31,
     "metadata": {},
     "output_type": "execute_result"
    }
   ],
   "source": [
    "X.tail()"
   ]
  },
  {
   "cell_type": "code",
   "execution_count": 32,
   "id": "dd2ad7c2",
   "metadata": {},
   "outputs": [
    {
     "data": {
      "text/plain": [
       "(7248, 6)"
      ]
     },
     "execution_count": 32,
     "metadata": {},
     "output_type": "execute_result"
    }
   ],
   "source": [
    "X.shape"
   ]
  },
  {
   "cell_type": "code",
   "execution_count": 33,
   "id": "db2c7e20",
   "metadata": {},
   "outputs": [
    {
     "data": {
      "text/plain": [
       "name               0\n",
       "ex                 0\n",
       "point_mean         0\n",
       "point_sum          0\n",
       "spec_mean_point    0\n",
       "bal_above_id       0\n",
       "dtype: int64"
      ]
     },
     "execution_count": 33,
     "metadata": {},
     "output_type": "execute_result"
    }
   ],
   "source": [
    "X.isna().sum()"
   ]
  },
  {
   "cell_type": "code",
   "execution_count": 34,
   "id": "6cccf99f",
   "metadata": {},
   "outputs": [
    {
     "data": {
      "text/plain": [
       "1    0.626242\n",
       "0    0.373758\n",
       "Name: status, dtype: float64"
      ]
     },
     "execution_count": 34,
     "metadata": {},
     "output_type": "execute_result"
    }
   ],
   "source": [
    "pd.value_counts(y, normalize=True)"
   ]
  },
  {
   "cell_type": "code",
   "execution_count": 35,
   "id": "45f406a6",
   "metadata": {},
   "outputs": [],
   "source": [
    "from sklearn.model_selection import train_test_split, StratifiedKFold, cross_validate\n",
    "from sklearn.preprocessing import LabelEncoder"
   ]
  },
  {
   "cell_type": "markdown",
   "id": "01092df5",
   "metadata": {},
   "source": [
    "### Разбиваем на обучающую и тестовую выборки"
   ]
  },
  {
   "cell_type": "code",
   "execution_count": 36,
   "id": "19068e48",
   "metadata": {},
   "outputs": [],
   "source": [
    "X_train, X_test, y_train, y_test = train_test_split(X, y, test_size=0.33, random_state=42)"
   ]
  },
  {
   "cell_type": "code",
   "execution_count": 37,
   "id": "24b65cde",
   "metadata": {},
   "outputs": [
    {
     "data": {
      "text/html": [
       "<div>\n",
       "<style scoped>\n",
       "    .dataframe tbody tr th:only-of-type {\n",
       "        vertical-align: middle;\n",
       "    }\n",
       "\n",
       "    .dataframe tbody tr th {\n",
       "        vertical-align: top;\n",
       "    }\n",
       "\n",
       "    .dataframe thead th {\n",
       "        text-align: right;\n",
       "    }\n",
       "</style>\n",
       "<table border=\"1\" class=\"dataframe\">\n",
       "  <thead>\n",
       "    <tr style=\"text-align: right;\">\n",
       "      <th></th>\n",
       "      <th>name</th>\n",
       "      <th>ex</th>\n",
       "      <th>point_mean</th>\n",
       "      <th>point_sum</th>\n",
       "      <th>spec_mean_point</th>\n",
       "      <th>bal_above_id</th>\n",
       "    </tr>\n",
       "  </thead>\n",
       "  <tbody>\n",
       "    <tr>\n",
       "      <th>6131</th>\n",
       "      <td>Программная инженерия</td>\n",
       "      <td>Математика,Информатика и ИКТ,Русский язык</td>\n",
       "      <td>79.333333</td>\n",
       "      <td>238</td>\n",
       "      <td>76.076111</td>\n",
       "      <td>297</td>\n",
       "    </tr>\n",
       "    <tr>\n",
       "      <th>6009</th>\n",
       "      <td>Программная инженерия</td>\n",
       "      <td>Математика,Информатика и ИКТ,Русский язык</td>\n",
       "      <td>80.666667</td>\n",
       "      <td>242</td>\n",
       "      <td>76.076111</td>\n",
       "      <td>254</td>\n",
       "    </tr>\n",
       "    <tr>\n",
       "      <th>12</th>\n",
       "      <td>Ракетные комплексы и космонавтика</td>\n",
       "      <td>Математика,Физика,Русский язык</td>\n",
       "      <td>66.333333</td>\n",
       "      <td>199</td>\n",
       "      <td>69.665808</td>\n",
       "      <td>266</td>\n",
       "    </tr>\n",
       "    <tr>\n",
       "      <th>1117</th>\n",
       "      <td>Стрелково-пушечное, артиллерийское и ракетное ...</td>\n",
       "      <td>Математика,Физика,Русский язык</td>\n",
       "      <td>76.000000</td>\n",
       "      <td>228</td>\n",
       "      <td>64.923977</td>\n",
       "      <td>38</td>\n",
       "    </tr>\n",
       "    <tr>\n",
       "      <th>5271</th>\n",
       "      <td>Проектирование, производство и эксплуатация ра...</td>\n",
       "      <td>Математика,Физика,Русский язык</td>\n",
       "      <td>74.666667</td>\n",
       "      <td>224</td>\n",
       "      <td>69.914573</td>\n",
       "      <td>122</td>\n",
       "    </tr>\n",
       "  </tbody>\n",
       "</table>\n",
       "</div>"
      ],
      "text/plain": [
       "                                                   name  \\\n",
       "6131                              Программная инженерия   \n",
       "6009                              Программная инженерия   \n",
       "12                    Ракетные комплексы и космонавтика   \n",
       "1117  Стрелково-пушечное, артиллерийское и ракетное ...   \n",
       "5271  Проектирование, производство и эксплуатация ра...   \n",
       "\n",
       "                                             ex  point_mean  point_sum  \\\n",
       "6131  Математика,Информатика и ИКТ,Русский язык   79.333333        238   \n",
       "6009  Математика,Информатика и ИКТ,Русский язык   80.666667        242   \n",
       "12               Математика,Физика,Русский язык   66.333333        199   \n",
       "1117             Математика,Физика,Русский язык   76.000000        228   \n",
       "5271             Математика,Физика,Русский язык   74.666667        224   \n",
       "\n",
       "      spec_mean_point  bal_above_id  \n",
       "6131        76.076111           297  \n",
       "6009        76.076111           254  \n",
       "12          69.665808           266  \n",
       "1117        64.923977            38  \n",
       "5271        69.914573           122  "
      ]
     },
     "execution_count": 37,
     "metadata": {},
     "output_type": "execute_result"
    }
   ],
   "source": [
    "X_train.head()"
   ]
  },
  {
   "cell_type": "code",
   "execution_count": 38,
   "id": "9e3fae6d",
   "metadata": {},
   "outputs": [
    {
     "data": {
      "text/html": [
       "<div>\n",
       "<style scoped>\n",
       "    .dataframe tbody tr th:only-of-type {\n",
       "        vertical-align: middle;\n",
       "    }\n",
       "\n",
       "    .dataframe tbody tr th {\n",
       "        vertical-align: top;\n",
       "    }\n",
       "\n",
       "    .dataframe thead th {\n",
       "        text-align: right;\n",
       "    }\n",
       "</style>\n",
       "<table border=\"1\" class=\"dataframe\">\n",
       "  <thead>\n",
       "    <tr style=\"text-align: right;\">\n",
       "      <th></th>\n",
       "      <th>name</th>\n",
       "      <th>ex</th>\n",
       "      <th>point_mean</th>\n",
       "      <th>point_sum</th>\n",
       "      <th>spec_mean_point</th>\n",
       "      <th>bal_above_id</th>\n",
       "    </tr>\n",
       "  </thead>\n",
       "  <tbody>\n",
       "    <tr>\n",
       "      <th>6131</th>\n",
       "      <td>Программная инженерия</td>\n",
       "      <td>Математика,Информатика и ИКТ,Русский язык</td>\n",
       "      <td>79.333333</td>\n",
       "      <td>238</td>\n",
       "      <td>76.076111</td>\n",
       "      <td>297</td>\n",
       "    </tr>\n",
       "    <tr>\n",
       "      <th>6009</th>\n",
       "      <td>Программная инженерия</td>\n",
       "      <td>Математика,Информатика и ИКТ,Русский язык</td>\n",
       "      <td>80.666667</td>\n",
       "      <td>242</td>\n",
       "      <td>76.076111</td>\n",
       "      <td>254</td>\n",
       "    </tr>\n",
       "    <tr>\n",
       "      <th>12</th>\n",
       "      <td>Ракетные комплексы и космонавтика</td>\n",
       "      <td>Математика,Физика,Русский язык</td>\n",
       "      <td>66.333333</td>\n",
       "      <td>199</td>\n",
       "      <td>69.665808</td>\n",
       "      <td>266</td>\n",
       "    </tr>\n",
       "    <tr>\n",
       "      <th>1117</th>\n",
       "      <td>Стрелково-пушечное, артиллерийское и ракетное ...</td>\n",
       "      <td>Математика,Физика,Русский язык</td>\n",
       "      <td>76.000000</td>\n",
       "      <td>228</td>\n",
       "      <td>64.923977</td>\n",
       "      <td>38</td>\n",
       "    </tr>\n",
       "    <tr>\n",
       "      <th>5271</th>\n",
       "      <td>Проектирование, производство и эксплуатация ра...</td>\n",
       "      <td>Математика,Физика,Русский язык</td>\n",
       "      <td>74.666667</td>\n",
       "      <td>224</td>\n",
       "      <td>69.914573</td>\n",
       "      <td>122</td>\n",
       "    </tr>\n",
       "  </tbody>\n",
       "</table>\n",
       "</div>"
      ],
      "text/plain": [
       "                                                   name  \\\n",
       "6131                              Программная инженерия   \n",
       "6009                              Программная инженерия   \n",
       "12                    Ракетные комплексы и космонавтика   \n",
       "1117  Стрелково-пушечное, артиллерийское и ракетное ...   \n",
       "5271  Проектирование, производство и эксплуатация ра...   \n",
       "\n",
       "                                             ex  point_mean  point_sum  \\\n",
       "6131  Математика,Информатика и ИКТ,Русский язык   79.333333        238   \n",
       "6009  Математика,Информатика и ИКТ,Русский язык   80.666667        242   \n",
       "12               Математика,Физика,Русский язык   66.333333        199   \n",
       "1117             Математика,Физика,Русский язык   76.000000        228   \n",
       "5271             Математика,Физика,Русский язык   74.666667        224   \n",
       "\n",
       "      spec_mean_point  bal_above_id  \n",
       "6131        76.076111           297  \n",
       "6009        76.076111           254  \n",
       "12          69.665808           266  \n",
       "1117        64.923977            38  \n",
       "5271        69.914573           122  "
      ]
     },
     "execution_count": 38,
     "metadata": {},
     "output_type": "execute_result"
    }
   ],
   "source": [
    "X_train.head()"
   ]
  },
  {
   "cell_type": "markdown",
   "id": "c0efb96d",
   "metadata": {},
   "source": [
    "### Кодируем переменные"
   ]
  },
  {
   "cell_type": "code",
   "execution_count": 39,
   "id": "d887c813",
   "metadata": {},
   "outputs": [],
   "source": [
    "enc = LabelEncoder()"
   ]
  },
  {
   "cell_type": "code",
   "execution_count": 40,
   "id": "fc44850b",
   "metadata": {},
   "outputs": [],
   "source": [
    "for i in ['name', 'ex']:\n",
    "    X_train[i] = enc.fit_transform(X_train[i])\n",
    "    X_test[i] = enc.transform(X_test[i])"
   ]
  },
  {
   "cell_type": "code",
   "execution_count": 41,
   "id": "e6ce88fd",
   "metadata": {},
   "outputs": [
    {
     "data": {
      "text/html": [
       "<div>\n",
       "<style scoped>\n",
       "    .dataframe tbody tr th:only-of-type {\n",
       "        vertical-align: middle;\n",
       "    }\n",
       "\n",
       "    .dataframe tbody tr th {\n",
       "        vertical-align: top;\n",
       "    }\n",
       "\n",
       "    .dataframe thead th {\n",
       "        text-align: right;\n",
       "    }\n",
       "</style>\n",
       "<table border=\"1\" class=\"dataframe\">\n",
       "  <thead>\n",
       "    <tr style=\"text-align: right;\">\n",
       "      <th></th>\n",
       "      <th>name</th>\n",
       "      <th>ex</th>\n",
       "      <th>point_mean</th>\n",
       "      <th>point_sum</th>\n",
       "      <th>spec_mean_point</th>\n",
       "      <th>bal_above_id</th>\n",
       "    </tr>\n",
       "  </thead>\n",
       "  <tbody>\n",
       "    <tr>\n",
       "      <th>6131</th>\n",
       "      <td>14</td>\n",
       "      <td>0</td>\n",
       "      <td>79.333333</td>\n",
       "      <td>238</td>\n",
       "      <td>76.076111</td>\n",
       "      <td>297</td>\n",
       "    </tr>\n",
       "    <tr>\n",
       "      <th>6009</th>\n",
       "      <td>14</td>\n",
       "      <td>0</td>\n",
       "      <td>80.666667</td>\n",
       "      <td>242</td>\n",
       "      <td>76.076111</td>\n",
       "      <td>254</td>\n",
       "    </tr>\n",
       "    <tr>\n",
       "      <th>12</th>\n",
       "      <td>19</td>\n",
       "      <td>1</td>\n",
       "      <td>66.333333</td>\n",
       "      <td>199</td>\n",
       "      <td>69.665808</td>\n",
       "      <td>266</td>\n",
       "    </tr>\n",
       "    <tr>\n",
       "      <th>1117</th>\n",
       "      <td>23</td>\n",
       "      <td>1</td>\n",
       "      <td>76.000000</td>\n",
       "      <td>228</td>\n",
       "      <td>64.923977</td>\n",
       "      <td>38</td>\n",
       "    </tr>\n",
       "    <tr>\n",
       "      <th>5271</th>\n",
       "      <td>16</td>\n",
       "      <td>1</td>\n",
       "      <td>74.666667</td>\n",
       "      <td>224</td>\n",
       "      <td>69.914573</td>\n",
       "      <td>122</td>\n",
       "    </tr>\n",
       "    <tr>\n",
       "      <th>...</th>\n",
       "      <td>...</td>\n",
       "      <td>...</td>\n",
       "      <td>...</td>\n",
       "      <td>...</td>\n",
       "      <td>...</td>\n",
       "      <td>...</td>\n",
       "    </tr>\n",
       "    <tr>\n",
       "      <th>3772</th>\n",
       "      <td>28</td>\n",
       "      <td>1</td>\n",
       "      <td>67.000000</td>\n",
       "      <td>201</td>\n",
       "      <td>67.090909</td>\n",
       "      <td>67</td>\n",
       "    </tr>\n",
       "    <tr>\n",
       "      <th>5191</th>\n",
       "      <td>28</td>\n",
       "      <td>1</td>\n",
       "      <td>58.666667</td>\n",
       "      <td>176</td>\n",
       "      <td>67.090909</td>\n",
       "      <td>131</td>\n",
       "    </tr>\n",
       "    <tr>\n",
       "      <th>5226</th>\n",
       "      <td>3</td>\n",
       "      <td>0</td>\n",
       "      <td>76.000000</td>\n",
       "      <td>228</td>\n",
       "      <td>74.476510</td>\n",
       "      <td>66</td>\n",
       "    </tr>\n",
       "    <tr>\n",
       "      <th>5390</th>\n",
       "      <td>3</td>\n",
       "      <td>0</td>\n",
       "      <td>58.666667</td>\n",
       "      <td>176</td>\n",
       "      <td>74.476510</td>\n",
       "      <td>140</td>\n",
       "    </tr>\n",
       "    <tr>\n",
       "      <th>860</th>\n",
       "      <td>2</td>\n",
       "      <td>1</td>\n",
       "      <td>65.666667</td>\n",
       "      <td>197</td>\n",
       "      <td>68.848870</td>\n",
       "      <td>162</td>\n",
       "    </tr>\n",
       "  </tbody>\n",
       "</table>\n",
       "<p>4856 rows × 6 columns</p>\n",
       "</div>"
      ],
      "text/plain": [
       "      name  ex  point_mean  point_sum  spec_mean_point  bal_above_id\n",
       "6131    14   0   79.333333        238        76.076111           297\n",
       "6009    14   0   80.666667        242        76.076111           254\n",
       "12      19   1   66.333333        199        69.665808           266\n",
       "1117    23   1   76.000000        228        64.923977            38\n",
       "5271    16   1   74.666667        224        69.914573           122\n",
       "...    ...  ..         ...        ...              ...           ...\n",
       "3772    28   1   67.000000        201        67.090909            67\n",
       "5191    28   1   58.666667        176        67.090909           131\n",
       "5226     3   0   76.000000        228        74.476510            66\n",
       "5390     3   0   58.666667        176        74.476510           140\n",
       "860      2   1   65.666667        197        68.848870           162\n",
       "\n",
       "[4856 rows x 6 columns]"
      ]
     },
     "execution_count": 41,
     "metadata": {},
     "output_type": "execute_result"
    }
   ],
   "source": [
    "X_train"
   ]
  },
  {
   "cell_type": "markdown",
   "id": "8122797d",
   "metadata": {},
   "source": [
    "### Обучаем модели"
   ]
  },
  {
   "cell_type": "code",
   "execution_count": 42,
   "id": "0370e6f7",
   "metadata": {},
   "outputs": [],
   "source": [
    "from sklearn.ensemble import RandomForestClassifier, GradientBoostingClassifier\n",
    "from sklearn.model_selection import GridSearchCV\n",
    "from sklearn.metrics import accuracy_score, precision_score, recall_score, confusion_matrix\n",
    "from sklearn.metrics import ConfusionMatrixDisplay, roc_auc_score, roc_curve, RocCurveDisplay"
   ]
  },
  {
   "cell_type": "code",
   "execution_count": 43,
   "id": "8f2d77c0",
   "metadata": {},
   "outputs": [],
   "source": [
    "# clf = RandomForestClassifier(n_estimators=500,\n",
    "#                              max_depth=25,\n",
    "#                              oob_score=True)"
   ]
  },
  {
   "cell_type": "code",
   "execution_count": 44,
   "id": "f73c8774",
   "metadata": {},
   "outputs": [],
   "source": [
    "# clf = GradientBoostingClassifier(n_estimators=500, max_depth=25, min_samples_split=3)"
   ]
  },
  {
   "cell_type": "code",
   "execution_count": 45,
   "id": "70eae49f",
   "metadata": {},
   "outputs": [],
   "source": [
    "clf = xgb.XGBClassifier(n_estimators=500, max_depth=25,\n",
    "                        scale_pos_weight=3, alpha=0.01, colsample_bylevel=0.5)"
   ]
  },
  {
   "cell_type": "code",
   "execution_count": 46,
   "id": "02cb0f60",
   "metadata": {},
   "outputs": [
    {
     "name": "stderr",
     "output_type": "stream",
     "text": [
      "C:\\Users\\alway\\anaconda3\\envs\\ml_ds_nn_evn\\lib\\site-packages\\xgboost\\sklearn.py:1224: UserWarning: The use of label encoder in XGBClassifier is deprecated and will be removed in a future release. To remove this warning, do the following: 1) Pass option use_label_encoder=False when constructing XGBClassifier object; and 2) Encode your labels (y) as integers starting with 0, i.e. 0, 1, 2, ..., [num_class - 1].\n",
      "  warnings.warn(label_encoder_deprecation_msg, UserWarning)\n",
      "C:\\Users\\alway\\anaconda3\\envs\\ml_ds_nn_evn\\lib\\site-packages\\xgboost\\data.py:262: FutureWarning: pandas.Int64Index is deprecated and will be removed from pandas in a future version. Use pandas.Index with the appropriate dtype instead.\n",
      "  elif isinstance(data.columns, (pd.Int64Index, pd.RangeIndex)):\n"
     ]
    },
    {
     "name": "stdout",
     "output_type": "stream",
     "text": [
      "[23:29:17] WARNING: D:\\bld\\xgboost-split_1645118015404\\work\\src\\learner.cc:1115: Starting in XGBoost 1.3.0, the default evaluation metric used with the objective 'binary:logistic' was changed from 'error' to 'logloss'. Explicitly set eval_metric if you'd like to restore the old behavior.\n"
     ]
    },
    {
     "data": {
      "text/plain": [
       "XGBClassifier(alpha=0.01, base_score=0.5, booster='gbtree',\n",
       "              colsample_bylevel=0.5, colsample_bynode=1, colsample_bytree=1,\n",
       "              enable_categorical=False, gamma=0, gpu_id=-1,\n",
       "              importance_type=None, interaction_constraints='',\n",
       "              learning_rate=0.300000012, max_delta_step=0, max_depth=25,\n",
       "              min_child_weight=1, missing=nan, monotone_constraints='()',\n",
       "              n_estimators=500, n_jobs=4, num_parallel_tree=1, predictor='auto',\n",
       "              random_state=0, reg_alpha=0.00999999978, reg_lambda=1,\n",
       "              scale_pos_weight=3, subsample=1, tree_method='exact',\n",
       "              validate_parameters=1, verbosity=None)"
      ]
     },
     "execution_count": 46,
     "metadata": {},
     "output_type": "execute_result"
    }
   ],
   "source": [
    "clf.fit(X_train, y_train)"
   ]
  },
  {
   "cell_type": "code",
   "execution_count": 47,
   "id": "63c1d84b",
   "metadata": {},
   "outputs": [],
   "source": [
    "# clf.oob_score_"
   ]
  },
  {
   "cell_type": "code",
   "execution_count": 48,
   "id": "67796d0d",
   "metadata": {},
   "outputs": [
    {
     "data": {
      "text/plain": [
       "array([0.09081487, 0.4345385 , 0.12120186, 0.15957046, 0.09151645,\n",
       "       0.10235778], dtype=float32)"
      ]
     },
     "execution_count": 48,
     "metadata": {},
     "output_type": "execute_result"
    }
   ],
   "source": [
    "clf.feature_importances_"
   ]
  },
  {
   "cell_type": "markdown",
   "id": "c25bccfb",
   "metadata": {},
   "source": [
    "### Прогнозируем, смотрим метрики"
   ]
  },
  {
   "cell_type": "code",
   "execution_count": 49,
   "id": "b7919fc5",
   "metadata": {},
   "outputs": [],
   "source": [
    "y_pred = clf.predict(X_test)"
   ]
  },
  {
   "cell_type": "code",
   "execution_count": 50,
   "id": "216f61c5",
   "metadata": {},
   "outputs": [
    {
     "data": {
      "text/plain": [
       "0.6262541806020067"
      ]
     },
     "execution_count": 50,
     "metadata": {},
     "output_type": "execute_result"
    }
   ],
   "source": [
    "accuracy_score(y_test, y_pred)"
   ]
  },
  {
   "cell_type": "code",
   "execution_count": 51,
   "id": "2fa6ae1d",
   "metadata": {},
   "outputs": [
    {
     "data": {
      "text/plain": [
       "0.6547131147540983"
      ]
     },
     "execution_count": 51,
     "metadata": {},
     "output_type": "execute_result"
    }
   ],
   "source": [
    "precision_score(y_test, y_pred)"
   ]
  },
  {
   "cell_type": "code",
   "execution_count": 52,
   "id": "a9371730",
   "metadata": {},
   "outputs": [
    {
     "data": {
      "text/plain": [
       "0.8531375166889186"
      ]
     },
     "execution_count": 52,
     "metadata": {},
     "output_type": "execute_result"
    }
   ],
   "source": [
    "recall_score(y_test, y_pred)"
   ]
  },
  {
   "cell_type": "code",
   "execution_count": 53,
   "id": "5a7eaf9c",
   "metadata": {},
   "outputs": [
    {
     "name": "stderr",
     "output_type": "stream",
     "text": [
      "C:\\Users\\alway\\anaconda3\\envs\\ml_ds_nn_evn\\lib\\site-packages\\xgboost\\data.py:262: FutureWarning: pandas.Int64Index is deprecated and will be removed from pandas in a future version. Use pandas.Index with the appropriate dtype instead.\n",
      "  elif isinstance(data.columns, (pd.Int64Index, pd.RangeIndex)):\n"
     ]
    },
    {
     "data": {
      "text/plain": [
       "<sklearn.metrics._plot.roc_curve.RocCurveDisplay at 0x25388756550>"
      ]
     },
     "execution_count": 53,
     "metadata": {},
     "output_type": "execute_result"
    },
    {
     "data": {
      "image/png": "[encoded data removed]",
      "text/plain": [
       "<Figure size 864x648 with 1 Axes>"
      ]
     },
     "metadata": {
      "needs_background": "light"
     },
     "output_type": "display_data"
    }
   ],
   "source": [
    "fig, ax = plt.subplots()\n",
    "fig.set_size_inches((12, 9))\n",
    "RocCurveDisplay.from_estimator(clf, X_test, y_test, ax=ax)"
   ]
  },
  {
   "cell_type": "code",
   "execution_count": 54,
   "id": "046394f1",
   "metadata": {},
   "outputs": [],
   "source": [
    "cnf_mt = confusion_matrix(y_test, y_pred)"
   ]
  },
  {
   "cell_type": "code",
   "execution_count": 55,
   "id": "851a0de7",
   "metadata": {},
   "outputs": [
    {
     "data": {
      "image/png": "[encoded data removed]",
      "text/plain": [
       "<Figure size 864x648 with 2 Axes>"
      ]
     },
     "metadata": {
      "needs_background": "light"
     },
     "output_type": "display_data"
    }
   ],
   "source": [
    "fig, ax = plt.subplots()\n",
    "fig.set_size_inches((12, 9))\n",
    "disp = ConfusionMatrixDisplay(cnf_mt)\n",
    "disp.plot(ax=ax, cmap=plt.cm.Blues)\n",
    "plt.grid(False)"
   ]
  },
  {
   "cell_type": "code",
   "execution_count": null,
   "id": "4dc7c58c",
   "metadata": {},
   "outputs": [],
   "source": []
  },
  {
   "cell_type": "code",
   "execution_count": null,
   "id": "32d38389",
   "metadata": {},
   "outputs": [],
   "source": []
  },
  {
   "cell_type": "code",
   "execution_count": null,
   "id": "1909fc2b",
   "metadata": {},
   "outputs": [],
   "source": []
  },
  {
   "cell_type": "code",
   "execution_count": null,
   "id": "d090b20c",
   "metadata": {},
   "outputs": [],
   "source": []
  },
  {
   "cell_type": "code",
   "execution_count": null,
   "id": "5e923191",
   "metadata": {},
   "outputs": [],
   "source": []
  },
  {
   "cell_type": "code",
   "execution_count": null,
   "id": "fd4037fd",
   "metadata": {},
   "outputs": [],
   "source": []
  },
  {
   "cell_type": "code",
   "execution_count": null,
   "id": "7de96cb7",
   "metadata": {},
   "outputs": [],
   "source": []
  },
  {
   "cell_type": "code",
   "execution_count": null,
   "id": "852b33cb",
   "metadata": {},
   "outputs": [],
   "source": []
  },
  {
   "cell_type": "code",
   "execution_count": null,
   "id": "75c35b84",
   "metadata": {},
   "outputs": [],
   "source": []
  },
  {
   "cell_type": "code",
   "execution_count": null,
   "id": "08311aff",
   "metadata": {},
   "outputs": [],
   "source": []
  },
  {
   "cell_type": "code",
   "execution_count": null,
   "id": "7b5e77a8",
   "metadata": {},
   "outputs": [],
   "source": []
  },
  {
   "cell_type": "code",
   "execution_count": null,
   "id": "ad2fa895",
   "metadata": {},
   "outputs": [],
   "source": []
  },
  {
   "cell_type": "code",
   "execution_count": null,
   "id": "c917f870",
   "metadata": {},
   "outputs": [],
   "source": []
  }
 ],
 "metadata": {
  "kernelspec": {
   "display_name": "ml_ds_nn_env",
   "language": "python",
   "name": "ml_ds_nn_env"
  },
  "language_info": {
   "codemirror_mode": {
    "name": "ipython",
    "version": 3
   },
   "file_extension": ".py",
   "mimetype": "text/x-python",
   "name": "python",
   "nbconvert_exporter": "python",
   "pygments_lexer": "ipython3",
   "version": "3.9.10"
  },
  "varInspector": {
   "cols": {
    "lenName": 16,
    "lenType": 16,
    "lenVar": 40
   },
   "kernels_config": {
    "python": {
     "delete_cmd_postfix": "",
     "delete_cmd_prefix": "del ",
     "library": "var_list.py",
     "varRefreshCmd": "print(var_dic_list())"
    },
    "r": {
     "delete_cmd_postfix": ") ",
     "delete_cmd_prefix": "rm(",
     "library": "var_list.r",
     "varRefreshCmd": "cat(var_dic_list()) "
    }
   },
   "types_to_exclude": [
    "module",
    "function",
    "builtin_function_or_method",
    "instance",
    "_Feature"
   ],
   "window_display": false
  }
 },
 "nbformat": 4,
 "nbformat_minor": 5
}
