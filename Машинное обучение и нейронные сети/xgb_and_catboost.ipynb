{
 "cells": [
  {
   "cell_type": "code",
   "execution_count": 1,
   "id": "fba3d1f4",
   "metadata": {},
   "outputs": [
    {
     "name": "stderr",
     "output_type": "stream",
     "text": [
      "C:\\Users\\alway\\anaconda3\\envs\\ml_ds_nn_evn\\lib\\site-packages\\xgboost\\compat.py:36: FutureWarning: pandas.Int64Index is deprecated and will be removed from pandas in a future version. Use pandas.Index with the appropriate dtype instead.\n",
      "  from pandas import MultiIndex, Int64Index\n"
     ]
    }
   ],
   "source": [
    "import numpy as np\n",
    "import pandas as pd\n",
    "import sklearn\n",
    "import xgboost as xgb\n",
    "import matplotlib.pyplot as plt\n",
    "import seaborn as sns\n",
    "\n",
    "import os\n",
    "sns.set()\n",
    "%matplotlib inline"
   ]
  },
  {
   "cell_type": "code",
   "execution_count": 2,
   "id": "1554d7d4",
   "metadata": {},
   "outputs": [],
   "source": [
    "df = pd.read_csv('../Данные/out_w_date_an_orig.csv', parse_dates=True)\n",
    "df['add_time'] = pd.to_datetime(df['add_time'], format='%Y-%m-%d')"
   ]
  },
  {
   "cell_type": "code",
   "execution_count": 3,
   "id": "54b495f8",
   "metadata": {},
   "outputs": [
    {
     "data": {
      "text/plain": [
       "abiturient_id             int64\n",
       "status                    int64\n",
       "add_time         datetime64[ns]\n",
       "id                        int64\n",
       "name                     object\n",
       "true                      int64\n",
       "ex                       object\n",
       "point                    object\n",
       "eduform_id                int64\n",
       "fintype_id                int64\n",
       "dtype: object"
      ]
     },
     "execution_count": 3,
     "metadata": {},
     "output_type": "execute_result"
    }
   ],
   "source": [
    "df.dtypes"
   ]
  },
  {
   "cell_type": "code",
   "execution_count": 4,
   "id": "7762ffeb",
   "metadata": {},
   "outputs": [],
   "source": [
    "df['point_mean'] = df['point'].apply(lambda x: sum(map(int, x.split(',')))/len(x.split(',')))\n",
    "df['point_sum'] = df['point'].apply(lambda x: sum(map(int, x.split(','))))\n",
    "df = df[df['point_mean'] > 0].reset_index(drop=True)"
   ]
  },
  {
   "cell_type": "code",
   "execution_count": 5,
   "id": "da1fee5f",
   "metadata": {},
   "outputs": [
    {
     "data": {
      "text/html": [
       "<div>\n",
       "<style scoped>\n",
       "    .dataframe tbody tr th:only-of-type {\n",
       "        vertical-align: middle;\n",
       "    }\n",
       "\n",
       "    .dataframe tbody tr th {\n",
       "        vertical-align: top;\n",
       "    }\n",
       "\n",
       "    .dataframe thead th {\n",
       "        text-align: right;\n",
       "    }\n",
       "</style>\n",
       "<table border=\"1\" class=\"dataframe\">\n",
       "  <thead>\n",
       "    <tr style=\"text-align: right;\">\n",
       "      <th></th>\n",
       "      <th>abiturient_id</th>\n",
       "      <th>status</th>\n",
       "      <th>add_time</th>\n",
       "      <th>id</th>\n",
       "      <th>name</th>\n",
       "      <th>true</th>\n",
       "      <th>ex</th>\n",
       "      <th>point</th>\n",
       "      <th>eduform_id</th>\n",
       "      <th>fintype_id</th>\n",
       "      <th>point_mean</th>\n",
       "      <th>point_sum</th>\n",
       "    </tr>\n",
       "  </thead>\n",
       "  <tbody>\n",
       "    <tr>\n",
       "      <th>0</th>\n",
       "      <td>202100008</td>\n",
       "      <td>1</td>\n",
       "      <td>2021-04-09</td>\n",
       "      <td>11</td>\n",
       "      <td>Машиностроение</td>\n",
       "      <td>1</td>\n",
       "      <td>Математика,Физика,Русский язык</td>\n",
       "      <td>74,55,72</td>\n",
       "      <td>2</td>\n",
       "      <td>2</td>\n",
       "      <td>67.000000</td>\n",
       "      <td>201</td>\n",
       "    </tr>\n",
       "    <tr>\n",
       "      <th>1</th>\n",
       "      <td>202100009</td>\n",
       "      <td>1</td>\n",
       "      <td>2021-04-22</td>\n",
       "      <td>3</td>\n",
       "      <td>Программная инженерия</td>\n",
       "      <td>1</td>\n",
       "      <td>Математика,Информатика и ИКТ,Русский язык</td>\n",
       "      <td>98,88,59</td>\n",
       "      <td>2</td>\n",
       "      <td>2</td>\n",
       "      <td>81.666667</td>\n",
       "      <td>245</td>\n",
       "    </tr>\n",
       "    <tr>\n",
       "      <th>2</th>\n",
       "      <td>202100622</td>\n",
       "      <td>1</td>\n",
       "      <td>2021-06-24</td>\n",
       "      <td>33</td>\n",
       "      <td>Проектирование авиационных и ракетных двигателей</td>\n",
       "      <td>0</td>\n",
       "      <td>Математика,Физика,Русский язык</td>\n",
       "      <td>72,51,76</td>\n",
       "      <td>1</td>\n",
       "      <td>1</td>\n",
       "      <td>66.333333</td>\n",
       "      <td>199</td>\n",
       "    </tr>\n",
       "    <tr>\n",
       "      <th>3</th>\n",
       "      <td>202100622</td>\n",
       "      <td>1</td>\n",
       "      <td>2021-06-24</td>\n",
       "      <td>18</td>\n",
       "      <td>Ракетные комплексы и космонавтика</td>\n",
       "      <td>0</td>\n",
       "      <td>Математика,Физика,Русский язык</td>\n",
       "      <td>72,51,76</td>\n",
       "      <td>1</td>\n",
       "      <td>1</td>\n",
       "      <td>66.333333</td>\n",
       "      <td>199</td>\n",
       "    </tr>\n",
       "    <tr>\n",
       "      <th>4</th>\n",
       "      <td>202100622</td>\n",
       "      <td>1</td>\n",
       "      <td>2021-06-24</td>\n",
       "      <td>32</td>\n",
       "      <td>Проектирование, производство и эксплуатация ра...</td>\n",
       "      <td>0</td>\n",
       "      <td>Математика,Физика,Русский язык</td>\n",
       "      <td>72,51,76</td>\n",
       "      <td>1</td>\n",
       "      <td>1</td>\n",
       "      <td>66.333333</td>\n",
       "      <td>199</td>\n",
       "    </tr>\n",
       "  </tbody>\n",
       "</table>\n",
       "</div>"
      ],
      "text/plain": [
       "   abiturient_id  status   add_time  id  \\\n",
       "0      202100008       1 2021-04-09  11   \n",
       "1      202100009       1 2021-04-22   3   \n",
       "2      202100622       1 2021-06-24  33   \n",
       "3      202100622       1 2021-06-24  18   \n",
       "4      202100622       1 2021-06-24  32   \n",
       "\n",
       "                                                name  true  \\\n",
       "0                                     Машиностроение     1   \n",
       "1                              Программная инженерия     1   \n",
       "2   Проектирование авиационных и ракетных двигателей     0   \n",
       "3                  Ракетные комплексы и космонавтика     0   \n",
       "4  Проектирование, производство и эксплуатация ра...     0   \n",
       "\n",
       "                                          ex     point  eduform_id  \\\n",
       "0             Математика,Физика,Русский язык  74,55,72           2   \n",
       "1  Математика,Информатика и ИКТ,Русский язык  98,88,59           2   \n",
       "2             Математика,Физика,Русский язык  72,51,76           1   \n",
       "3             Математика,Физика,Русский язык  72,51,76           1   \n",
       "4             Математика,Физика,Русский язык  72,51,76           1   \n",
       "\n",
       "   fintype_id  point_mean  point_sum  \n",
       "0           2   67.000000        201  \n",
       "1           2   81.666667        245  \n",
       "2           1   66.333333        199  \n",
       "3           1   66.333333        199  \n",
       "4           1   66.333333        199  "
      ]
     },
     "execution_count": 5,
     "metadata": {},
     "output_type": "execute_result"
    }
   ],
   "source": [
    "df.head()"
   ]
  },
  {
   "cell_type": "code",
   "execution_count": 6,
   "id": "faf904cb",
   "metadata": {},
   "outputs": [
    {
     "data": {
      "text/plain": [
       "0    0.812105\n",
       "1    0.187895\n",
       "Name: true, dtype: float64"
      ]
     },
     "execution_count": 6,
     "metadata": {},
     "output_type": "execute_result"
    }
   ],
   "source": [
    "pd.value_counts(df['true'], normalize=True)"
   ]
  },
  {
   "cell_type": "code",
   "execution_count": 7,
   "id": "1b076a26",
   "metadata": {},
   "outputs": [],
   "source": [
    "gdf_mean = df.groupby(['name']).agg({'point_mean': ['mean'],\n",
    "                                    }).transpose()"
   ]
  },
  {
   "cell_type": "code",
   "execution_count": 8,
   "id": "4dbc6aae",
   "metadata": {},
   "outputs": [],
   "source": [
    "df['spec_mean_point'] = [gdf_mean[df.loc[i, ['name']][0]][0] for i in range(df.shape[0])]"
   ]
  },
  {
   "cell_type": "code",
   "execution_count": 9,
   "id": "5de95e9b",
   "metadata": {},
   "outputs": [],
   "source": [
    "df['bal_above_id'] = 0"
   ]
  },
  {
   "cell_type": "code",
   "execution_count": 10,
   "id": "4a1f214f",
   "metadata": {
    "scrolled": false
   },
   "outputs": [],
   "source": [
    "for i in range(df.shape[0]):\n",
    "    row = df.iloc[i]\n",
    "    df.loc[i, ['bal_above_id']] = df[(df['name'] == row['name']) & (df['point_sum'] >= row['point_sum'])].shape[0]"
   ]
  },
  {
   "cell_type": "code",
   "execution_count": 11,
   "id": "17b475e7",
   "metadata": {},
   "outputs": [],
   "source": [
    "y = df['true']\n",
    "X = df.drop(['abiturient_id', 'add_time', 'point', 'id', 'true', 'status'], axis=1)"
   ]
  },
  {
   "cell_type": "code",
   "execution_count": 12,
   "id": "2b7ce6c8",
   "metadata": {},
   "outputs": [
    {
     "data": {
      "text/html": [
       "<div>\n",
       "<style scoped>\n",
       "    .dataframe tbody tr th:only-of-type {\n",
       "        vertical-align: middle;\n",
       "    }\n",
       "\n",
       "    .dataframe tbody tr th {\n",
       "        vertical-align: top;\n",
       "    }\n",
       "\n",
       "    .dataframe thead th {\n",
       "        text-align: right;\n",
       "    }\n",
       "</style>\n",
       "<table border=\"1\" class=\"dataframe\">\n",
       "  <thead>\n",
       "    <tr style=\"text-align: right;\">\n",
       "      <th></th>\n",
       "      <th>name</th>\n",
       "      <th>ex</th>\n",
       "      <th>eduform_id</th>\n",
       "      <th>fintype_id</th>\n",
       "      <th>point_mean</th>\n",
       "      <th>point_sum</th>\n",
       "      <th>spec_mean_point</th>\n",
       "      <th>bal_above_id</th>\n",
       "    </tr>\n",
       "  </thead>\n",
       "  <tbody>\n",
       "    <tr>\n",
       "      <th>0</th>\n",
       "      <td>Машиностроение</td>\n",
       "      <td>Математика,Физика,Русский язык</td>\n",
       "      <td>2</td>\n",
       "      <td>2</td>\n",
       "      <td>67.000000</td>\n",
       "      <td>201</td>\n",
       "      <td>64.991546</td>\n",
       "      <td>123</td>\n",
       "    </tr>\n",
       "    <tr>\n",
       "      <th>1</th>\n",
       "      <td>Программная инженерия</td>\n",
       "      <td>Математика,Информатика и ИКТ,Русский язык</td>\n",
       "      <td>2</td>\n",
       "      <td>2</td>\n",
       "      <td>81.666667</td>\n",
       "      <td>245</td>\n",
       "      <td>72.493968</td>\n",
       "      <td>240</td>\n",
       "    </tr>\n",
       "    <tr>\n",
       "      <th>2</th>\n",
       "      <td>Проектирование авиационных и ракетных двигателей</td>\n",
       "      <td>Математика,Физика,Русский язык</td>\n",
       "      <td>1</td>\n",
       "      <td>1</td>\n",
       "      <td>66.333333</td>\n",
       "      <td>199</td>\n",
       "      <td>66.537707</td>\n",
       "      <td>216</td>\n",
       "    </tr>\n",
       "    <tr>\n",
       "      <th>3</th>\n",
       "      <td>Ракетные комплексы и космонавтика</td>\n",
       "      <td>Математика,Физика,Русский язык</td>\n",
       "      <td>1</td>\n",
       "      <td>1</td>\n",
       "      <td>66.333333</td>\n",
       "      <td>199</td>\n",
       "      <td>68.146868</td>\n",
       "      <td>281</td>\n",
       "    </tr>\n",
       "    <tr>\n",
       "      <th>4</th>\n",
       "      <td>Проектирование, производство и эксплуатация ра...</td>\n",
       "      <td>Математика,Физика,Русский язык</td>\n",
       "      <td>1</td>\n",
       "      <td>1</td>\n",
       "      <td>66.333333</td>\n",
       "      <td>199</td>\n",
       "      <td>68.920354</td>\n",
       "      <td>276</td>\n",
       "    </tr>\n",
       "  </tbody>\n",
       "</table>\n",
       "</div>"
      ],
      "text/plain": [
       "                                                name  \\\n",
       "0                                     Машиностроение   \n",
       "1                              Программная инженерия   \n",
       "2   Проектирование авиационных и ракетных двигателей   \n",
       "3                  Ракетные комплексы и космонавтика   \n",
       "4  Проектирование, производство и эксплуатация ра...   \n",
       "\n",
       "                                          ex  eduform_id  fintype_id  \\\n",
       "0             Математика,Физика,Русский язык           2           2   \n",
       "1  Математика,Информатика и ИКТ,Русский язык           2           2   \n",
       "2             Математика,Физика,Русский язык           1           1   \n",
       "3             Математика,Физика,Русский язык           1           1   \n",
       "4             Математика,Физика,Русский язык           1           1   \n",
       "\n",
       "   point_mean  point_sum  spec_mean_point  bal_above_id  \n",
       "0   67.000000        201        64.991546           123  \n",
       "1   81.666667        245        72.493968           240  \n",
       "2   66.333333        199        66.537707           216  \n",
       "3   66.333333        199        68.146868           281  \n",
       "4   66.333333        199        68.920354           276  "
      ]
     },
     "execution_count": 12,
     "metadata": {},
     "output_type": "execute_result"
    }
   ],
   "source": [
    "X.head()"
   ]
  },
  {
   "cell_type": "code",
   "execution_count": 13,
   "id": "6cccf99f",
   "metadata": {},
   "outputs": [
    {
     "data": {
      "text/plain": [
       "0    0.812105\n",
       "1    0.187895\n",
       "Name: true, dtype: float64"
      ]
     },
     "execution_count": 13,
     "metadata": {},
     "output_type": "execute_result"
    }
   ],
   "source": [
    "pd.value_counts(y, normalize=True)"
   ]
  },
  {
   "cell_type": "code",
   "execution_count": 14,
   "id": "45f406a6",
   "metadata": {},
   "outputs": [],
   "source": [
    "from sklearn.model_selection import train_test_split, StratifiedKFold, cross_validate\n",
    "from sklearn.preprocessing import LabelEncoder"
   ]
  },
  {
   "cell_type": "code",
   "execution_count": 15,
   "id": "19068e48",
   "metadata": {},
   "outputs": [],
   "source": [
    "X_train, X_test, y_train, y_test = train_test_split(X, y, test_size=0.33, random_state=42)"
   ]
  },
  {
   "cell_type": "code",
   "execution_count": 16,
   "id": "24b65cde",
   "metadata": {},
   "outputs": [
    {
     "data": {
      "text/html": [
       "<div>\n",
       "<style scoped>\n",
       "    .dataframe tbody tr th:only-of-type {\n",
       "        vertical-align: middle;\n",
       "    }\n",
       "\n",
       "    .dataframe tbody tr th {\n",
       "        vertical-align: top;\n",
       "    }\n",
       "\n",
       "    .dataframe thead th {\n",
       "        text-align: right;\n",
       "    }\n",
       "</style>\n",
       "<table border=\"1\" class=\"dataframe\">\n",
       "  <thead>\n",
       "    <tr style=\"text-align: right;\">\n",
       "      <th></th>\n",
       "      <th>name</th>\n",
       "      <th>ex</th>\n",
       "      <th>eduform_id</th>\n",
       "      <th>fintype_id</th>\n",
       "      <th>point_mean</th>\n",
       "      <th>point_sum</th>\n",
       "      <th>spec_mean_point</th>\n",
       "      <th>bal_above_id</th>\n",
       "    </tr>\n",
       "  </thead>\n",
       "  <tbody>\n",
       "    <tr>\n",
       "      <th>4789</th>\n",
       "      <td>Стрелково-пушечное, артиллерийское и ракетное ...</td>\n",
       "      <td>Математика,Физика,Русский язык</td>\n",
       "      <td>1</td>\n",
       "      <td>1</td>\n",
       "      <td>70.666667</td>\n",
       "      <td>212</td>\n",
       "      <td>64.140741</td>\n",
       "      <td>74</td>\n",
       "    </tr>\n",
       "    <tr>\n",
       "      <th>6889</th>\n",
       "      <td>Информационные системы и технологии</td>\n",
       "      <td>Математика,Информатика и ИКТ,Русский язык</td>\n",
       "      <td>1</td>\n",
       "      <td>2</td>\n",
       "      <td>78.666667</td>\n",
       "      <td>236</td>\n",
       "      <td>72.075055</td>\n",
       "      <td>343</td>\n",
       "    </tr>\n",
       "    <tr>\n",
       "      <th>4704</th>\n",
       "      <td>Мехатроника и робототехника</td>\n",
       "      <td>Математика,Физика,Русский язык</td>\n",
       "      <td>1</td>\n",
       "      <td>1</td>\n",
       "      <td>83.000000</td>\n",
       "      <td>249</td>\n",
       "      <td>69.980047</td>\n",
       "      <td>18</td>\n",
       "    </tr>\n",
       "    <tr>\n",
       "      <th>8737</th>\n",
       "      <td>Стандартизация и метрология</td>\n",
       "      <td>Математика,Физика,Русский язык</td>\n",
       "      <td>1</td>\n",
       "      <td>1</td>\n",
       "      <td>64.333333</td>\n",
       "      <td>193</td>\n",
       "      <td>65.050980</td>\n",
       "      <td>55</td>\n",
       "    </tr>\n",
       "    <tr>\n",
       "      <th>6884</th>\n",
       "      <td>Оптотехника</td>\n",
       "      <td>Математика,Физика,Русский язык</td>\n",
       "      <td>1</td>\n",
       "      <td>1</td>\n",
       "      <td>69.333333</td>\n",
       "      <td>208</td>\n",
       "      <td>65.300412</td>\n",
       "      <td>44</td>\n",
       "    </tr>\n",
       "  </tbody>\n",
       "</table>\n",
       "</div>"
      ],
      "text/plain": [
       "                                                   name  \\\n",
       "4789  Стрелково-пушечное, артиллерийское и ракетное ...   \n",
       "6889                Информационные системы и технологии   \n",
       "4704                        Мехатроника и робототехника   \n",
       "8737                        Стандартизация и метрология   \n",
       "6884                                        Оптотехника   \n",
       "\n",
       "                                             ex  eduform_id  fintype_id  \\\n",
       "4789             Математика,Физика,Русский язык           1           1   \n",
       "6889  Математика,Информатика и ИКТ,Русский язык           1           2   \n",
       "4704             Математика,Физика,Русский язык           1           1   \n",
       "8737             Математика,Физика,Русский язык           1           1   \n",
       "6884             Математика,Физика,Русский язык           1           1   \n",
       "\n",
       "      point_mean  point_sum  spec_mean_point  bal_above_id  \n",
       "4789   70.666667        212        64.140741            74  \n",
       "6889   78.666667        236        72.075055           343  \n",
       "4704   83.000000        249        69.980047            18  \n",
       "8737   64.333333        193        65.050980            55  \n",
       "6884   69.333333        208        65.300412            44  "
      ]
     },
     "execution_count": 16,
     "metadata": {},
     "output_type": "execute_result"
    }
   ],
   "source": [
    "X_train.head()"
   ]
  },
  {
   "cell_type": "code",
   "execution_count": 17,
   "id": "9e3fae6d",
   "metadata": {},
   "outputs": [
    {
     "data": {
      "text/html": [
       "<div>\n",
       "<style scoped>\n",
       "    .dataframe tbody tr th:only-of-type {\n",
       "        vertical-align: middle;\n",
       "    }\n",
       "\n",
       "    .dataframe tbody tr th {\n",
       "        vertical-align: top;\n",
       "    }\n",
       "\n",
       "    .dataframe thead th {\n",
       "        text-align: right;\n",
       "    }\n",
       "</style>\n",
       "<table border=\"1\" class=\"dataframe\">\n",
       "  <thead>\n",
       "    <tr style=\"text-align: right;\">\n",
       "      <th></th>\n",
       "      <th>name</th>\n",
       "      <th>ex</th>\n",
       "      <th>eduform_id</th>\n",
       "      <th>fintype_id</th>\n",
       "      <th>point_mean</th>\n",
       "      <th>point_sum</th>\n",
       "      <th>spec_mean_point</th>\n",
       "      <th>bal_above_id</th>\n",
       "    </tr>\n",
       "  </thead>\n",
       "  <tbody>\n",
       "    <tr>\n",
       "      <th>4789</th>\n",
       "      <td>Стрелково-пушечное, артиллерийское и ракетное ...</td>\n",
       "      <td>Математика,Физика,Русский язык</td>\n",
       "      <td>1</td>\n",
       "      <td>1</td>\n",
       "      <td>70.666667</td>\n",
       "      <td>212</td>\n",
       "      <td>64.140741</td>\n",
       "      <td>74</td>\n",
       "    </tr>\n",
       "    <tr>\n",
       "      <th>6889</th>\n",
       "      <td>Информационные системы и технологии</td>\n",
       "      <td>Математика,Информатика и ИКТ,Русский язык</td>\n",
       "      <td>1</td>\n",
       "      <td>2</td>\n",
       "      <td>78.666667</td>\n",
       "      <td>236</td>\n",
       "      <td>72.075055</td>\n",
       "      <td>343</td>\n",
       "    </tr>\n",
       "    <tr>\n",
       "      <th>4704</th>\n",
       "      <td>Мехатроника и робототехника</td>\n",
       "      <td>Математика,Физика,Русский язык</td>\n",
       "      <td>1</td>\n",
       "      <td>1</td>\n",
       "      <td>83.000000</td>\n",
       "      <td>249</td>\n",
       "      <td>69.980047</td>\n",
       "      <td>18</td>\n",
       "    </tr>\n",
       "    <tr>\n",
       "      <th>8737</th>\n",
       "      <td>Стандартизация и метрология</td>\n",
       "      <td>Математика,Физика,Русский язык</td>\n",
       "      <td>1</td>\n",
       "      <td>1</td>\n",
       "      <td>64.333333</td>\n",
       "      <td>193</td>\n",
       "      <td>65.050980</td>\n",
       "      <td>55</td>\n",
       "    </tr>\n",
       "    <tr>\n",
       "      <th>6884</th>\n",
       "      <td>Оптотехника</td>\n",
       "      <td>Математика,Физика,Русский язык</td>\n",
       "      <td>1</td>\n",
       "      <td>1</td>\n",
       "      <td>69.333333</td>\n",
       "      <td>208</td>\n",
       "      <td>65.300412</td>\n",
       "      <td>44</td>\n",
       "    </tr>\n",
       "  </tbody>\n",
       "</table>\n",
       "</div>"
      ],
      "text/plain": [
       "                                                   name  \\\n",
       "4789  Стрелково-пушечное, артиллерийское и ракетное ...   \n",
       "6889                Информационные системы и технологии   \n",
       "4704                        Мехатроника и робототехника   \n",
       "8737                        Стандартизация и метрология   \n",
       "6884                                        Оптотехника   \n",
       "\n",
       "                                             ex  eduform_id  fintype_id  \\\n",
       "4789             Математика,Физика,Русский язык           1           1   \n",
       "6889  Математика,Информатика и ИКТ,Русский язык           1           2   \n",
       "4704             Математика,Физика,Русский язык           1           1   \n",
       "8737             Математика,Физика,Русский язык           1           1   \n",
       "6884             Математика,Физика,Русский язык           1           1   \n",
       "\n",
       "      point_mean  point_sum  spec_mean_point  bal_above_id  \n",
       "4789   70.666667        212        64.140741            74  \n",
       "6889   78.666667        236        72.075055           343  \n",
       "4704   83.000000        249        69.980047            18  \n",
       "8737   64.333333        193        65.050980            55  \n",
       "6884   69.333333        208        65.300412            44  "
      ]
     },
     "execution_count": 17,
     "metadata": {},
     "output_type": "execute_result"
    }
   ],
   "source": [
    "X_train.head()"
   ]
  },
  {
   "cell_type": "code",
   "execution_count": 18,
   "id": "d887c813",
   "metadata": {},
   "outputs": [],
   "source": [
    "enc = LabelEncoder()"
   ]
  },
  {
   "cell_type": "code",
   "execution_count": 19,
   "id": "fc44850b",
   "metadata": {},
   "outputs": [],
   "source": [
    "for i in ['name', 'ex', 'eduform_id', 'fintype_id']:\n",
    "    X_train[i] = enc.fit_transform(X_train[i])\n",
    "    X_test[i] = enc.transform(X_test[i])"
   ]
  },
  {
   "cell_type": "code",
   "execution_count": 20,
   "id": "e6ce88fd",
   "metadata": {},
   "outputs": [
    {
     "data": {
      "text/html": [
       "<div>\n",
       "<style scoped>\n",
       "    .dataframe tbody tr th:only-of-type {\n",
       "        vertical-align: middle;\n",
       "    }\n",
       "\n",
       "    .dataframe tbody tr th {\n",
       "        vertical-align: top;\n",
       "    }\n",
       "\n",
       "    .dataframe thead th {\n",
       "        text-align: right;\n",
       "    }\n",
       "</style>\n",
       "<table border=\"1\" class=\"dataframe\">\n",
       "  <thead>\n",
       "    <tr style=\"text-align: right;\">\n",
       "      <th></th>\n",
       "      <th>name</th>\n",
       "      <th>ex</th>\n",
       "      <th>eduform_id</th>\n",
       "      <th>fintype_id</th>\n",
       "      <th>point_mean</th>\n",
       "      <th>point_sum</th>\n",
       "      <th>spec_mean_point</th>\n",
       "      <th>bal_above_id</th>\n",
       "    </tr>\n",
       "  </thead>\n",
       "  <tbody>\n",
       "    <tr>\n",
       "      <th>4789</th>\n",
       "      <td>27</td>\n",
       "      <td>5</td>\n",
       "      <td>0</td>\n",
       "      <td>0</td>\n",
       "      <td>70.666667</td>\n",
       "      <td>212</td>\n",
       "      <td>64.140741</td>\n",
       "      <td>74</td>\n",
       "    </tr>\n",
       "    <tr>\n",
       "      <th>6889</th>\n",
       "      <td>5</td>\n",
       "      <td>3</td>\n",
       "      <td>0</td>\n",
       "      <td>1</td>\n",
       "      <td>78.666667</td>\n",
       "      <td>236</td>\n",
       "      <td>72.075055</td>\n",
       "      <td>343</td>\n",
       "    </tr>\n",
       "    <tr>\n",
       "      <th>4704</th>\n",
       "      <td>10</td>\n",
       "      <td>5</td>\n",
       "      <td>0</td>\n",
       "      <td>0</td>\n",
       "      <td>83.000000</td>\n",
       "      <td>249</td>\n",
       "      <td>69.980047</td>\n",
       "      <td>18</td>\n",
       "    </tr>\n",
       "    <tr>\n",
       "      <th>8737</th>\n",
       "      <td>26</td>\n",
       "      <td>5</td>\n",
       "      <td>0</td>\n",
       "      <td>0</td>\n",
       "      <td>64.333333</td>\n",
       "      <td>193</td>\n",
       "      <td>65.050980</td>\n",
       "      <td>55</td>\n",
       "    </tr>\n",
       "    <tr>\n",
       "      <th>6884</th>\n",
       "      <td>12</td>\n",
       "      <td>5</td>\n",
       "      <td>0</td>\n",
       "      <td>0</td>\n",
       "      <td>69.333333</td>\n",
       "      <td>208</td>\n",
       "      <td>65.300412</td>\n",
       "      <td>44</td>\n",
       "    </tr>\n",
       "    <tr>\n",
       "      <th>...</th>\n",
       "      <td>...</td>\n",
       "      <td>...</td>\n",
       "      <td>...</td>\n",
       "      <td>...</td>\n",
       "      <td>...</td>\n",
       "      <td>...</td>\n",
       "      <td>...</td>\n",
       "      <td>...</td>\n",
       "    </tr>\n",
       "    <tr>\n",
       "      <th>5734</th>\n",
       "      <td>17</td>\n",
       "      <td>5</td>\n",
       "      <td>0</td>\n",
       "      <td>0</td>\n",
       "      <td>69.333333</td>\n",
       "      <td>208</td>\n",
       "      <td>66.537707</td>\n",
       "      <td>168</td>\n",
       "    </tr>\n",
       "    <tr>\n",
       "      <th>5191</th>\n",
       "      <td>4</td>\n",
       "      <td>3</td>\n",
       "      <td>0</td>\n",
       "      <td>0</td>\n",
       "      <td>51.333333</td>\n",
       "      <td>154</td>\n",
       "      <td>72.331393</td>\n",
       "      <td>834</td>\n",
       "    </tr>\n",
       "    <tr>\n",
       "      <th>5390</th>\n",
       "      <td>16</td>\n",
       "      <td>3</td>\n",
       "      <td>0</td>\n",
       "      <td>1</td>\n",
       "      <td>93.333333</td>\n",
       "      <td>280</td>\n",
       "      <td>72.493968</td>\n",
       "      <td>21</td>\n",
       "    </tr>\n",
       "    <tr>\n",
       "      <th>860</th>\n",
       "      <td>27</td>\n",
       "      <td>5</td>\n",
       "      <td>0</td>\n",
       "      <td>1</td>\n",
       "      <td>60.333333</td>\n",
       "      <td>181</td>\n",
       "      <td>64.140741</td>\n",
       "      <td>214</td>\n",
       "    </tr>\n",
       "    <tr>\n",
       "      <th>7270</th>\n",
       "      <td>13</td>\n",
       "      <td>1</td>\n",
       "      <td>0</td>\n",
       "      <td>1</td>\n",
       "      <td>48.333333</td>\n",
       "      <td>145</td>\n",
       "      <td>67.421053</td>\n",
       "      <td>94</td>\n",
       "    </tr>\n",
       "  </tbody>\n",
       "</table>\n",
       "<p>6564 rows × 8 columns</p>\n",
       "</div>"
      ],
      "text/plain": [
       "      name  ex  eduform_id  fintype_id  point_mean  point_sum  \\\n",
       "4789    27   5           0           0   70.666667        212   \n",
       "6889     5   3           0           1   78.666667        236   \n",
       "4704    10   5           0           0   83.000000        249   \n",
       "8737    26   5           0           0   64.333333        193   \n",
       "6884    12   5           0           0   69.333333        208   \n",
       "...    ...  ..         ...         ...         ...        ...   \n",
       "5734    17   5           0           0   69.333333        208   \n",
       "5191     4   3           0           0   51.333333        154   \n",
       "5390    16   3           0           1   93.333333        280   \n",
       "860     27   5           0           1   60.333333        181   \n",
       "7270    13   1           0           1   48.333333        145   \n",
       "\n",
       "      spec_mean_point  bal_above_id  \n",
       "4789        64.140741            74  \n",
       "6889        72.075055           343  \n",
       "4704        69.980047            18  \n",
       "8737        65.050980            55  \n",
       "6884        65.300412            44  \n",
       "...               ...           ...  \n",
       "5734        66.537707           168  \n",
       "5191        72.331393           834  \n",
       "5390        72.493968            21  \n",
       "860         64.140741           214  \n",
       "7270        67.421053            94  \n",
       "\n",
       "[6564 rows x 8 columns]"
      ]
     },
     "execution_count": 20,
     "metadata": {},
     "output_type": "execute_result"
    }
   ],
   "source": [
    "X_train"
   ]
  },
  {
   "cell_type": "code",
   "execution_count": 21,
   "id": "0370e6f7",
   "metadata": {},
   "outputs": [],
   "source": [
    "from sklearn.ensemble import RandomForestClassifier, GradientBoostingClassifier\n",
    "from sklearn.model_selection import GridSearchCV\n",
    "from sklearn.metrics import accuracy_score, precision_score, recall_score, confusion_matrix\n",
    "from sklearn.metrics import ConfusionMatrixDisplay, roc_auc_score, roc_curve, RocCurveDisplay"
   ]
  },
  {
   "cell_type": "code",
   "execution_count": 22,
   "id": "8f2d77c0",
   "metadata": {},
   "outputs": [],
   "source": [
    "# clf = RandomForestClassifier(n_estimators=500,\n",
    "#                              max_depth=25,\n",
    "#                              oob_score=True,\n",
    "#                              class_weight='balanced')"
   ]
  },
  {
   "cell_type": "code",
   "execution_count": 23,
   "id": "f73c8774",
   "metadata": {},
   "outputs": [],
   "source": [
    "# clf = GradientBoostingClassifier(n_estimators=500, max_depth=25, min_samples_split=3)"
   ]
  },
  {
   "cell_type": "code",
   "execution_count": 24,
   "id": "70eae49f",
   "metadata": {},
   "outputs": [],
   "source": [
    "clf = xgb.XGBClassifier(n_estimators=300, max_depth=15, scale_pos_weight=5, alpha=0.01)"
   ]
  },
  {
   "cell_type": "code",
   "execution_count": 25,
   "id": "02cb0f60",
   "metadata": {},
   "outputs": [
    {
     "name": "stderr",
     "output_type": "stream",
     "text": [
      "C:\\Users\\alway\\anaconda3\\envs\\ml_ds_nn_evn\\lib\\site-packages\\xgboost\\sklearn.py:1224: UserWarning: The use of label encoder in XGBClassifier is deprecated and will be removed in a future release. To remove this warning, do the following: 1) Pass option use_label_encoder=False when constructing XGBClassifier object; and 2) Encode your labels (y) as integers starting with 0, i.e. 0, 1, 2, ..., [num_class - 1].\n",
      "  warnings.warn(label_encoder_deprecation_msg, UserWarning)\n",
      "C:\\Users\\alway\\anaconda3\\envs\\ml_ds_nn_evn\\lib\\site-packages\\xgboost\\data.py:262: FutureWarning: pandas.Int64Index is deprecated and will be removed from pandas in a future version. Use pandas.Index with the appropriate dtype instead.\n",
      "  elif isinstance(data.columns, (pd.Int64Index, pd.RangeIndex)):\n"
     ]
    },
    {
     "name": "stdout",
     "output_type": "stream",
     "text": [
      "[12:18:04] WARNING: D:\\bld\\xgboost-split_1645118015404\\work\\src\\learner.cc:1115: Starting in XGBoost 1.3.0, the default evaluation metric used with the objective 'binary:logistic' was changed from 'error' to 'logloss'. Explicitly set eval_metric if you'd like to restore the old behavior.\n"
     ]
    },
    {
     "data": {
      "text/plain": [
       "XGBClassifier(alpha=0.01, base_score=0.5, booster='gbtree', colsample_bylevel=1,\n",
       "              colsample_bynode=1, colsample_bytree=1, enable_categorical=False,\n",
       "              gamma=0, gpu_id=-1, importance_type=None,\n",
       "              interaction_constraints='', learning_rate=0.300000012,\n",
       "              max_delta_step=0, max_depth=15, min_child_weight=1, missing=nan,\n",
       "              monotone_constraints='()', n_estimators=300, n_jobs=4,\n",
       "              num_parallel_tree=1, predictor='auto', random_state=0,\n",
       "              reg_alpha=0.00999999978, reg_lambda=1, scale_pos_weight=5,\n",
       "              subsample=1, tree_method='exact', validate_parameters=1,\n",
       "              verbosity=None)"
      ]
     },
     "execution_count": 25,
     "metadata": {},
     "output_type": "execute_result"
    }
   ],
   "source": [
    "clf.fit(X_train, y_train)"
   ]
  },
  {
   "cell_type": "code",
   "execution_count": 26,
   "id": "63c1d84b",
   "metadata": {},
   "outputs": [],
   "source": [
    "# clf.oob_score_"
   ]
  },
  {
   "cell_type": "code",
   "execution_count": 27,
   "id": "b7919fc5",
   "metadata": {},
   "outputs": [],
   "source": [
    "y_pred = clf.predict(X_test)"
   ]
  },
  {
   "cell_type": "code",
   "execution_count": 28,
   "id": "216f61c5",
   "metadata": {},
   "outputs": [
    {
     "data": {
      "text/plain": [
       "0.7699443413729128"
      ]
     },
     "execution_count": 28,
     "metadata": {},
     "output_type": "execute_result"
    }
   ],
   "source": [
    "accuracy_score(y_test, y_pred)"
   ]
  },
  {
   "cell_type": "code",
   "execution_count": 29,
   "id": "2fa6ae1d",
   "metadata": {},
   "outputs": [
    {
     "data": {
      "text/plain": [
       "0.422271223814774"
      ]
     },
     "execution_count": 29,
     "metadata": {},
     "output_type": "execute_result"
    }
   ],
   "source": [
    "precision_score(y_test, y_pred)"
   ]
  },
  {
   "cell_type": "code",
   "execution_count": 30,
   "id": "a9371730",
   "metadata": {},
   "outputs": [
    {
     "data": {
      "text/plain": [
       "0.6351575456053068"
      ]
     },
     "execution_count": 30,
     "metadata": {},
     "output_type": "execute_result"
    }
   ],
   "source": [
    "recall_score(y_test, y_pred)"
   ]
  },
  {
   "cell_type": "code",
   "execution_count": 31,
   "id": "5a7eaf9c",
   "metadata": {},
   "outputs": [
    {
     "name": "stderr",
     "output_type": "stream",
     "text": [
      "C:\\Users\\alway\\anaconda3\\envs\\ml_ds_nn_evn\\lib\\site-packages\\xgboost\\data.py:262: FutureWarning: pandas.Int64Index is deprecated and will be removed from pandas in a future version. Use pandas.Index with the appropriate dtype instead.\n",
      "  elif isinstance(data.columns, (pd.Int64Index, pd.RangeIndex)):\n"
     ]
    },
    {
     "data": {
      "text/plain": [
       "<sklearn.metrics._plot.roc_curve.RocCurveDisplay at 0x202bab2fcd0>"
      ]
     },
     "execution_count": 31,
     "metadata": {},
     "output_type": "execute_result"
    },
    {
     "data": {
      "image/png": "[encoded data removed]",
      "text/plain": [
       "<Figure size 864x648 with 1 Axes>"
      ]
     },
     "metadata": {
      "needs_background": "light"
     },
     "output_type": "display_data"
    }
   ],
   "source": [
    "fig, ax = plt.subplots()\n",
    "fig.set_size_inches((12, 9))\n",
    "RocCurveDisplay.from_estimator(clf, X_test, y_test, ax=ax)"
   ]
  },
  {
   "cell_type": "code",
   "execution_count": 32,
   "id": "046394f1",
   "metadata": {},
   "outputs": [],
   "source": [
    "cnf_mt = confusion_matrix(y_test, y_pred)"
   ]
  },
  {
   "cell_type": "code",
   "execution_count": 33,
   "id": "851a0de7",
   "metadata": {},
   "outputs": [
    {
     "data": {
      "image/png": "[encoded data removed]",
      "text/plain": [
       "<Figure size 864x648 with 2 Axes>"
      ]
     },
     "metadata": {
      "needs_background": "light"
     },
     "output_type": "display_data"
    }
   ],
   "source": [
    "fig, ax = plt.subplots()\n",
    "fig.set_size_inches((12, 9))\n",
    "disp = ConfusionMatrixDisplay(cnf_mt)\n",
    "disp.plot(ax=ax, cmap=plt.cm.Blues)\n",
    "plt.grid(False)"
   ]
  },
  {
   "cell_type": "markdown",
   "id": "c3ded1eb",
   "metadata": {},
   "source": [
    "Настройка параметров модели на кросс-валидации"
   ]
  },
  {
   "cell_type": "code",
   "execution_count": 34,
   "id": "0aa2dae0",
   "metadata": {},
   "outputs": [],
   "source": [
    "params = {\n",
    "    'max_depth': [15, 20, 25],\n",
    "    'alpha': [0.01, 0.05, 0.1]\n",
    "}"
   ]
  },
  {
   "cell_type": "code",
   "execution_count": 35,
   "id": "956a71b4",
   "metadata": {},
   "outputs": [],
   "source": [
    "# gcv = GridSearchCV(\n",
    "#     estimator=xgb.XGBClassifier(n_estimators=300, scale_pos_weight=5),\n",
    "#     param_grid=params,\n",
    "#     cv=StratifiedKFold(n_splits=5, shuffle=True, random_state=42),\n",
    "#     scoring='roc_auc',\n",
    "#     n_jobs=4\n",
    "# )"
   ]
  },
  {
   "cell_type": "code",
   "execution_count": 36,
   "id": "f1a3522a",
   "metadata": {},
   "outputs": [],
   "source": [
    "# gcv.fit(X_train, y_train)"
   ]
  },
  {
   "cell_type": "code",
   "execution_count": 37,
   "id": "7d562227",
   "metadata": {},
   "outputs": [],
   "source": [
    "# gcv.best_score_"
   ]
  },
  {
   "cell_type": "code",
   "execution_count": 38,
   "id": "ef2b95be",
   "metadata": {},
   "outputs": [],
   "source": [
    "# gcv.best_params_"
   ]
  },
  {
   "cell_type": "code",
   "execution_count": 39,
   "id": "5b158d73",
   "metadata": {},
   "outputs": [],
   "source": [
    "from catboost import Pool, CatBoostClassifier"
   ]
  },
  {
   "cell_type": "code",
   "execution_count": 40,
   "id": "2b2964a1",
   "metadata": {},
   "outputs": [],
   "source": [
    "X_train, X_test, y_train, y_test = train_test_split(X, y, test_size=0.33, random_state=42)"
   ]
  },
  {
   "cell_type": "code",
   "execution_count": 41,
   "id": "23f1d6aa",
   "metadata": {},
   "outputs": [
    {
     "data": {
      "text/html": [
       "<div>\n",
       "<style scoped>\n",
       "    .dataframe tbody tr th:only-of-type {\n",
       "        vertical-align: middle;\n",
       "    }\n",
       "\n",
       "    .dataframe tbody tr th {\n",
       "        vertical-align: top;\n",
       "    }\n",
       "\n",
       "    .dataframe thead th {\n",
       "        text-align: right;\n",
       "    }\n",
       "</style>\n",
       "<table border=\"1\" class=\"dataframe\">\n",
       "  <thead>\n",
       "    <tr style=\"text-align: right;\">\n",
       "      <th></th>\n",
       "      <th>name</th>\n",
       "      <th>ex</th>\n",
       "      <th>eduform_id</th>\n",
       "      <th>fintype_id</th>\n",
       "      <th>point_mean</th>\n",
       "      <th>point_sum</th>\n",
       "      <th>spec_mean_point</th>\n",
       "      <th>bal_above_id</th>\n",
       "    </tr>\n",
       "  </thead>\n",
       "  <tbody>\n",
       "    <tr>\n",
       "      <th>4789</th>\n",
       "      <td>Стрелково-пушечное, артиллерийское и ракетное ...</td>\n",
       "      <td>Математика,Физика,Русский язык</td>\n",
       "      <td>1</td>\n",
       "      <td>1</td>\n",
       "      <td>70.666667</td>\n",
       "      <td>212</td>\n",
       "      <td>64.140741</td>\n",
       "      <td>74</td>\n",
       "    </tr>\n",
       "    <tr>\n",
       "      <th>6889</th>\n",
       "      <td>Информационные системы и технологии</td>\n",
       "      <td>Математика,Информатика и ИКТ,Русский язык</td>\n",
       "      <td>1</td>\n",
       "      <td>2</td>\n",
       "      <td>78.666667</td>\n",
       "      <td>236</td>\n",
       "      <td>72.075055</td>\n",
       "      <td>343</td>\n",
       "    </tr>\n",
       "    <tr>\n",
       "      <th>4704</th>\n",
       "      <td>Мехатроника и робототехника</td>\n",
       "      <td>Математика,Физика,Русский язык</td>\n",
       "      <td>1</td>\n",
       "      <td>1</td>\n",
       "      <td>83.000000</td>\n",
       "      <td>249</td>\n",
       "      <td>69.980047</td>\n",
       "      <td>18</td>\n",
       "    </tr>\n",
       "    <tr>\n",
       "      <th>8737</th>\n",
       "      <td>Стандартизация и метрология</td>\n",
       "      <td>Математика,Физика,Русский язык</td>\n",
       "      <td>1</td>\n",
       "      <td>1</td>\n",
       "      <td>64.333333</td>\n",
       "      <td>193</td>\n",
       "      <td>65.050980</td>\n",
       "      <td>55</td>\n",
       "    </tr>\n",
       "    <tr>\n",
       "      <th>6884</th>\n",
       "      <td>Оптотехника</td>\n",
       "      <td>Математика,Физика,Русский язык</td>\n",
       "      <td>1</td>\n",
       "      <td>1</td>\n",
       "      <td>69.333333</td>\n",
       "      <td>208</td>\n",
       "      <td>65.300412</td>\n",
       "      <td>44</td>\n",
       "    </tr>\n",
       "  </tbody>\n",
       "</table>\n",
       "</div>"
      ],
      "text/plain": [
       "                                                   name  \\\n",
       "4789  Стрелково-пушечное, артиллерийское и ракетное ...   \n",
       "6889                Информационные системы и технологии   \n",
       "4704                        Мехатроника и робототехника   \n",
       "8737                        Стандартизация и метрология   \n",
       "6884                                        Оптотехника   \n",
       "\n",
       "                                             ex  eduform_id  fintype_id  \\\n",
       "4789             Математика,Физика,Русский язык           1           1   \n",
       "6889  Математика,Информатика и ИКТ,Русский язык           1           2   \n",
       "4704             Математика,Физика,Русский язык           1           1   \n",
       "8737             Математика,Физика,Русский язык           1           1   \n",
       "6884             Математика,Физика,Русский язык           1           1   \n",
       "\n",
       "      point_mean  point_sum  spec_mean_point  bal_above_id  \n",
       "4789   70.666667        212        64.140741            74  \n",
       "6889   78.666667        236        72.075055           343  \n",
       "4704   83.000000        249        69.980047            18  \n",
       "8737   64.333333        193        65.050980            55  \n",
       "6884   69.333333        208        65.300412            44  "
      ]
     },
     "execution_count": 41,
     "metadata": {},
     "output_type": "execute_result"
    }
   ],
   "source": [
    "X_train.head()"
   ]
  },
  {
   "cell_type": "code",
   "execution_count": 42,
   "id": "debc06ac",
   "metadata": {},
   "outputs": [],
   "source": [
    " train_pool = Pool(\n",
    "     data=X_train,\n",
    "     label=y_train,\n",
    "     cat_features=['name', 'ex', 'eduform_id', 'fintype_id']\n",
    " )\n",
    "    \n",
    "test_pool = Pool(\n",
    "    data=X_test,\n",
    "    label=y_test,\n",
    "    cat_features=['name', 'ex', 'eduform_id', 'fintype_id']\n",
    ")"
   ]
  },
  {
   "cell_type": "code",
   "execution_count": 43,
   "id": "0b9f988d",
   "metadata": {},
   "outputs": [],
   "source": [
    "clf = CatBoostClassifier(\n",
    "    iterations=300,\n",
    "    depth=15,\n",
    "    learning_rate=0.1,\n",
    ")"
   ]
  },
  {
   "cell_type": "code",
   "execution_count": 44,
   "id": "75edf32f",
   "metadata": {},
   "outputs": [
    {
     "name": "stdout",
     "output_type": "stream",
     "text": [
      "0:\tlearn: 0.6427223\ttotal: 231ms\tremaining: 1m 8s\n",
      "1:\tlearn: 0.5965400\ttotal: 252ms\tremaining: 37.5s\n",
      "2:\tlearn: 0.5651491\ttotal: 275ms\tremaining: 27.2s\n",
      "3:\tlearn: 0.5277901\ttotal: 977ms\tremaining: 1m 12s\n",
      "4:\tlearn: 0.5095545\ttotal: 1.02s\tremaining: 1m\n",
      "5:\tlearn: 0.4863707\ttotal: 1.27s\tremaining: 1m 2s\n",
      "6:\tlearn: 0.4767679\ttotal: 1.28s\tremaining: 53.6s\n",
      "7:\tlearn: 0.4676297\ttotal: 1.32s\tremaining: 48.4s\n",
      "8:\tlearn: 0.4493453\ttotal: 2.08s\tremaining: 1m 7s\n",
      "9:\tlearn: 0.4337256\ttotal: 2.79s\tremaining: 1m 20s\n",
      "10:\tlearn: 0.4294122\ttotal: 2.81s\tremaining: 1m 13s\n",
      "11:\tlearn: 0.4155999\ttotal: 3.62s\tremaining: 1m 26s\n",
      "12:\tlearn: 0.4139662\ttotal: 3.63s\tremaining: 1m 20s\n",
      "13:\tlearn: 0.4017924\ttotal: 4.39s\tremaining: 1m 29s\n",
      "14:\tlearn: 0.3922768\ttotal: 5s\tremaining: 1m 35s\n",
      "15:\tlearn: 0.3906742\ttotal: 5.01s\tremaining: 1m 29s\n",
      "16:\tlearn: 0.3855975\ttotal: 5.67s\tremaining: 1m 34s\n",
      "17:\tlearn: 0.3845169\ttotal: 5.72s\tremaining: 1m 29s\n",
      "18:\tlearn: 0.3805376\ttotal: 6.57s\tremaining: 1m 37s\n",
      "19:\tlearn: 0.3794741\ttotal: 6.62s\tremaining: 1m 32s\n",
      "20:\tlearn: 0.3762582\ttotal: 7.43s\tremaining: 1m 38s\n",
      "21:\tlearn: 0.3707220\ttotal: 8.17s\tremaining: 1m 43s\n",
      "22:\tlearn: 0.3643837\ttotal: 8.87s\tremaining: 1m 46s\n",
      "23:\tlearn: 0.3602734\ttotal: 9.51s\tremaining: 1m 49s\n",
      "24:\tlearn: 0.3571588\ttotal: 10.4s\tremaining: 1m 54s\n",
      "25:\tlearn: 0.3571221\ttotal: 10.4s\tremaining: 1m 49s\n",
      "26:\tlearn: 0.3552940\ttotal: 11.3s\tremaining: 1m 54s\n",
      "27:\tlearn: 0.3505828\ttotal: 12.1s\tremaining: 1m 57s\n",
      "28:\tlearn: 0.3495957\ttotal: 12.9s\tremaining: 2m\n",
      "29:\tlearn: 0.3487247\ttotal: 13.5s\tremaining: 2m 1s\n",
      "30:\tlearn: 0.3443462\ttotal: 14.3s\tremaining: 2m 3s\n",
      "31:\tlearn: 0.3430705\ttotal: 14.9s\tremaining: 2m 4s\n",
      "32:\tlearn: 0.3386195\ttotal: 15.7s\tremaining: 2m 7s\n",
      "33:\tlearn: 0.3372446\ttotal: 16.3s\tremaining: 2m 7s\n",
      "34:\tlearn: 0.3357859\ttotal: 17.1s\tremaining: 2m 9s\n",
      "35:\tlearn: 0.3340304\ttotal: 17.7s\tremaining: 2m 9s\n",
      "36:\tlearn: 0.3320535\ttotal: 18.3s\tremaining: 2m 10s\n",
      "37:\tlearn: 0.3307261\ttotal: 19.2s\tremaining: 2m 12s\n",
      "38:\tlearn: 0.3286210\ttotal: 19.8s\tremaining: 2m 12s\n",
      "39:\tlearn: 0.3277730\ttotal: 20.5s\tremaining: 2m 13s\n",
      "40:\tlearn: 0.3271782\ttotal: 21.1s\tremaining: 2m 13s\n",
      "41:\tlearn: 0.3271762\ttotal: 21.2s\tremaining: 2m 9s\n",
      "42:\tlearn: 0.3252491\ttotal: 21.9s\tremaining: 2m 10s\n",
      "43:\tlearn: 0.3224461\ttotal: 22.7s\tremaining: 2m 12s\n",
      "44:\tlearn: 0.3223102\ttotal: 22.7s\tremaining: 2m 8s\n",
      "45:\tlearn: 0.3220154\ttotal: 22.8s\tremaining: 2m 5s\n",
      "46:\tlearn: 0.3215013\ttotal: 23.4s\tremaining: 2m 6s\n",
      "47:\tlearn: 0.3210055\ttotal: 24.2s\tremaining: 2m 6s\n",
      "48:\tlearn: 0.3205097\ttotal: 24.8s\tremaining: 2m 6s\n",
      "49:\tlearn: 0.3197551\ttotal: 25.4s\tremaining: 2m 7s\n",
      "50:\tlearn: 0.3197546\ttotal: 25.4s\tremaining: 2m 4s\n",
      "51:\tlearn: 0.3184885\ttotal: 26.1s\tremaining: 2m 4s\n",
      "52:\tlearn: 0.3158759\ttotal: 27.1s\tremaining: 2m 6s\n",
      "53:\tlearn: 0.3142603\ttotal: 27.9s\tremaining: 2m 6s\n",
      "54:\tlearn: 0.3142311\ttotal: 27.9s\tremaining: 2m 4s\n",
      "55:\tlearn: 0.3127665\ttotal: 28.8s\tremaining: 2m 5s\n",
      "56:\tlearn: 0.3126318\ttotal: 28.9s\tremaining: 2m 3s\n",
      "57:\tlearn: 0.3120328\ttotal: 29.8s\tremaining: 2m 4s\n",
      "58:\tlearn: 0.3114617\ttotal: 30.5s\tremaining: 2m 4s\n",
      "59:\tlearn: 0.3112663\ttotal: 30.6s\tremaining: 2m 2s\n",
      "60:\tlearn: 0.3112660\ttotal: 30.6s\tremaining: 1m 59s\n",
      "61:\tlearn: 0.3107682\ttotal: 31.4s\tremaining: 2m\n",
      "62:\tlearn: 0.3102438\ttotal: 32.1s\tremaining: 2m\n",
      "63:\tlearn: 0.3102002\ttotal: 32.1s\tremaining: 1m 58s\n",
      "64:\tlearn: 0.3084522\ttotal: 32.7s\tremaining: 1m 58s\n",
      "65:\tlearn: 0.3077851\ttotal: 33.3s\tremaining: 1m 58s\n",
      "66:\tlearn: 0.3068891\ttotal: 34.2s\tremaining: 1m 58s\n",
      "67:\tlearn: 0.3055956\ttotal: 35s\tremaining: 1m 59s\n",
      "68:\tlearn: 0.3055537\ttotal: 35.1s\tremaining: 1m 57s\n",
      "69:\tlearn: 0.3050507\ttotal: 35.7s\tremaining: 1m 57s\n",
      "70:\tlearn: 0.3041892\ttotal: 36.4s\tremaining: 1m 57s\n",
      "71:\tlearn: 0.3041258\ttotal: 36.5s\tremaining: 1m 55s\n",
      "72:\tlearn: 0.3028282\ttotal: 37.2s\tremaining: 1m 55s\n",
      "73:\tlearn: 0.3022989\ttotal: 38s\tremaining: 1m 55s\n",
      "74:\tlearn: 0.3022985\ttotal: 38s\tremaining: 1m 53s\n",
      "75:\tlearn: 0.3020600\ttotal: 38.7s\tremaining: 1m 54s\n",
      "76:\tlearn: 0.3003972\ttotal: 39.5s\tremaining: 1m 54s\n",
      "77:\tlearn: 0.3001814\ttotal: 39.7s\tremaining: 1m 52s\n",
      "78:\tlearn: 0.3001477\ttotal: 39.7s\tremaining: 1m 51s\n",
      "79:\tlearn: 0.2999112\ttotal: 39.7s\tremaining: 1m 49s\n",
      "80:\tlearn: 0.2973334\ttotal: 40.3s\tremaining: 1m 49s\n",
      "81:\tlearn: 0.2965938\ttotal: 41s\tremaining: 1m 49s\n",
      "82:\tlearn: 0.2958543\ttotal: 41.3s\tremaining: 1m 47s\n",
      "83:\tlearn: 0.2953105\ttotal: 41.9s\tremaining: 1m 47s\n",
      "84:\tlearn: 0.2953058\ttotal: 41.9s\tremaining: 1m 46s\n",
      "85:\tlearn: 0.2947451\ttotal: 42.7s\tremaining: 1m 46s\n",
      "86:\tlearn: 0.2937318\ttotal: 43.5s\tremaining: 1m 46s\n",
      "87:\tlearn: 0.2931610\ttotal: 44.1s\tremaining: 1m 46s\n",
      "88:\tlearn: 0.2926298\ttotal: 44.9s\tremaining: 1m 46s\n",
      "89:\tlearn: 0.2916353\ttotal: 45.6s\tremaining: 1m 46s\n",
      "90:\tlearn: 0.2908821\ttotal: 46.3s\tremaining: 1m 46s\n",
      "91:\tlearn: 0.2892507\ttotal: 46.9s\tremaining: 1m 46s\n",
      "92:\tlearn: 0.2887760\ttotal: 47.6s\tremaining: 1m 45s\n",
      "93:\tlearn: 0.2873478\ttotal: 48.2s\tremaining: 1m 45s\n",
      "94:\tlearn: 0.2872847\ttotal: 48.3s\tremaining: 1m 44s\n",
      "95:\tlearn: 0.2871590\ttotal: 48.3s\tremaining: 1m 42s\n",
      "96:\tlearn: 0.2871241\ttotal: 48.3s\tremaining: 1m 41s\n",
      "97:\tlearn: 0.2863074\ttotal: 48.9s\tremaining: 1m 40s\n",
      "98:\tlearn: 0.2859573\ttotal: 49.6s\tremaining: 1m 40s\n",
      "99:\tlearn: 0.2851668\ttotal: 50.3s\tremaining: 1m 40s\n",
      "100:\tlearn: 0.2834300\ttotal: 51.1s\tremaining: 1m 40s\n",
      "101:\tlearn: 0.2827761\ttotal: 51.7s\tremaining: 1m 40s\n",
      "102:\tlearn: 0.2810890\ttotal: 52.2s\tremaining: 1m 39s\n",
      "103:\tlearn: 0.2794078\ttotal: 52.9s\tremaining: 1m 39s\n",
      "104:\tlearn: 0.2781348\ttotal: 53.7s\tremaining: 1m 39s\n",
      "105:\tlearn: 0.2775865\ttotal: 54.4s\tremaining: 1m 39s\n",
      "106:\tlearn: 0.2767657\ttotal: 55.4s\tremaining: 1m 39s\n",
      "107:\tlearn: 0.2762824\ttotal: 56.2s\tremaining: 1m 39s\n",
      "108:\tlearn: 0.2758091\ttotal: 57.1s\tremaining: 1m 40s\n",
      "109:\tlearn: 0.2745855\ttotal: 58.2s\tremaining: 1m 40s\n",
      "110:\tlearn: 0.2733192\ttotal: 59s\tremaining: 1m 40s\n",
      "111:\tlearn: 0.2726112\ttotal: 59.9s\tremaining: 1m 40s\n",
      "112:\tlearn: 0.2706086\ttotal: 1m\tremaining: 1m 40s\n",
      "113:\tlearn: 0.2697532\ttotal: 1m 1s\tremaining: 1m 39s\n",
      "114:\tlearn: 0.2687587\ttotal: 1m 1s\tremaining: 1m 39s\n",
      "115:\tlearn: 0.2669549\ttotal: 1m 2s\tremaining: 1m 39s\n",
      "116:\tlearn: 0.2662339\ttotal: 1m 3s\tremaining: 1m 39s\n",
      "117:\tlearn: 0.2652169\ttotal: 1m 4s\tremaining: 1m 39s\n",
      "118:\tlearn: 0.2641557\ttotal: 1m 4s\tremaining: 1m 38s\n",
      "119:\tlearn: 0.2637377\ttotal: 1m 5s\tremaining: 1m 38s\n",
      "120:\tlearn: 0.2628171\ttotal: 1m 6s\tremaining: 1m 38s\n",
      "121:\tlearn: 0.2619428\ttotal: 1m 7s\tremaining: 1m 37s\n",
      "122:\tlearn: 0.2605588\ttotal: 1m 8s\tremaining: 1m 37s\n",
      "123:\tlearn: 0.2587766\ttotal: 1m 8s\tremaining: 1m 37s\n",
      "124:\tlearn: 0.2581135\ttotal: 1m 9s\tremaining: 1m 37s\n",
      "125:\tlearn: 0.2567571\ttotal: 1m 10s\tremaining: 1m 37s\n",
      "126:\tlearn: 0.2552877\ttotal: 1m 10s\tremaining: 1m 36s\n",
      "127:\tlearn: 0.2543108\ttotal: 1m 11s\tremaining: 1m 36s\n",
      "128:\tlearn: 0.2524090\ttotal: 1m 12s\tremaining: 1m 35s\n",
      "129:\tlearn: 0.2514889\ttotal: 1m 12s\tremaining: 1m 35s\n",
      "130:\tlearn: 0.2497995\ttotal: 1m 13s\tremaining: 1m 35s\n",
      "131:\tlearn: 0.2489399\ttotal: 1m 14s\tremaining: 1m 34s\n",
      "132:\tlearn: 0.2484193\ttotal: 1m 14s\tremaining: 1m 33s\n",
      "133:\tlearn: 0.2466220\ttotal: 1m 15s\tremaining: 1m 33s\n",
      "134:\tlearn: 0.2456514\ttotal: 1m 16s\tremaining: 1m 33s\n",
      "135:\tlearn: 0.2453398\ttotal: 1m 16s\tremaining: 1m 32s\n",
      "136:\tlearn: 0.2445803\ttotal: 1m 17s\tremaining: 1m 32s\n",
      "137:\tlearn: 0.2436356\ttotal: 1m 18s\tremaining: 1m 32s\n",
      "138:\tlearn: 0.2427913\ttotal: 1m 19s\tremaining: 1m 31s\n",
      "139:\tlearn: 0.2419794\ttotal: 1m 20s\tremaining: 1m 31s\n",
      "140:\tlearn: 0.2416683\ttotal: 1m 21s\tremaining: 1m 31s\n",
      "141:\tlearn: 0.2413633\ttotal: 1m 21s\tremaining: 1m 30s\n",
      "142:\tlearn: 0.2409247\ttotal: 1m 22s\tremaining: 1m 30s\n",
      "143:\tlearn: 0.2406130\ttotal: 1m 23s\tremaining: 1m 30s\n",
      "144:\tlearn: 0.2401365\ttotal: 1m 23s\tremaining: 1m 29s\n",
      "145:\tlearn: 0.2392868\ttotal: 1m 24s\tremaining: 1m 29s\n",
      "146:\tlearn: 0.2383702\ttotal: 1m 25s\tremaining: 1m 28s\n",
      "147:\tlearn: 0.2374563\ttotal: 1m 25s\tremaining: 1m 28s\n",
      "148:\tlearn: 0.2370594\ttotal: 1m 26s\tremaining: 1m 27s\n",
      "149:\tlearn: 0.2360559\ttotal: 1m 27s\tremaining: 1m 27s\n",
      "150:\tlearn: 0.2350996\ttotal: 1m 27s\tremaining: 1m 26s\n",
      "151:\tlearn: 0.2348261\ttotal: 1m 28s\tremaining: 1m 26s\n",
      "152:\tlearn: 0.2338354\ttotal: 1m 29s\tremaining: 1m 25s\n",
      "153:\tlearn: 0.2319762\ttotal: 1m 30s\tremaining: 1m 25s\n",
      "154:\tlearn: 0.2314154\ttotal: 1m 30s\tremaining: 1m 24s\n",
      "155:\tlearn: 0.2308924\ttotal: 1m 31s\tremaining: 1m 24s\n",
      "156:\tlearn: 0.2307138\ttotal: 1m 32s\tremaining: 1m 23s\n",
      "157:\tlearn: 0.2303479\ttotal: 1m 32s\tremaining: 1m 23s\n"
     ]
    },
    {
     "name": "stdout",
     "output_type": "stream",
     "text": [
      "158:\tlearn: 0.2297434\ttotal: 1m 33s\tremaining: 1m 22s\n",
      "159:\tlearn: 0.2291357\ttotal: 1m 34s\tremaining: 1m 22s\n",
      "160:\tlearn: 0.2286296\ttotal: 1m 34s\tremaining: 1m 21s\n",
      "161:\tlearn: 0.2279239\ttotal: 1m 35s\tremaining: 1m 21s\n",
      "162:\tlearn: 0.2275876\ttotal: 1m 36s\tremaining: 1m 20s\n",
      "163:\tlearn: 0.2267098\ttotal: 1m 37s\tremaining: 1m 20s\n",
      "164:\tlearn: 0.2262528\ttotal: 1m 38s\tremaining: 1m 20s\n",
      "165:\tlearn: 0.2256988\ttotal: 1m 39s\tremaining: 1m 20s\n",
      "166:\tlearn: 0.2243273\ttotal: 1m 40s\tremaining: 1m 19s\n",
      "167:\tlearn: 0.2235184\ttotal: 1m 41s\tremaining: 1m 19s\n",
      "168:\tlearn: 0.2228909\ttotal: 1m 41s\tremaining: 1m 19s\n",
      "169:\tlearn: 0.2226592\ttotal: 1m 42s\tremaining: 1m 18s\n",
      "170:\tlearn: 0.2221251\ttotal: 1m 42s\tremaining: 1m 17s\n",
      "171:\tlearn: 0.2214287\ttotal: 1m 43s\tremaining: 1m 17s\n",
      "172:\tlearn: 0.2207039\ttotal: 1m 44s\tremaining: 1m 16s\n",
      "173:\tlearn: 0.2201335\ttotal: 1m 44s\tremaining: 1m 15s\n",
      "174:\tlearn: 0.2198959\ttotal: 1m 45s\tremaining: 1m 15s\n",
      "175:\tlearn: 0.2192693\ttotal: 1m 46s\tremaining: 1m 15s\n",
      "176:\tlearn: 0.2188725\ttotal: 1m 47s\tremaining: 1m 14s\n",
      "177:\tlearn: 0.2180586\ttotal: 1m 47s\tremaining: 1m 13s\n",
      "178:\tlearn: 0.2176047\ttotal: 1m 48s\tremaining: 1m 13s\n",
      "179:\tlearn: 0.2173347\ttotal: 1m 49s\tremaining: 1m 12s\n",
      "180:\tlearn: 0.2170213\ttotal: 1m 50s\tremaining: 1m 12s\n",
      "181:\tlearn: 0.2164933\ttotal: 1m 50s\tremaining: 1m 11s\n",
      "182:\tlearn: 0.2160563\ttotal: 1m 51s\tremaining: 1m 11s\n",
      "183:\tlearn: 0.2158303\ttotal: 1m 52s\tremaining: 1m 10s\n",
      "184:\tlearn: 0.2151313\ttotal: 1m 53s\tremaining: 1m 10s\n",
      "185:\tlearn: 0.2146490\ttotal: 1m 53s\tremaining: 1m 9s\n",
      "186:\tlearn: 0.2142265\ttotal: 1m 54s\tremaining: 1m 9s\n",
      "187:\tlearn: 0.2137494\ttotal: 1m 55s\tremaining: 1m 8s\n",
      "188:\tlearn: 0.2134903\ttotal: 1m 55s\tremaining: 1m 7s\n",
      "189:\tlearn: 0.2133617\ttotal: 1m 55s\tremaining: 1m 7s\n",
      "190:\tlearn: 0.2126733\ttotal: 1m 56s\tremaining: 1m 6s\n",
      "191:\tlearn: 0.2118613\ttotal: 1m 57s\tremaining: 1m 5s\n",
      "192:\tlearn: 0.2116784\ttotal: 1m 57s\tremaining: 1m 5s\n",
      "193:\tlearn: 0.2115147\ttotal: 1m 58s\tremaining: 1m 4s\n",
      "194:\tlearn: 0.2110589\ttotal: 1m 59s\tremaining: 1m 4s\n",
      "195:\tlearn: 0.2104658\ttotal: 1m 59s\tremaining: 1m 3s\n",
      "196:\tlearn: 0.2102444\ttotal: 2m\tremaining: 1m 2s\n",
      "197:\tlearn: 0.2095880\ttotal: 2m 1s\tremaining: 1m 2s\n",
      "198:\tlearn: 0.2094004\ttotal: 2m 1s\tremaining: 1m 1s\n",
      "199:\tlearn: 0.2088501\ttotal: 2m 2s\tremaining: 1m 1s\n",
      "200:\tlearn: 0.2085376\ttotal: 2m 3s\tremaining: 1m\n",
      "201:\tlearn: 0.2075543\ttotal: 2m 4s\tremaining: 1m\n",
      "202:\tlearn: 0.2071231\ttotal: 2m 4s\tremaining: 59.7s\n",
      "203:\tlearn: 0.2059767\ttotal: 2m 5s\tremaining: 59.2s\n",
      "204:\tlearn: 0.2053559\ttotal: 2m 6s\tremaining: 58.6s\n",
      "205:\tlearn: 0.2052240\ttotal: 2m 7s\tremaining: 58.1s\n",
      "206:\tlearn: 0.2049421\ttotal: 2m 8s\tremaining: 57.6s\n",
      "207:\tlearn: 0.2049043\ttotal: 2m 8s\tremaining: 56.7s\n",
      "208:\tlearn: 0.2047119\ttotal: 2m 8s\tremaining: 56s\n",
      "209:\tlearn: 0.2041815\ttotal: 2m 9s\tremaining: 55.4s\n",
      "210:\tlearn: 0.2036805\ttotal: 2m 9s\tremaining: 54.8s\n",
      "211:\tlearn: 0.2034566\ttotal: 2m 10s\tremaining: 54.2s\n",
      "212:\tlearn: 0.2030525\ttotal: 2m 11s\tremaining: 53.6s\n",
      "213:\tlearn: 0.2025241\ttotal: 2m 11s\tremaining: 53s\n",
      "214:\tlearn: 0.2015762\ttotal: 2m 12s\tremaining: 52.4s\n",
      "215:\tlearn: 0.2012944\ttotal: 2m 13s\tremaining: 51.7s\n",
      "216:\tlearn: 0.2006472\ttotal: 2m 13s\tremaining: 51.2s\n",
      "217:\tlearn: 0.2001608\ttotal: 2m 14s\tremaining: 50.6s\n",
      "218:\tlearn: 0.1998757\ttotal: 2m 15s\tremaining: 50s\n",
      "219:\tlearn: 0.1985187\ttotal: 2m 15s\tremaining: 49.4s\n",
      "220:\tlearn: 0.1979604\ttotal: 2m 16s\tremaining: 48.8s\n",
      "221:\tlearn: 0.1975106\ttotal: 2m 17s\tremaining: 48.3s\n",
      "222:\tlearn: 0.1974442\ttotal: 2m 17s\tremaining: 47.6s\n",
      "223:\tlearn: 0.1971762\ttotal: 2m 18s\tremaining: 47.1s\n",
      "224:\tlearn: 0.1966477\ttotal: 2m 19s\tremaining: 46.5s\n",
      "225:\tlearn: 0.1964310\ttotal: 2m 19s\tremaining: 45.8s\n",
      "226:\tlearn: 0.1955733\ttotal: 2m 20s\tremaining: 45.2s\n",
      "227:\tlearn: 0.1951505\ttotal: 2m 21s\tremaining: 44.7s\n",
      "228:\tlearn: 0.1950261\ttotal: 2m 22s\tremaining: 44s\n",
      "229:\tlearn: 0.1942392\ttotal: 2m 22s\tremaining: 43.4s\n",
      "230:\tlearn: 0.1936184\ttotal: 2m 23s\tremaining: 42.9s\n",
      "231:\tlearn: 0.1931463\ttotal: 2m 24s\tremaining: 42.3s\n",
      "232:\tlearn: 0.1928802\ttotal: 2m 24s\tremaining: 41.7s\n",
      "233:\tlearn: 0.1924300\ttotal: 2m 25s\tremaining: 41.1s\n",
      "234:\tlearn: 0.1918354\ttotal: 2m 26s\tremaining: 40.5s\n",
      "235:\tlearn: 0.1917310\ttotal: 2m 26s\tremaining: 39.9s\n",
      "236:\tlearn: 0.1916521\ttotal: 2m 27s\tremaining: 39.2s\n",
      "237:\tlearn: 0.1909433\ttotal: 2m 28s\tremaining: 38.6s\n",
      "238:\tlearn: 0.1903645\ttotal: 2m 28s\tremaining: 38s\n",
      "239:\tlearn: 0.1902683\ttotal: 2m 29s\tremaining: 37.4s\n",
      "240:\tlearn: 0.1898923\ttotal: 2m 30s\tremaining: 36.8s\n",
      "241:\tlearn: 0.1897968\ttotal: 2m 31s\tremaining: 36.2s\n",
      "242:\tlearn: 0.1895576\ttotal: 2m 31s\tremaining: 35.5s\n",
      "243:\tlearn: 0.1894530\ttotal: 2m 31s\tremaining: 34.9s\n",
      "244:\tlearn: 0.1891272\ttotal: 2m 32s\tremaining: 34.3s\n",
      "245:\tlearn: 0.1886951\ttotal: 2m 33s\tremaining: 33.7s\n",
      "246:\tlearn: 0.1881542\ttotal: 2m 34s\tremaining: 33.1s\n",
      "247:\tlearn: 0.1871426\ttotal: 2m 34s\tremaining: 32.5s\n",
      "248:\tlearn: 0.1870215\ttotal: 2m 35s\tremaining: 31.8s\n",
      "249:\tlearn: 0.1869915\ttotal: 2m 36s\tremaining: 31.2s\n",
      "250:\tlearn: 0.1865682\ttotal: 2m 36s\tremaining: 30.6s\n",
      "251:\tlearn: 0.1863975\ttotal: 2m 37s\tremaining: 30s\n",
      "252:\tlearn: 0.1858856\ttotal: 2m 38s\tremaining: 29.4s\n",
      "253:\tlearn: 0.1855486\ttotal: 2m 38s\tremaining: 28.8s\n",
      "254:\tlearn: 0.1847725\ttotal: 2m 39s\tremaining: 28.1s\n",
      "255:\tlearn: 0.1845598\ttotal: 2m 40s\tremaining: 27.5s\n",
      "256:\tlearn: 0.1844952\ttotal: 2m 40s\tremaining: 26.8s\n",
      "257:\tlearn: 0.1838098\ttotal: 2m 41s\tremaining: 26.2s\n",
      "258:\tlearn: 0.1834897\ttotal: 2m 41s\tremaining: 25.6s\n",
      "259:\tlearn: 0.1829617\ttotal: 2m 42s\tremaining: 25s\n",
      "260:\tlearn: 0.1827247\ttotal: 2m 43s\tremaining: 24.4s\n",
      "261:\tlearn: 0.1823407\ttotal: 2m 43s\tremaining: 23.8s\n",
      "262:\tlearn: 0.1822010\ttotal: 2m 44s\tremaining: 23.1s\n",
      "263:\tlearn: 0.1820354\ttotal: 2m 45s\tremaining: 22.5s\n",
      "264:\tlearn: 0.1815801\ttotal: 2m 46s\tremaining: 21.9s\n",
      "265:\tlearn: 0.1811955\ttotal: 2m 46s\tremaining: 21.3s\n",
      "266:\tlearn: 0.1803591\ttotal: 2m 47s\tremaining: 20.7s\n",
      "267:\tlearn: 0.1793304\ttotal: 2m 48s\tremaining: 20.1s\n",
      "268:\tlearn: 0.1787860\ttotal: 2m 48s\tremaining: 19.5s\n",
      "269:\tlearn: 0.1785841\ttotal: 2m 49s\tremaining: 18.8s\n",
      "270:\tlearn: 0.1785547\ttotal: 2m 49s\tremaining: 18.2s\n",
      "271:\tlearn: 0.1781085\ttotal: 2m 50s\tremaining: 17.5s\n",
      "272:\tlearn: 0.1774908\ttotal: 2m 51s\tremaining: 16.9s\n",
      "273:\tlearn: 0.1772246\ttotal: 2m 51s\tremaining: 16.3s\n",
      "274:\tlearn: 0.1764862\ttotal: 2m 52s\tremaining: 15.7s\n",
      "275:\tlearn: 0.1760535\ttotal: 2m 53s\tremaining: 15.1s\n",
      "276:\tlearn: 0.1756337\ttotal: 2m 53s\tremaining: 14.4s\n",
      "277:\tlearn: 0.1750742\ttotal: 2m 54s\tremaining: 13.8s\n",
      "278:\tlearn: 0.1747562\ttotal: 2m 55s\tremaining: 13.2s\n",
      "279:\tlearn: 0.1746172\ttotal: 2m 55s\tremaining: 12.6s\n",
      "280:\tlearn: 0.1740333\ttotal: 2m 56s\tremaining: 11.9s\n",
      "281:\tlearn: 0.1738276\ttotal: 2m 57s\tremaining: 11.3s\n",
      "282:\tlearn: 0.1734505\ttotal: 2m 58s\tremaining: 10.7s\n",
      "283:\tlearn: 0.1733746\ttotal: 2m 59s\tremaining: 10.1s\n",
      "284:\tlearn: 0.1725599\ttotal: 3m\tremaining: 9.48s\n",
      "285:\tlearn: 0.1724705\ttotal: 3m\tremaining: 8.82s\n",
      "286:\tlearn: 0.1721171\ttotal: 3m 1s\tremaining: 8.2s\n",
      "287:\tlearn: 0.1714036\ttotal: 3m 1s\tremaining: 7.58s\n",
      "288:\tlearn: 0.1712619\ttotal: 3m 2s\tremaining: 6.95s\n",
      "289:\tlearn: 0.1708480\ttotal: 3m 3s\tremaining: 6.33s\n",
      "290:\tlearn: 0.1707655\ttotal: 3m 3s\tremaining: 5.68s\n",
      "291:\tlearn: 0.1702999\ttotal: 3m 4s\tremaining: 5.06s\n",
      "292:\tlearn: 0.1699892\ttotal: 3m 5s\tremaining: 4.43s\n",
      "293:\tlearn: 0.1697128\ttotal: 3m 6s\tremaining: 3.8s\n",
      "294:\tlearn: 0.1694143\ttotal: 3m 7s\tremaining: 3.17s\n",
      "295:\tlearn: 0.1683776\ttotal: 3m 7s\tremaining: 2.54s\n",
      "296:\tlearn: 0.1681138\ttotal: 3m 8s\tremaining: 1.9s\n",
      "297:\tlearn: 0.1678659\ttotal: 3m 9s\tremaining: 1.27s\n",
      "298:\tlearn: 0.1673048\ttotal: 3m 10s\tremaining: 636ms\n",
      "299:\tlearn: 0.1670628\ttotal: 3m 10s\tremaining: 0us\n"
     ]
    },
    {
     "data": {
      "text/plain": [
       "<catboost.core.CatBoostClassifier at 0x202b2f345b0>"
      ]
     },
     "execution_count": 44,
     "metadata": {},
     "output_type": "execute_result"
    }
   ],
   "source": [
    "clf.fit(train_pool)"
   ]
  },
  {
   "cell_type": "code",
   "execution_count": 51,
   "id": "a807759c",
   "metadata": {},
   "outputs": [],
   "source": [
    "y_pred = clf.predict(test_pool)"
   ]
  },
  {
   "cell_type": "code",
   "execution_count": 52,
   "id": "fa59aaa0",
   "metadata": {},
   "outputs": [
    {
     "data": {
      "text/plain": [
       "0.826530612244898"
      ]
     },
     "execution_count": 52,
     "metadata": {},
     "output_type": "execute_result"
    }
   ],
   "source": [
    "accuracy_score(y_test, y_pred)"
   ]
  },
  {
   "cell_type": "code",
   "execution_count": 53,
   "id": "3b951cf0",
   "metadata": {},
   "outputs": [
    {
     "data": {
      "text/plain": [
       "0.5546875"
      ]
     },
     "execution_count": 53,
     "metadata": {},
     "output_type": "execute_result"
    }
   ],
   "source": [
    "precision_score(y_test, y_pred)"
   ]
  },
  {
   "cell_type": "code",
   "execution_count": 54,
   "id": "231c603b",
   "metadata": {},
   "outputs": [
    {
     "data": {
      "text/plain": [
       "0.35323383084577115"
      ]
     },
     "execution_count": 54,
     "metadata": {},
     "output_type": "execute_result"
    }
   ],
   "source": [
    "recall_score(y_test, y_pred)"
   ]
  },
  {
   "cell_type": "code",
   "execution_count": 55,
   "id": "df9285dc",
   "metadata": {},
   "outputs": [],
   "source": [
    "cnf_mt = confusion_matrix(y_test, y_pred)"
   ]
  },
  {
   "cell_type": "code",
   "execution_count": 56,
   "id": "68a23623",
   "metadata": {},
   "outputs": [
    {
     "data": {
      "image/png": "[encoded data removed]",
      "text/plain": [
       "<Figure size 864x648 with 2 Axes>"
      ]
     },
     "metadata": {
      "needs_background": "light"
     },
     "output_type": "display_data"
    }
   ],
   "source": [
    "fig, ax = plt.subplots()\n",
    "fig.set_size_inches((12, 9))\n",
    "disp = ConfusionMatrixDisplay(cnf_mt)\n",
    "disp.plot(ax=ax, cmap=plt.cm.Blues)\n",
    "plt.grid(False)"
   ]
  },
  {
   "cell_type": "code",
   "execution_count": null,
   "id": "7ba46792",
   "metadata": {},
   "outputs": [],
   "source": []
  }
 ],
 "metadata": {
  "kernelspec": {
   "display_name": "ml_ds_nn_env",
   "language": "python",
   "name": "ml_ds_nn_env"
  },
  "language_info": {
   "codemirror_mode": {
    "name": "ipython",
    "version": 3
   },
   "file_extension": ".py",
   "mimetype": "text/x-python",
   "name": "python",
   "nbconvert_exporter": "python",
   "pygments_lexer": "ipython3",
   "version": "3.9.10"
  },
  "varInspector": {
   "cols": {
    "lenName": 16,
    "lenType": 16,
    "lenVar": 40
   },
   "kernels_config": {
    "python": {
     "delete_cmd_postfix": "",
     "delete_cmd_prefix": "del ",
     "library": "var_list.py",
     "varRefreshCmd": "print(var_dic_list())"
    },
    "r": {
     "delete_cmd_postfix": ") ",
     "delete_cmd_prefix": "rm(",
     "library": "var_list.r",
     "varRefreshCmd": "cat(var_dic_list()) "
    }
   },
   "types_to_exclude": [
    "module",
    "function",
    "builtin_function_or_method",
    "instance",
    "_Feature"
   ],
   "window_display": false
  }
 },
 "nbformat": 4,
 "nbformat_minor": 5
}
