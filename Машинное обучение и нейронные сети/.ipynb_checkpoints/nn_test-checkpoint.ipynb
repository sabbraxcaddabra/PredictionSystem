{
 "cells": [
  {
   "cell_type": "code",
   "execution_count": 1,
   "id": "771162bf",
   "metadata": {},
   "outputs": [
    {
     "name": "stderr",
     "output_type": "stream",
     "text": [
      "C:\\Users\\alway\\anaconda3\\envs\\ml_ds_nn_evn\\lib\\site-packages\\xgboost\\compat.py:36: FutureWarning: pandas.Int64Index is deprecated and will be removed from pandas in a future version. Use pandas.Index with the appropriate dtype instead.\n",
      "  from pandas import MultiIndex, Int64Index\n"
     ]
    }
   ],
   "source": [
    "import numpy as np\n",
    "import pandas as pd\n",
    "import sklearn\n",
    "import xgboost as xgb\n",
    "import tensorflow as tf\n",
    "import matplotlib.pyplot as plt\n",
    "import seaborn as sns\n",
    "import os\n",
    "sns.set()\n",
    "%matplotlib inline"
   ]
  },
  {
   "cell_type": "code",
   "execution_count": 21,
   "id": "0d6adf2e",
   "metadata": {},
   "outputs": [],
   "source": [
    "df = pd.read_csv('../Данные/scaled_one_hot_out.csv', index_col=0)"
   ]
  },
  {
   "cell_type": "code",
   "execution_count": 22,
   "id": "5c8bdc5a",
   "metadata": {},
   "outputs": [
    {
     "data": {
      "text/html": [
       "<div>\n",
       "<style scoped>\n",
       "    .dataframe tbody tr th:only-of-type {\n",
       "        vertical-align: middle;\n",
       "    }\n",
       "\n",
       "    .dataframe tbody tr th {\n",
       "        vertical-align: top;\n",
       "    }\n",
       "\n",
       "    .dataframe thead th {\n",
       "        text-align: right;\n",
       "    }\n",
       "</style>\n",
       "<table border=\"1\" class=\"dataframe\">\n",
       "  <thead>\n",
       "    <tr style=\"text-align: right;\">\n",
       "      <th></th>\n",
       "      <th>sum_bal</th>\n",
       "      <th>rus</th>\n",
       "      <th>math</th>\n",
       "      <th>phis</th>\n",
       "      <th>ikt</th>\n",
       "      <th>obsh</th>\n",
       "      <th>ino</th>\n",
       "      <th>bio</th>\n",
       "      <th>spec_id_1</th>\n",
       "      <th>spec_id_2</th>\n",
       "      <th>...</th>\n",
       "      <th>spec_id_38</th>\n",
       "      <th>spec_id_39</th>\n",
       "      <th>spec_id_62</th>\n",
       "      <th>spec_id_64</th>\n",
       "      <th>edu_form_1</th>\n",
       "      <th>edu_form_2</th>\n",
       "      <th>edu_form_3</th>\n",
       "      <th>fin_type_1.0</th>\n",
       "      <th>fin_type_2.0</th>\n",
       "      <th>status</th>\n",
       "    </tr>\n",
       "  </thead>\n",
       "  <tbody>\n",
       "    <tr>\n",
       "      <th>1</th>\n",
       "      <td>0.039837</td>\n",
       "      <td>0.453629</td>\n",
       "      <td>0.107931</td>\n",
       "      <td>0.751813</td>\n",
       "      <td>-0.68807</td>\n",
       "      <td>-0.233386</td>\n",
       "      <td>-0.142612</td>\n",
       "      <td>0.0</td>\n",
       "      <td>0</td>\n",
       "      <td>0</td>\n",
       "      <td>...</td>\n",
       "      <td>0</td>\n",
       "      <td>0</td>\n",
       "      <td>0</td>\n",
       "      <td>0</td>\n",
       "      <td>1</td>\n",
       "      <td>0</td>\n",
       "      <td>0</td>\n",
       "      <td>1</td>\n",
       "      <td>0</td>\n",
       "      <td>1</td>\n",
       "    </tr>\n",
       "    <tr>\n",
       "      <th>2</th>\n",
       "      <td>0.039837</td>\n",
       "      <td>0.453629</td>\n",
       "      <td>0.107931</td>\n",
       "      <td>0.751813</td>\n",
       "      <td>-0.68807</td>\n",
       "      <td>-0.233386</td>\n",
       "      <td>-0.142612</td>\n",
       "      <td>0.0</td>\n",
       "      <td>0</td>\n",
       "      <td>0</td>\n",
       "      <td>...</td>\n",
       "      <td>0</td>\n",
       "      <td>0</td>\n",
       "      <td>0</td>\n",
       "      <td>0</td>\n",
       "      <td>1</td>\n",
       "      <td>0</td>\n",
       "      <td>0</td>\n",
       "      <td>1</td>\n",
       "      <td>0</td>\n",
       "      <td>0</td>\n",
       "    </tr>\n",
       "    <tr>\n",
       "      <th>3</th>\n",
       "      <td>0.039837</td>\n",
       "      <td>0.453629</td>\n",
       "      <td>0.107931</td>\n",
       "      <td>0.751813</td>\n",
       "      <td>-0.68807</td>\n",
       "      <td>-0.233386</td>\n",
       "      <td>-0.142612</td>\n",
       "      <td>0.0</td>\n",
       "      <td>0</td>\n",
       "      <td>0</td>\n",
       "      <td>...</td>\n",
       "      <td>0</td>\n",
       "      <td>0</td>\n",
       "      <td>0</td>\n",
       "      <td>0</td>\n",
       "      <td>1</td>\n",
       "      <td>0</td>\n",
       "      <td>0</td>\n",
       "      <td>1</td>\n",
       "      <td>0</td>\n",
       "      <td>0</td>\n",
       "    </tr>\n",
       "    <tr>\n",
       "      <th>4</th>\n",
       "      <td>0.039837</td>\n",
       "      <td>0.453629</td>\n",
       "      <td>0.107931</td>\n",
       "      <td>0.751813</td>\n",
       "      <td>-0.68807</td>\n",
       "      <td>-0.233386</td>\n",
       "      <td>-0.142612</td>\n",
       "      <td>0.0</td>\n",
       "      <td>0</td>\n",
       "      <td>0</td>\n",
       "      <td>...</td>\n",
       "      <td>0</td>\n",
       "      <td>0</td>\n",
       "      <td>0</td>\n",
       "      <td>0</td>\n",
       "      <td>1</td>\n",
       "      <td>0</td>\n",
       "      <td>0</td>\n",
       "      <td>1</td>\n",
       "      <td>0</td>\n",
       "      <td>0</td>\n",
       "    </tr>\n",
       "    <tr>\n",
       "      <th>5</th>\n",
       "      <td>0.039837</td>\n",
       "      <td>0.453629</td>\n",
       "      <td>0.107931</td>\n",
       "      <td>0.751813</td>\n",
       "      <td>-0.68807</td>\n",
       "      <td>-0.233386</td>\n",
       "      <td>-0.142612</td>\n",
       "      <td>0.0</td>\n",
       "      <td>0</td>\n",
       "      <td>0</td>\n",
       "      <td>...</td>\n",
       "      <td>0</td>\n",
       "      <td>0</td>\n",
       "      <td>0</td>\n",
       "      <td>0</td>\n",
       "      <td>1</td>\n",
       "      <td>0</td>\n",
       "      <td>0</td>\n",
       "      <td>1</td>\n",
       "      <td>0</td>\n",
       "      <td>0</td>\n",
       "    </tr>\n",
       "  </tbody>\n",
       "</table>\n",
       "<p>5 rows × 52 columns</p>\n",
       "</div>"
      ],
      "text/plain": [
       "    sum_bal       rus      math      phis      ikt      obsh       ino  bio  \\\n",
       "1  0.039837  0.453629  0.107931  0.751813 -0.68807 -0.233386 -0.142612  0.0   \n",
       "2  0.039837  0.453629  0.107931  0.751813 -0.68807 -0.233386 -0.142612  0.0   \n",
       "3  0.039837  0.453629  0.107931  0.751813 -0.68807 -0.233386 -0.142612  0.0   \n",
       "4  0.039837  0.453629  0.107931  0.751813 -0.68807 -0.233386 -0.142612  0.0   \n",
       "5  0.039837  0.453629  0.107931  0.751813 -0.68807 -0.233386 -0.142612  0.0   \n",
       "\n",
       "   spec_id_1  spec_id_2  ...  spec_id_38  spec_id_39  spec_id_62  spec_id_64  \\\n",
       "1          0          0  ...           0           0           0           0   \n",
       "2          0          0  ...           0           0           0           0   \n",
       "3          0          0  ...           0           0           0           0   \n",
       "4          0          0  ...           0           0           0           0   \n",
       "5          0          0  ...           0           0           0           0   \n",
       "\n",
       "   edu_form_1  edu_form_2  edu_form_3  fin_type_1.0  fin_type_2.0  status  \n",
       "1           1           0           0             1             0       1  \n",
       "2           1           0           0             1             0       0  \n",
       "3           1           0           0             1             0       0  \n",
       "4           1           0           0             1             0       0  \n",
       "5           1           0           0             1             0       0  \n",
       "\n",
       "[5 rows x 52 columns]"
      ]
     },
     "execution_count": 22,
     "metadata": {},
     "output_type": "execute_result"
    }
   ],
   "source": [
    "df.head()"
   ]
  },
  {
   "cell_type": "code",
   "execution_count": 23,
   "id": "db76942d",
   "metadata": {},
   "outputs": [],
   "source": [
    "y = df['status']\n",
    "X = df.drop(['status'], axis=1)"
   ]
  },
  {
   "cell_type": "code",
   "execution_count": 24,
   "id": "38964f6f",
   "metadata": {},
   "outputs": [],
   "source": [
    "from sklearn.model_selection import train_test_split"
   ]
  },
  {
   "cell_type": "code",
   "execution_count": 25,
   "id": "3cb5f878",
   "metadata": {},
   "outputs": [],
   "source": [
    "X_train, X_test, y_train, y_test = train_test_split(X.to_numpy(), y.to_numpy(), test_size=0.33, random_state=42)"
   ]
  },
  {
   "cell_type": "code",
   "execution_count": 26,
   "id": "949e1722",
   "metadata": {},
   "outputs": [],
   "source": [
    "from tensorflow.keras.models import Sequential\n",
    "from tensorflow.keras.layers import Dense\n",
    "from tensorflow.keras import metrics"
   ]
  },
  {
   "cell_type": "code",
   "execution_count": 27,
   "id": "67b75737",
   "metadata": {},
   "outputs": [],
   "source": [
    "n_cols = X_train.shape[1]"
   ]
  },
  {
   "cell_type": "code",
   "execution_count": 28,
   "id": "1c9d83bb",
   "metadata": {},
   "outputs": [],
   "source": [
    "model = Sequential()\n",
    "model.add(Dense(50, activation='relu', input_shape=(n_cols,)))\n",
    "model.add(Dense(20, activation='relu'))\n",
    "model.add(Dense(10, activation='relu'))\n",
    "model.add(Dense(1, activation='sigmoid'))"
   ]
  },
  {
   "cell_type": "code",
   "execution_count": 29,
   "id": "2cf4083f",
   "metadata": {},
   "outputs": [],
   "source": [
    "model.compile(optimizer='adam', loss='binary_crossentropy',\n",
    "              metrics=[metrics.Accuracy(), metrics.Precision(), metrics.Recall(), metrics.AUC()]\n",
    "             )"
   ]
  },
  {
   "cell_type": "code",
   "execution_count": 30,
   "id": "251f980b",
   "metadata": {},
   "outputs": [
    {
     "name": "stdout",
     "output_type": "stream",
     "text": [
      "Epoch 1/30\n",
      "314/314 [==============================] - 4s 6ms/step - loss: 0.2678 - accuracy: 0.0000e+00 - precision_1: 0.0000e+00 - recall_1: 0.0000e+00 - auc_1: 0.5943 - val_loss: 0.2401 - val_accuracy: 0.0000e+00 - val_precision_1: 0.0000e+00 - val_recall_1: 0.0000e+00 - val_auc_1: 0.6934\n",
      "Epoch 2/30\n",
      "314/314 [==============================] - 1s 3ms/step - loss: 0.2305 - accuracy: 0.0000e+00 - precision_1: 0.0000e+00 - recall_1: 0.0000e+00 - auc_1: 0.7139 - val_loss: 0.2311 - val_accuracy: 0.0000e+00 - val_precision_1: 0.0000e+00 - val_recall_1: 0.0000e+00 - val_auc_1: 0.7408\n",
      "Epoch 3/30\n",
      "314/314 [==============================] - 1s 3ms/step - loss: 0.2254 - accuracy: 0.0000e+00 - precision_1: 0.5000 - recall_1: 0.0043 - auc_1: 0.7423 - val_loss: 0.2272 - val_accuracy: 0.0000e+00 - val_precision_1: 0.3750 - val_recall_1: 0.0097 - val_auc_1: 0.7530\n",
      "Epoch 4/30\n",
      "314/314 [==============================] - 1s 3ms/step - loss: 0.2198 - accuracy: 0.0000e+00 - precision_1: 0.7143 - recall_1: 0.0144 - auc_1: 0.7611 - val_loss: 0.2273 - val_accuracy: 0.0000e+00 - val_precision_1: 0.6667 - val_recall_1: 0.0388 - val_auc_1: 0.7596\n",
      "Epoch 5/30\n",
      "314/314 [==============================] - 1s 3ms/step - loss: 0.2173 - accuracy: 0.0000e+00 - precision_1: 0.6765 - recall_1: 0.0331 - auc_1: 0.7702 - val_loss: 0.2244 - val_accuracy: 0.0000e+00 - val_precision_1: 0.6111 - val_recall_1: 0.0356 - val_auc_1: 0.7611\n",
      "Epoch 6/30\n",
      "314/314 [==============================] - 1s 3ms/step - loss: 0.2139 - accuracy: 0.0000e+00 - precision_1: 0.6667 - recall_1: 0.0345 - auc_1: 0.7854 - val_loss: 0.2225 - val_accuracy: 0.0000e+00 - val_precision_1: 0.6667 - val_recall_1: 0.0647 - val_auc_1: 0.7671\n",
      "Epoch 7/30\n",
      "314/314 [==============================] - 1s 3ms/step - loss: 0.2115 - accuracy: 0.0000e+00 - precision_1: 0.6341 - recall_1: 0.0374 - auc_1: 0.7926 - val_loss: 0.2202 - val_accuracy: 0.0000e+00 - val_precision_1: 0.6471 - val_recall_1: 0.0712 - val_auc_1: 0.7763\n",
      "Epoch 8/30\n",
      "314/314 [==============================] - 1s 3ms/step - loss: 0.2090 - accuracy: 0.0000e+00 - precision_1: 0.6600 - recall_1: 0.0475 - auc_1: 0.8007 - val_loss: 0.2196 - val_accuracy: 0.0000e+00 - val_precision_1: 0.6389 - val_recall_1: 0.0744 - val_auc_1: 0.7790\n",
      "Epoch 9/30\n",
      "314/314 [==============================] - 1s 3ms/step - loss: 0.2080 - accuracy: 0.0000e+00 - precision_1: 0.7174 - recall_1: 0.0475 - auc_1: 0.8043 - val_loss: 0.2270 - val_accuracy: 0.0000e+00 - val_precision_1: 0.6047 - val_recall_1: 0.0841 - val_auc_1: 0.7644\n",
      "Epoch 10/30\n",
      "314/314 [==============================] - 1s 3ms/step - loss: 0.2071 - accuracy: 0.0000e+00 - precision_1: 0.6393 - recall_1: 0.0561 - auc_1: 0.8054 - val_loss: 0.2217 - val_accuracy: 0.0000e+00 - val_precision_1: 0.6364 - val_recall_1: 0.0680 - val_auc_1: 0.7822\n",
      "Epoch 11/30\n",
      "314/314 [==============================] - 1s 3ms/step - loss: 0.2052 - accuracy: 0.0000e+00 - precision_1: 0.6415 - recall_1: 0.0489 - auc_1: 0.8138 - val_loss: 0.2223 - val_accuracy: 0.0000e+00 - val_precision_1: 0.6364 - val_recall_1: 0.0680 - val_auc_1: 0.7818\n",
      "Epoch 12/30\n",
      "314/314 [==============================] - 1s 3ms/step - loss: 0.2041 - accuracy: 0.0000e+00 - precision_1: 0.6731 - recall_1: 0.0504 - auc_1: 0.8161 - val_loss: 0.2184 - val_accuracy: 0.0000e+00 - val_precision_1: 0.5814 - val_recall_1: 0.0809 - val_auc_1: 0.7855\n",
      "Epoch 13/30\n",
      "314/314 [==============================] - 1s 3ms/step - loss: 0.2031 - accuracy: 0.0000e+00 - precision_1: 0.6842 - recall_1: 0.0561 - auc_1: 0.8177 - val_loss: 0.2196 - val_accuracy: 0.0000e+00 - val_precision_1: 0.5581 - val_recall_1: 0.0777 - val_auc_1: 0.7841\n",
      "Epoch 14/30\n",
      "314/314 [==============================] - 1s 3ms/step - loss: 0.2010 - accuracy: 0.0000e+00 - precision_1: 0.7143 - recall_1: 0.0576 - auc_1: 0.8242 - val_loss: 0.2206 - val_accuracy: 0.0000e+00 - val_precision_1: 0.6154 - val_recall_1: 0.0777 - val_auc_1: 0.7829\n",
      "Epoch 15/30\n",
      "314/314 [==============================] - 1s 3ms/step - loss: 0.2007 - accuracy: 0.0000e+00 - precision_1: 0.7308 - recall_1: 0.0547 - auc_1: 0.8265 - val_loss: 0.2251 - val_accuracy: 0.0000e+00 - val_precision_1: 0.6129 - val_recall_1: 0.0615 - val_auc_1: 0.7647\n",
      "Epoch 16/30\n",
      "314/314 [==============================] - 1s 3ms/step - loss: 0.1999 - accuracy: 0.0000e+00 - precision_1: 0.7193 - recall_1: 0.0590 - auc_1: 0.8285 - val_loss: 0.2210 - val_accuracy: 0.0000e+00 - val_precision_1: 0.5098 - val_recall_1: 0.0841 - val_auc_1: 0.7817\n",
      "Epoch 17/30\n",
      "314/314 [==============================] - 1s 3ms/step - loss: 0.1991 - accuracy: 0.0000e+00 - precision_1: 0.6923 - recall_1: 0.0647 - auc_1: 0.8294 - val_loss: 0.2253 - val_accuracy: 0.0000e+00 - val_precision_1: 0.5152 - val_recall_1: 0.0550 - val_auc_1: 0.7825\n",
      "Epoch 18/30\n",
      "314/314 [==============================] - 1s 3ms/step - loss: 0.1985 - accuracy: 0.0000e+00 - precision_1: 0.6724 - recall_1: 0.0561 - auc_1: 0.8305 - val_loss: 0.2218 - val_accuracy: 0.0000e+00 - val_precision_1: 0.5714 - val_recall_1: 0.0647 - val_auc_1: 0.7833\n",
      "Epoch 19/30\n",
      "314/314 [==============================] - 1s 3ms/step - loss: 0.1975 - accuracy: 0.0000e+00 - precision_1: 0.7193 - recall_1: 0.0590 - auc_1: 0.8349 - val_loss: 0.2256 - val_accuracy: 0.0000e+00 - val_precision_1: 0.5833 - val_recall_1: 0.0680 - val_auc_1: 0.7708\n",
      "Epoch 20/30\n",
      "314/314 [==============================] - 1s 3ms/step - loss: 0.1957 - accuracy: 0.0000e+00 - precision_1: 0.7231 - recall_1: 0.0676 - auc_1: 0.8383 - val_loss: 0.2244 - val_accuracy: 0.0000e+00 - val_precision_1: 0.6364 - val_recall_1: 0.0680 - val_auc_1: 0.7761\n",
      "Epoch 21/30\n",
      "314/314 [==============================] - 1s 3ms/step - loss: 0.1957 - accuracy: 0.0000e+00 - precision_1: 0.7143 - recall_1: 0.0576 - auc_1: 0.8384 - val_loss: 0.2242 - val_accuracy: 0.0000e+00 - val_precision_1: 0.5283 - val_recall_1: 0.0906 - val_auc_1: 0.7755\n",
      "Epoch 22/30\n",
      "314/314 [==============================] - 1s 3ms/step - loss: 0.1948 - accuracy: 0.0000e+00 - precision_1: 0.7049 - recall_1: 0.0619 - auc_1: 0.8418 - val_loss: 0.2235 - val_accuracy: 0.0000e+00 - val_precision_1: 0.6471 - val_recall_1: 0.0712 - val_auc_1: 0.7743\n",
      "Epoch 23/30\n",
      "314/314 [==============================] - 1s 3ms/step - loss: 0.1941 - accuracy: 0.0000e+00 - precision_1: 0.7544 - recall_1: 0.0619 - auc_1: 0.8421 - val_loss: 0.2260 - val_accuracy: 0.0000e+00 - val_precision_1: 0.5435 - val_recall_1: 0.0809 - val_auc_1: 0.7715\n",
      "Epoch 24/30\n",
      "314/314 [==============================] - 1s 3ms/step - loss: 0.1928 - accuracy: 0.0000e+00 - precision_1: 0.6935 - recall_1: 0.0619 - auc_1: 0.8460 - val_loss: 0.2285 - val_accuracy: 0.0000e+00 - val_precision_1: 0.5854 - val_recall_1: 0.0777 - val_auc_1: 0.7800\n",
      "Epoch 25/30\n",
      "314/314 [==============================] - 1s 3ms/step - loss: 0.1927 - accuracy: 0.0000e+00 - precision_1: 0.7627 - recall_1: 0.0647 - auc_1: 0.8454 - val_loss: 0.2300 - val_accuracy: 0.0000e+00 - val_precision_1: 0.5319 - val_recall_1: 0.0809 - val_auc_1: 0.7747\n",
      "Epoch 26/30\n",
      "314/314 [==============================] - 1s 3ms/step - loss: 0.1924 - accuracy: 0.0000e+00 - precision_1: 0.7167 - recall_1: 0.0619 - auc_1: 0.8462 - val_loss: 0.2313 - val_accuracy: 0.0000e+00 - val_precision_1: 0.5179 - val_recall_1: 0.0939 - val_auc_1: 0.7737\n",
      "Epoch 27/30\n",
      "314/314 [==============================] - 1s 3ms/step - loss: 0.1929 - accuracy: 0.0000e+00 - precision_1: 0.6329 - recall_1: 0.0719 - auc_1: 0.8456 - val_loss: 0.2278 - val_accuracy: 0.0000e+00 - val_precision_1: 0.5455 - val_recall_1: 0.0971 - val_auc_1: 0.7735\n",
      "Epoch 28/30\n",
      "314/314 [==============================] - 1s 3ms/step - loss: 0.1905 - accuracy: 0.0000e+00 - precision_1: 0.7391 - recall_1: 0.0734 - auc_1: 0.8510 - val_loss: 0.2279 - val_accuracy: 0.0000e+00 - val_precision_1: 0.5625 - val_recall_1: 0.0874 - val_auc_1: 0.7760\n",
      "Epoch 29/30\n",
      "314/314 [==============================] - 1s 3ms/step - loss: 0.1909 - accuracy: 0.0000e+00 - precision_1: 0.7429 - recall_1: 0.0748 - auc_1: 0.8500 - val_loss: 0.2327 - val_accuracy: 0.0000e+00 - val_precision_1: 0.5532 - val_recall_1: 0.0841 - val_auc_1: 0.7728\n",
      "Epoch 30/30\n"
     ]
    },
    {
     "name": "stdout",
     "output_type": "stream",
     "text": [
      "314/314 [==============================] - 1s 3ms/step - loss: 0.1899 - accuracy: 0.0000e+00 - precision_1: 0.6622 - recall_1: 0.0705 - auc_1: 0.8528 - val_loss: 0.2257 - val_accuracy: 0.0000e+00 - val_precision_1: 0.5088 - val_recall_1: 0.0939 - val_auc_1: 0.7770\n"
     ]
    },
    {
     "data": {
      "text/plain": [
       "<tensorflow.python.keras.callbacks.History at 0x20994f84d00>"
      ]
     },
     "execution_count": 30,
     "metadata": {},
     "output_type": "execute_result"
    }
   ],
   "source": [
    "model.fit(X_train, y_train, validation_split=0.3, epochs=30)"
   ]
  },
  {
   "cell_type": "code",
   "execution_count": 31,
   "id": "2fd543d1",
   "metadata": {},
   "outputs": [
    {
     "name": "stdout",
     "output_type": "stream",
     "text": [
      "221/221 [==============================] - 0s 2ms/step - loss: 0.2348 - accuracy: 0.0000e+00 - precision_1: 0.4675 - recall_1: 0.0716 - auc_1: 0.7548\n"
     ]
    },
    {
     "data": {
      "text/plain": [
       "[0.23483610153198242,\n",
       " 0.0,\n",
       " 0.4675324559211731,\n",
       " 0.07157057523727417,\n",
       " 0.754752516746521]"
      ]
     },
     "execution_count": 31,
     "metadata": {},
     "output_type": "execute_result"
    }
   ],
   "source": [
    "model.evaluate(X_test, y_test)"
   ]
  },
  {
   "cell_type": "code",
   "execution_count": 32,
   "id": "2dd379f1",
   "metadata": {},
   "outputs": [],
   "source": [
    "from sklearn.metrics import confusion_matrix, ConfusionMatrixDisplay"
   ]
  },
  {
   "cell_type": "code",
   "execution_count": 33,
   "id": "aa306ccc",
   "metadata": {},
   "outputs": [],
   "source": [
    "y_pred = model.predict(X_test) > 0.5"
   ]
  },
  {
   "cell_type": "code",
   "execution_count": 34,
   "id": "6f71d2e2",
   "metadata": {},
   "outputs": [],
   "source": [
    "cm = confusion_matrix(y_test, y_pred)"
   ]
  },
  {
   "cell_type": "code",
   "execution_count": 35,
   "id": "0e4ec60b",
   "metadata": {},
   "outputs": [
    {
     "data": {
      "image/png": "[encoded data removed]",
      "text/plain": [
       "<Figure size 864x648 with 2 Axes>"
      ]
     },
     "metadata": {
      "needs_background": "light"
     },
     "output_type": "display_data"
    }
   ],
   "source": [
    "fig, ax = plt.subplots()\n",
    "fig.set_size_inches((12, 9))\n",
    "disp = ConfusionMatrixDisplay(cm)\n",
    "disp.plot(ax=ax, cmap=plt.cm.Blues)\n",
    "plt.grid(False)"
   ]
  },
  {
   "cell_type": "code",
   "execution_count": null,
   "id": "48e82145",
   "metadata": {},
   "outputs": [],
   "source": []
  }
 ],
 "metadata": {
  "kernelspec": {
   "display_name": "ml_ds_nn_env",
   "language": "python",
   "name": "ml_ds_nn_env"
  },
  "language_info": {
   "codemirror_mode": {
    "name": "ipython",
    "version": 3
   },
   "file_extension": ".py",
   "mimetype": "text/x-python",
   "name": "python",
   "nbconvert_exporter": "python",
   "pygments_lexer": "ipython3",
   "version": "3.9.10"
  },
  "varInspector": {
   "cols": {
    "lenName": 16,
    "lenType": 16,
    "lenVar": 40
   },
   "kernels_config": {
    "python": {
     "delete_cmd_postfix": "",
     "delete_cmd_prefix": "del ",
     "library": "var_list.py",
     "varRefreshCmd": "print(var_dic_list())"
    },
    "r": {
     "delete_cmd_postfix": ") ",
     "delete_cmd_prefix": "rm(",
     "library": "var_list.r",
     "varRefreshCmd": "cat(var_dic_list()) "
    }
   },
   "types_to_exclude": [
    "module",
    "function",
    "builtin_function_or_method",
    "instance",
    "_Feature"
   ],
   "window_display": false
  }
 },
 "nbformat": 4,
 "nbformat_minor": 5
}
