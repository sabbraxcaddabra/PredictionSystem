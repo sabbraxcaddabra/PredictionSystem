{
 "cells": [
  {
   "cell_type": "code",
   "execution_count": 1,
   "id": "5b3650aa",
   "metadata": {},
   "outputs": [
    {
     "name": "stderr",
     "output_type": "stream",
     "text": [
      "C:\\Users\\alway\\anaconda3\\envs\\ml_ds_nn_evn\\lib\\site-packages\\xgboost\\compat.py:36: FutureWarning: pandas.Int64Index is deprecated and will be removed from pandas in a future version. Use pandas.Index with the appropriate dtype instead.\n",
      "  from pandas import MultiIndex, Int64Index\n"
     ]
    }
   ],
   "source": [
    "import os\n",
    "import numpy as np\n",
    "import pandas as pd\n",
    "\n",
    "import sklearn\n",
    "import xgboost as xgb\n",
    "\n",
    "from sklearn.ensemble import GradientBoostingClassifier\n",
    "from sklearn.preprocessing import LabelEncoder, OneHotEncoder\n",
    "from sklearn.model_selection import train_test_split, cross_validate, StratifiedKFold\n",
    "from sklearn.metrics import accuracy_score, precision_score, recall_score, confusion_matrix, ConfusionMatrixDisplay\n",
    "\n",
    "import matplotlib.pyplot as plt\n",
    "import seaborn as sns\n",
    "sns.set()\n",
    "%matplotlib inline"
   ]
  },
  {
   "cell_type": "code",
   "execution_count": 3,
   "id": "3072bf23",
   "metadata": {},
   "outputs": [],
   "source": [
    "df = pd.read_csv('../Данные/out.csv', index_col=0)"
   ]
  },
  {
   "cell_type": "code",
   "execution_count": 4,
   "id": "d8b76901",
   "metadata": {},
   "outputs": [
    {
     "data": {
      "text/html": [
       "<div>\n",
       "<style scoped>\n",
       "    .dataframe tbody tr th:only-of-type {\n",
       "        vertical-align: middle;\n",
       "    }\n",
       "\n",
       "    .dataframe tbody tr th {\n",
       "        vertical-align: top;\n",
       "    }\n",
       "\n",
       "    .dataframe thead th {\n",
       "        text-align: right;\n",
       "    }\n",
       "</style>\n",
       "<table border=\"1\" class=\"dataframe\">\n",
       "  <thead>\n",
       "    <tr style=\"text-align: right;\">\n",
       "      <th></th>\n",
       "      <th>abiturient_id</th>\n",
       "      <th>spec_id</th>\n",
       "      <th>status</th>\n",
       "      <th>predmet_1</th>\n",
       "      <th>predmet_2</th>\n",
       "      <th>predmet_3</th>\n",
       "      <th>predmet_1_bal</th>\n",
       "      <th>predmet_2_bal</th>\n",
       "      <th>predmet_3_bal</th>\n",
       "      <th>edu_form</th>\n",
       "      <th>fin_type</th>\n",
       "      <th>sum_bal</th>\n",
       "    </tr>\n",
       "  </thead>\n",
       "  <tbody>\n",
       "    <tr>\n",
       "      <th>1</th>\n",
       "      <td>202100004</td>\n",
       "      <td>30</td>\n",
       "      <td>1</td>\n",
       "      <td>Математика</td>\n",
       "      <td>Физика</td>\n",
       "      <td>Русский язык</td>\n",
       "      <td>68</td>\n",
       "      <td>61</td>\n",
       "      <td>82</td>\n",
       "      <td>1</td>\n",
       "      <td>1</td>\n",
       "      <td>190</td>\n",
       "    </tr>\n",
       "    <tr>\n",
       "      <th>2</th>\n",
       "      <td>202100004</td>\n",
       "      <td>31</td>\n",
       "      <td>0</td>\n",
       "      <td>Математика</td>\n",
       "      <td>Физика</td>\n",
       "      <td>Русский язык</td>\n",
       "      <td>68</td>\n",
       "      <td>61</td>\n",
       "      <td>82</td>\n",
       "      <td>1</td>\n",
       "      <td>1</td>\n",
       "      <td>190</td>\n",
       "    </tr>\n",
       "    <tr>\n",
       "      <th>3</th>\n",
       "      <td>202100004</td>\n",
       "      <td>12</td>\n",
       "      <td>0</td>\n",
       "      <td>Математика</td>\n",
       "      <td>Физика</td>\n",
       "      <td>Русский язык</td>\n",
       "      <td>68</td>\n",
       "      <td>61</td>\n",
       "      <td>82</td>\n",
       "      <td>1</td>\n",
       "      <td>1</td>\n",
       "      <td>190</td>\n",
       "    </tr>\n",
       "    <tr>\n",
       "      <th>4</th>\n",
       "      <td>202100004</td>\n",
       "      <td>11</td>\n",
       "      <td>0</td>\n",
       "      <td>Математика</td>\n",
       "      <td>Физика</td>\n",
       "      <td>Русский язык</td>\n",
       "      <td>68</td>\n",
       "      <td>61</td>\n",
       "      <td>82</td>\n",
       "      <td>1</td>\n",
       "      <td>1</td>\n",
       "      <td>190</td>\n",
       "    </tr>\n",
       "    <tr>\n",
       "      <th>5</th>\n",
       "      <td>202100004</td>\n",
       "      <td>22</td>\n",
       "      <td>0</td>\n",
       "      <td>Математика</td>\n",
       "      <td>Физика</td>\n",
       "      <td>Русский язык</td>\n",
       "      <td>68</td>\n",
       "      <td>61</td>\n",
       "      <td>82</td>\n",
       "      <td>1</td>\n",
       "      <td>1</td>\n",
       "      <td>190</td>\n",
       "    </tr>\n",
       "  </tbody>\n",
       "</table>\n",
       "</div>"
      ],
      "text/plain": [
       "   abiturient_id  spec_id  status   predmet_1 predmet_2     predmet_3  \\\n",
       "1      202100004       30       1  Математика    Физика  Русский язык   \n",
       "2      202100004       31       0  Математика    Физика  Русский язык   \n",
       "3      202100004       12       0  Математика    Физика  Русский язык   \n",
       "4      202100004       11       0  Математика    Физика  Русский язык   \n",
       "5      202100004       22       0  Математика    Физика  Русский язык   \n",
       "\n",
       "   predmet_1_bal  predmet_2_bal  predmet_3_bal  edu_form  fin_type  sum_bal  \n",
       "1             68             61             82         1         1      190  \n",
       "2             68             61             82         1         1      190  \n",
       "3             68             61             82         1         1      190  \n",
       "4             68             61             82         1         1      190  \n",
       "5             68             61             82         1         1      190  "
      ]
     },
     "execution_count": 4,
     "metadata": {},
     "output_type": "execute_result"
    }
   ],
   "source": [
    "df.head()"
   ]
  },
  {
   "cell_type": "code",
   "execution_count": 5,
   "id": "04d5d285",
   "metadata": {},
   "outputs": [],
   "source": [
    "y = df['status']\n",
    "X = df.drop(['abiturient_id', 'status'], axis=1)"
   ]
  },
  {
   "cell_type": "code",
   "execution_count": 6,
   "id": "283f576f",
   "metadata": {},
   "outputs": [
    {
     "data": {
      "text/html": [
       "<div>\n",
       "<style scoped>\n",
       "    .dataframe tbody tr th:only-of-type {\n",
       "        vertical-align: middle;\n",
       "    }\n",
       "\n",
       "    .dataframe tbody tr th {\n",
       "        vertical-align: top;\n",
       "    }\n",
       "\n",
       "    .dataframe thead th {\n",
       "        text-align: right;\n",
       "    }\n",
       "</style>\n",
       "<table border=\"1\" class=\"dataframe\">\n",
       "  <thead>\n",
       "    <tr style=\"text-align: right;\">\n",
       "      <th></th>\n",
       "      <th>spec_id</th>\n",
       "      <th>predmet_1</th>\n",
       "      <th>predmet_2</th>\n",
       "      <th>predmet_3</th>\n",
       "      <th>predmet_1_bal</th>\n",
       "      <th>predmet_2_bal</th>\n",
       "      <th>predmet_3_bal</th>\n",
       "      <th>edu_form</th>\n",
       "      <th>fin_type</th>\n",
       "      <th>sum_bal</th>\n",
       "    </tr>\n",
       "  </thead>\n",
       "  <tbody>\n",
       "    <tr>\n",
       "      <th>1</th>\n",
       "      <td>30</td>\n",
       "      <td>Математика</td>\n",
       "      <td>Физика</td>\n",
       "      <td>Русский язык</td>\n",
       "      <td>68</td>\n",
       "      <td>61</td>\n",
       "      <td>82</td>\n",
       "      <td>1</td>\n",
       "      <td>1</td>\n",
       "      <td>190</td>\n",
       "    </tr>\n",
       "    <tr>\n",
       "      <th>2</th>\n",
       "      <td>31</td>\n",
       "      <td>Математика</td>\n",
       "      <td>Физика</td>\n",
       "      <td>Русский язык</td>\n",
       "      <td>68</td>\n",
       "      <td>61</td>\n",
       "      <td>82</td>\n",
       "      <td>1</td>\n",
       "      <td>1</td>\n",
       "      <td>190</td>\n",
       "    </tr>\n",
       "    <tr>\n",
       "      <th>3</th>\n",
       "      <td>12</td>\n",
       "      <td>Математика</td>\n",
       "      <td>Физика</td>\n",
       "      <td>Русский язык</td>\n",
       "      <td>68</td>\n",
       "      <td>61</td>\n",
       "      <td>82</td>\n",
       "      <td>1</td>\n",
       "      <td>1</td>\n",
       "      <td>190</td>\n",
       "    </tr>\n",
       "    <tr>\n",
       "      <th>4</th>\n",
       "      <td>11</td>\n",
       "      <td>Математика</td>\n",
       "      <td>Физика</td>\n",
       "      <td>Русский язык</td>\n",
       "      <td>68</td>\n",
       "      <td>61</td>\n",
       "      <td>82</td>\n",
       "      <td>1</td>\n",
       "      <td>1</td>\n",
       "      <td>190</td>\n",
       "    </tr>\n",
       "    <tr>\n",
       "      <th>5</th>\n",
       "      <td>22</td>\n",
       "      <td>Математика</td>\n",
       "      <td>Физика</td>\n",
       "      <td>Русский язык</td>\n",
       "      <td>68</td>\n",
       "      <td>61</td>\n",
       "      <td>82</td>\n",
       "      <td>1</td>\n",
       "      <td>1</td>\n",
       "      <td>190</td>\n",
       "    </tr>\n",
       "  </tbody>\n",
       "</table>\n",
       "</div>"
      ],
      "text/plain": [
       "   spec_id   predmet_1 predmet_2     predmet_3  predmet_1_bal  predmet_2_bal  \\\n",
       "1       30  Математика    Физика  Русский язык             68             61   \n",
       "2       31  Математика    Физика  Русский язык             68             61   \n",
       "3       12  Математика    Физика  Русский язык             68             61   \n",
       "4       11  Математика    Физика  Русский язык             68             61   \n",
       "5       22  Математика    Физика  Русский язык             68             61   \n",
       "\n",
       "   predmet_3_bal  edu_form  fin_type  sum_bal  \n",
       "1             82         1         1      190  \n",
       "2             82         1         1      190  \n",
       "3             82         1         1      190  \n",
       "4             82         1         1      190  \n",
       "5             82         1         1      190  "
      ]
     },
     "execution_count": 6,
     "metadata": {},
     "output_type": "execute_result"
    }
   ],
   "source": [
    "X.head()"
   ]
  },
  {
   "cell_type": "code",
   "execution_count": 7,
   "id": "1bad7f57",
   "metadata": {},
   "outputs": [],
   "source": [
    "X_train, X_test, y_train, y_test = train_test_split(X, y, test_size=0.33, random_state=42)"
   ]
  },
  {
   "cell_type": "code",
   "execution_count": 8,
   "id": "16a0ff40",
   "metadata": {},
   "outputs": [
    {
     "data": {
      "text/html": [
       "<div>\n",
       "<style scoped>\n",
       "    .dataframe tbody tr th:only-of-type {\n",
       "        vertical-align: middle;\n",
       "    }\n",
       "\n",
       "    .dataframe tbody tr th {\n",
       "        vertical-align: top;\n",
       "    }\n",
       "\n",
       "    .dataframe thead th {\n",
       "        text-align: right;\n",
       "    }\n",
       "</style>\n",
       "<table border=\"1\" class=\"dataframe\">\n",
       "  <thead>\n",
       "    <tr style=\"text-align: right;\">\n",
       "      <th></th>\n",
       "      <th>spec_id</th>\n",
       "      <th>predmet_1</th>\n",
       "      <th>predmet_2</th>\n",
       "      <th>predmet_3</th>\n",
       "      <th>predmet_1_bal</th>\n",
       "      <th>predmet_2_bal</th>\n",
       "      <th>predmet_3_bal</th>\n",
       "      <th>edu_form</th>\n",
       "      <th>fin_type</th>\n",
       "      <th>sum_bal</th>\n",
       "    </tr>\n",
       "  </thead>\n",
       "  <tbody>\n",
       "    <tr>\n",
       "      <th>20632</th>\n",
       "      <td>20</td>\n",
       "      <td>Математика</td>\n",
       "      <td>Физика</td>\n",
       "      <td>Русский язык</td>\n",
       "      <td>76</td>\n",
       "      <td>87</td>\n",
       "      <td>71</td>\n",
       "      <td>1</td>\n",
       "      <td>1</td>\n",
       "      <td>250</td>\n",
       "    </tr>\n",
       "    <tr>\n",
       "      <th>10029</th>\n",
       "      <td>6</td>\n",
       "      <td>Математика</td>\n",
       "      <td>Физика</td>\n",
       "      <td>Русский язык</td>\n",
       "      <td>72</td>\n",
       "      <td>64</td>\n",
       "      <td>92</td>\n",
       "      <td>1</td>\n",
       "      <td>1</td>\n",
       "      <td>200</td>\n",
       "    </tr>\n",
       "    <tr>\n",
       "      <th>13196</th>\n",
       "      <td>4</td>\n",
       "      <td>Математика</td>\n",
       "      <td>Информатика и ИКТ</td>\n",
       "      <td>Русский язык</td>\n",
       "      <td>74</td>\n",
       "      <td>78</td>\n",
       "      <td>80</td>\n",
       "      <td>1</td>\n",
       "      <td>1</td>\n",
       "      <td>230</td>\n",
       "    </tr>\n",
       "    <tr>\n",
       "      <th>19609</th>\n",
       "      <td>27</td>\n",
       "      <td>Математика</td>\n",
       "      <td>Физика</td>\n",
       "      <td>Русский язык</td>\n",
       "      <td>72</td>\n",
       "      <td>80</td>\n",
       "      <td>94</td>\n",
       "      <td>1</td>\n",
       "      <td>1</td>\n",
       "      <td>232</td>\n",
       "    </tr>\n",
       "    <tr>\n",
       "      <th>8624</th>\n",
       "      <td>2</td>\n",
       "      <td>Математика</td>\n",
       "      <td>Информатика и ИКТ</td>\n",
       "      <td>Русский язык</td>\n",
       "      <td>56</td>\n",
       "      <td>48</td>\n",
       "      <td>54</td>\n",
       "      <td>1</td>\n",
       "      <td>2</td>\n",
       "      <td>152</td>\n",
       "    </tr>\n",
       "  </tbody>\n",
       "</table>\n",
       "</div>"
      ],
      "text/plain": [
       "       spec_id   predmet_1          predmet_2     predmet_3  predmet_1_bal  \\\n",
       "20632       20  Математика             Физика  Русский язык             76   \n",
       "10029        6  Математика             Физика  Русский язык             72   \n",
       "13196        4  Математика  Информатика и ИКТ  Русский язык             74   \n",
       "19609       27  Математика             Физика  Русский язык             72   \n",
       "8624         2  Математика  Информатика и ИКТ  Русский язык             56   \n",
       "\n",
       "       predmet_2_bal  predmet_3_bal  edu_form  fin_type  sum_bal  \n",
       "20632             87             71         1         1      250  \n",
       "10029             64             92         1         1      200  \n",
       "13196             78             80         1         1      230  \n",
       "19609             80             94         1         1      232  \n",
       "8624              48             54         1         2      152  "
      ]
     },
     "execution_count": 8,
     "metadata": {},
     "output_type": "execute_result"
    }
   ],
   "source": [
    "X_train.head()"
   ]
  },
  {
   "cell_type": "code",
   "execution_count": 9,
   "id": "1645a66e",
   "metadata": {},
   "outputs": [],
   "source": [
    "spec_id_enc = LabelEncoder()\n",
    "predmet_1_enc = LabelEncoder()\n",
    "predmet_2_enc = LabelEncoder()\n",
    "predmet_3_enc = LabelEncoder()\n",
    "edu_form_enc = LabelEncoder()\n",
    "fin_type_enc = LabelEncoder()\n",
    "encoders = [\n",
    "    spec_id_enc,\n",
    "    predmet_1_enc,\n",
    "    predmet_2_enc,\n",
    "    predmet_3_enc,\n",
    "    edu_form_enc,\n",
    "    fin_type_enc\n",
    "]"
   ]
  },
  {
   "cell_type": "code",
   "execution_count": 10,
   "id": "1c689be4",
   "metadata": {},
   "outputs": [],
   "source": [
    "categorical_vals = [\n",
    "    'spec_id',\n",
    "    'predmet_1',\n",
    "    'predmet_2',\n",
    "    'predmet_3',\n",
    "    'edu_form',\n",
    "    'fin_type'\n",
    "]"
   ]
  },
  {
   "cell_type": "code",
   "execution_count": 11,
   "id": "e23aa690",
   "metadata": {},
   "outputs": [],
   "source": [
    "for enc, val in zip(encoders, categorical_vals):\n",
    "    enc.fit(X_train[val])\n",
    "    X_train[val] = enc.transform(X_train[val])\n",
    "    X_test[val] = enc.transform(X_test[val])"
   ]
  },
  {
   "cell_type": "code",
   "execution_count": 12,
   "id": "eceeca62",
   "metadata": {},
   "outputs": [
    {
     "data": {
      "text/html": [
       "<div>\n",
       "<style scoped>\n",
       "    .dataframe tbody tr th:only-of-type {\n",
       "        vertical-align: middle;\n",
       "    }\n",
       "\n",
       "    .dataframe tbody tr th {\n",
       "        vertical-align: top;\n",
       "    }\n",
       "\n",
       "    .dataframe thead th {\n",
       "        text-align: right;\n",
       "    }\n",
       "</style>\n",
       "<table border=\"1\" class=\"dataframe\">\n",
       "  <thead>\n",
       "    <tr style=\"text-align: right;\">\n",
       "      <th></th>\n",
       "      <th>spec_id</th>\n",
       "      <th>predmet_1</th>\n",
       "      <th>predmet_2</th>\n",
       "      <th>predmet_3</th>\n",
       "      <th>predmet_1_bal</th>\n",
       "      <th>predmet_2_bal</th>\n",
       "      <th>predmet_3_bal</th>\n",
       "      <th>edu_form</th>\n",
       "      <th>fin_type</th>\n",
       "      <th>sum_bal</th>\n",
       "    </tr>\n",
       "  </thead>\n",
       "  <tbody>\n",
       "    <tr>\n",
       "      <th>20632</th>\n",
       "      <td>18</td>\n",
       "      <td>1</td>\n",
       "      <td>4</td>\n",
       "      <td>1</td>\n",
       "      <td>76</td>\n",
       "      <td>87</td>\n",
       "      <td>71</td>\n",
       "      <td>0</td>\n",
       "      <td>0</td>\n",
       "      <td>250</td>\n",
       "    </tr>\n",
       "    <tr>\n",
       "      <th>10029</th>\n",
       "      <td>5</td>\n",
       "      <td>1</td>\n",
       "      <td>4</td>\n",
       "      <td>1</td>\n",
       "      <td>72</td>\n",
       "      <td>64</td>\n",
       "      <td>92</td>\n",
       "      <td>0</td>\n",
       "      <td>0</td>\n",
       "      <td>200</td>\n",
       "    </tr>\n",
       "    <tr>\n",
       "      <th>13196</th>\n",
       "      <td>3</td>\n",
       "      <td>1</td>\n",
       "      <td>1</td>\n",
       "      <td>1</td>\n",
       "      <td>74</td>\n",
       "      <td>78</td>\n",
       "      <td>80</td>\n",
       "      <td>0</td>\n",
       "      <td>0</td>\n",
       "      <td>230</td>\n",
       "    </tr>\n",
       "    <tr>\n",
       "      <th>19609</th>\n",
       "      <td>25</td>\n",
       "      <td>1</td>\n",
       "      <td>4</td>\n",
       "      <td>1</td>\n",
       "      <td>72</td>\n",
       "      <td>80</td>\n",
       "      <td>94</td>\n",
       "      <td>0</td>\n",
       "      <td>0</td>\n",
       "      <td>232</td>\n",
       "    </tr>\n",
       "    <tr>\n",
       "      <th>8624</th>\n",
       "      <td>1</td>\n",
       "      <td>1</td>\n",
       "      <td>1</td>\n",
       "      <td>1</td>\n",
       "      <td>56</td>\n",
       "      <td>48</td>\n",
       "      <td>54</td>\n",
       "      <td>0</td>\n",
       "      <td>1</td>\n",
       "      <td>152</td>\n",
       "    </tr>\n",
       "  </tbody>\n",
       "</table>\n",
       "</div>"
      ],
      "text/plain": [
       "       spec_id  predmet_1  predmet_2  predmet_3  predmet_1_bal  predmet_2_bal  \\\n",
       "20632       18          1          4          1             76             87   \n",
       "10029        5          1          4          1             72             64   \n",
       "13196        3          1          1          1             74             78   \n",
       "19609       25          1          4          1             72             80   \n",
       "8624         1          1          1          1             56             48   \n",
       "\n",
       "       predmet_3_bal  edu_form  fin_type  sum_bal  \n",
       "20632             71         0         0      250  \n",
       "10029             92         0         0      200  \n",
       "13196             80         0         0      230  \n",
       "19609             94         0         0      232  \n",
       "8624              54         0         1      152  "
      ]
     },
     "execution_count": 12,
     "metadata": {},
     "output_type": "execute_result"
    }
   ],
   "source": [
    "X_train.head()"
   ]
  },
  {
   "cell_type": "code",
   "execution_count": 13,
   "id": "1f6649ff",
   "metadata": {},
   "outputs": [],
   "source": [
    "gbm_clf = GradientBoostingClassifier(max_depth=5, max_features=5)"
   ]
  },
  {
   "cell_type": "code",
   "execution_count": 14,
   "id": "f1112932",
   "metadata": {},
   "outputs": [
    {
     "data": {
      "text/plain": [
       "GradientBoostingClassifier(max_depth=5, max_features=5)"
      ]
     },
     "execution_count": 14,
     "metadata": {},
     "output_type": "execute_result"
    }
   ],
   "source": [
    "gbm_clf.fit(X_train, y_train)"
   ]
  },
  {
   "cell_type": "code",
   "execution_count": 15,
   "id": "74b598af",
   "metadata": {},
   "outputs": [],
   "source": [
    "y_pred = gbm_clf.predict(X_test)"
   ]
  },
  {
   "cell_type": "code",
   "execution_count": 16,
   "id": "fad4a3e7",
   "metadata": {},
   "outputs": [],
   "source": [
    "cnf_mt = confusion_matrix(y_test, y_pred) "
   ]
  },
  {
   "cell_type": "code",
   "execution_count": 17,
   "id": "d2167f99",
   "metadata": {},
   "outputs": [
    {
     "data": {
      "image/png": "[encoded data removed]",
      "text/plain": [
       "<Figure size 864x648 with 2 Axes>"
      ]
     },
     "metadata": {
      "needs_background": "light"
     },
     "output_type": "display_data"
    }
   ],
   "source": [
    "fig, ax = plt.subplots()\n",
    "fig.set_size_inches((12, 9))\n",
    "disp = ConfusionMatrixDisplay(cnf_mt)\n",
    "disp.plot(ax=ax, cmap=plt.cm.Blues)\n",
    "plt.grid(False)"
   ]
  },
  {
   "cell_type": "markdown",
   "id": "09629734",
   "metadata": {},
   "source": [
    "Обучающая выборка"
   ]
  },
  {
   "cell_type": "code",
   "execution_count": 18,
   "id": "f468cd9f",
   "metadata": {},
   "outputs": [
    {
     "data": {
      "text/plain": [
       "0.9415588954910871"
      ]
     },
     "execution_count": 18,
     "metadata": {},
     "output_type": "execute_result"
    }
   ],
   "source": [
    "accuracy_score(y_train, gbm_clf.predict(X_train))"
   ]
  },
  {
   "cell_type": "code",
   "execution_count": 19,
   "id": "519d7a13",
   "metadata": {},
   "outputs": [
    {
     "data": {
      "text/plain": [
       "0.9415204678362573"
      ]
     },
     "execution_count": 19,
     "metadata": {},
     "output_type": "execute_result"
    }
   ],
   "source": [
    "precision_score(y_train, gbm_clf.predict(X_train))"
   ]
  },
  {
   "cell_type": "code",
   "execution_count": 20,
   "id": "92b00aaa",
   "metadata": {},
   "outputs": [
    {
     "data": {
      "text/plain": [
       "0.16312056737588654"
      ]
     },
     "execution_count": 20,
     "metadata": {},
     "output_type": "execute_result"
    }
   ],
   "source": [
    "recall_score(y_train, gbm_clf.predict(X_train))"
   ]
  },
  {
   "cell_type": "markdown",
   "id": "4c4c1c6f",
   "metadata": {},
   "source": [
    "Тестовая выборка"
   ]
  },
  {
   "cell_type": "code",
   "execution_count": 21,
   "id": "a64983cd",
   "metadata": {},
   "outputs": [
    {
     "data": {
      "text/plain": [
       "0.9256315640079478"
      ]
     },
     "execution_count": 21,
     "metadata": {},
     "output_type": "execute_result"
    }
   ],
   "source": [
    "accuracy_score(y_test, y_pred)"
   ]
  },
  {
   "cell_type": "code",
   "execution_count": 22,
   "id": "d0a18ed7",
   "metadata": {},
   "outputs": [
    {
     "data": {
      "text/plain": [
       "0.47435897435897434"
      ]
     },
     "execution_count": 22,
     "metadata": {},
     "output_type": "execute_result"
    }
   ],
   "source": [
    "precision_score(y_test, y_pred)"
   ]
  },
  {
   "cell_type": "code",
   "execution_count": 23,
   "id": "0ceba5ba",
   "metadata": {},
   "outputs": [
    {
     "data": {
      "text/plain": [
       "0.07115384615384615"
      ]
     },
     "execution_count": 23,
     "metadata": {},
     "output_type": "execute_result"
    }
   ],
   "source": [
    "recall_score(y_test, y_pred)"
   ]
  },
  {
   "cell_type": "code",
   "execution_count": null,
   "id": "d880bc83",
   "metadata": {},
   "outputs": [],
   "source": []
  }
 ],
 "metadata": {
  "kernelspec": {
   "display_name": "ml_ds_nn_env",
   "language": "python",
   "name": "ml_ds_nn_env"
  },
  "language_info": {
   "codemirror_mode": {
    "name": "ipython",
    "version": 3
   },
   "file_extension": ".py",
   "mimetype": "text/x-python",
   "name": "python",
   "nbconvert_exporter": "python",
   "pygments_lexer": "ipython3",
   "version": "3.9.10"
  },
  "varInspector": {
   "cols": {
    "lenName": 16,
    "lenType": 16,
    "lenVar": 40
   },
   "kernels_config": {
    "python": {
     "delete_cmd_postfix": "",
     "delete_cmd_prefix": "del ",
     "library": "var_list.py",
     "varRefreshCmd": "print(var_dic_list())"
    },
    "r": {
     "delete_cmd_postfix": ") ",
     "delete_cmd_prefix": "rm(",
     "library": "var_list.r",
     "varRefreshCmd": "cat(var_dic_list()) "
    }
   },
   "types_to_exclude": [
    "module",
    "function",
    "builtin_function_or_method",
    "instance",
    "_Feature"
   ],
   "window_display": false
  }
 },
 "nbformat": 4,
 "nbformat_minor": 5
}
